{
 "cells": [
  {
   "cell_type": "code",
   "execution_count": 4,
   "metadata": {},
   "outputs": [],
   "source": [
    "import pandas as pd\n",
    "import requests\n",
    "from bs4 import BeautifulSoup"
   ]
  },
  {
   "cell_type": "markdown",
   "metadata": {},
   "source": [
    "## Web Scrapping"
   ]
  },
  {
   "cell_type": "markdown",
   "metadata": {},
   "source": [
    "- El archivo games que tenemos limpio se compone de varias columnas relevantes sobre cada videojuegos, sin embargo tenemos un problema a la hora de realizar el Content-based filtering (item-item) y es que no tenemos explicitamente lo mas importante, el contenido o algun texto que nos especifique de que trata cada producto. Lo que si poseemos es el link que nos redirije al apartado del videojuego en la pagina oficial de steam cuyo recurso utilizaremos para extraer la sinopsis del juego."
   ]
  },
  {
   "cell_type": "code",
   "execution_count": 59,
   "metadata": {},
   "outputs": [],
   "source": [
    "games = pd.read_parquet('./clean_datasets/all_dfs.parquet') # Importamos"
   ]
  },
  {
   "cell_type": "code",
   "execution_count": 61,
   "metadata": {},
   "outputs": [],
   "source": [
    "games.drop(columns=['posted','user_id','user_url','item_id','recommend','review','sentiment','developer','price'],inplace=True) # Eliminamos las columnas que no necesitamos"
   ]
  },
  {
   "cell_type": "code",
   "execution_count": 62,
   "metadata": {},
   "outputs": [
    {
     "name": "stdout",
     "output_type": "stream",
     "text": [
      "Pre - Filas duplicadas: 26839\n",
      "Pos - Filas duplicadas: 0\n"
     ]
    }
   ],
   "source": [
    "print(f'Pre - Filas duplicadas: {games.duplicated().sum()}') ## Validamos si existen algunos registros duplicados\n",
    "games.drop_duplicates(inplace=True) # Los eliminamos\n",
    "games.reset_index(drop=True,inplace=True) # Reseteamos los indices\n",
    "print(f'Pos - Filas duplicadas: {games.duplicated().sum()}') ## Verificamos"
   ]
  },
  {
   "cell_type": "code",
   "execution_count": 63,
   "metadata": {},
   "outputs": [
    {
     "data": {
      "text/html": [
       "<div>\n",
       "<style scoped>\n",
       "    .dataframe tbody tr th:only-of-type {\n",
       "        vertical-align: middle;\n",
       "    }\n",
       "\n",
       "    .dataframe tbody tr th {\n",
       "        vertical-align: top;\n",
       "    }\n",
       "\n",
       "    .dataframe thead th {\n",
       "        text-align: right;\n",
       "    }\n",
       "</style>\n",
       "<table border=\"1\" class=\"dataframe\">\n",
       "  <thead>\n",
       "    <tr style=\"text-align: right;\">\n",
       "      <th></th>\n",
       "      <th>game_title</th>\n",
       "      <th>id</th>\n",
       "      <th>url</th>\n",
       "    </tr>\n",
       "  </thead>\n",
       "  <tbody>\n",
       "    <tr>\n",
       "      <th>0</th>\n",
       "      <td>Killing Floor</td>\n",
       "      <td>1250</td>\n",
       "      <td>http://store.steampowered.com/app/1250/Killing...</td>\n",
       "    </tr>\n",
       "    <tr>\n",
       "      <th>1</th>\n",
       "      <td>Zeno Clash</td>\n",
       "      <td>22200</td>\n",
       "      <td>http://store.steampowered.com/app/22200/Zeno_C...</td>\n",
       "    </tr>\n",
       "    <tr>\n",
       "      <th>2</th>\n",
       "      <td>Euro Truck Simulator 2</td>\n",
       "      <td>227300</td>\n",
       "      <td>http://store.steampowered.com/app/227300/Euro_...</td>\n",
       "    </tr>\n",
       "    <tr>\n",
       "      <th>3</th>\n",
       "      <td>Papers, Please</td>\n",
       "      <td>239030</td>\n",
       "      <td>http://store.steampowered.com/app/239030/Paper...</td>\n",
       "    </tr>\n",
       "    <tr>\n",
       "      <th>4</th>\n",
       "      <td>Risk of Rain</td>\n",
       "      <td>248820</td>\n",
       "      <td>http://store.steampowered.com/app/248820/Risk_...</td>\n",
       "    </tr>\n",
       "  </tbody>\n",
       "</table>\n",
       "</div>"
      ],
      "text/plain": [
       "               game_title      id  \\\n",
       "0           Killing Floor    1250   \n",
       "1              Zeno Clash   22200   \n",
       "2  Euro Truck Simulator 2  227300   \n",
       "3          Papers, Please  239030   \n",
       "4            Risk of Rain  248820   \n",
       "\n",
       "                                                 url  \n",
       "0  http://store.steampowered.com/app/1250/Killing...  \n",
       "1  http://store.steampowered.com/app/22200/Zeno_C...  \n",
       "2  http://store.steampowered.com/app/227300/Euro_...  \n",
       "3  http://store.steampowered.com/app/239030/Paper...  \n",
       "4  http://store.steampowered.com/app/248820/Risk_...  "
      ]
     },
     "execution_count": 63,
     "metadata": {},
     "output_type": "execute_result"
    }
   ],
   "source": [
    "games.head() ## Vistazo rapido"
   ]
  },
  {
   "cell_type": "code",
   "execution_count": 64,
   "metadata": {},
   "outputs": [],
   "source": [
    "all = [] ## Creamos la variable donde se almacenaran los fragemntos descriptivos de los videojuegos\n",
    "\n",
    "for x in games.itertuples():\n",
    "  page = requests.get(x.url) ## Accedemos a la pagina\n",
    "  soup = BeautifulSoup(page.content,'html.parser') ## Configuramos la sopa para que pueda leer el contenido de la pagina\n",
    "  res = soup.find('div',class_='game_description_snippet') ## Accedemos al div con la clase 'game_description_snippet' para obener el resumen del juego\n",
    "\n",
    "  if res==None: # Para que el largor de la lista concuerde con la cantidad de registros en el DataFrame\n",
    "    value = \"_\" \n",
    "  else:\n",
    "    value = res.text.strip()\n",
    "  \n",
    "  all.append(value) ## Se agrega el resumen a la lista\n",
    "\n",
    "games['description'] = pd.Series(all) ## Se añade al DataFrame"
   ]
  },
  {
   "cell_type": "code",
   "execution_count": 65,
   "metadata": {},
   "outputs": [
    {
     "name": "stdout",
     "output_type": "stream",
     "text": [
      "<class 'pandas.core.frame.DataFrame'>\n",
      "RangeIndex: 1936 entries, 0 to 1935\n",
      "Data columns (total 4 columns):\n",
      " #   Column       Non-Null Count  Dtype \n",
      "---  ------       --------------  ----- \n",
      " 0   game_title   1936 non-null   object\n",
      " 1   id           1936 non-null   object\n",
      " 2   url          1936 non-null   object\n",
      " 3   description  1936 non-null   object\n",
      "dtypes: object(4)\n",
      "memory usage: 60.6+ KB\n"
     ]
    }
   ],
   "source": [
    "games.info() ## Vistazo rapido"
   ]
  },
  {
   "cell_type": "code",
   "execution_count": 68,
   "metadata": {},
   "outputs": [],
   "source": [
    "## Importamos las librerias necesarias\n",
    "\n",
    "from sklearn.feature_extraction.text import TfidfVectorizer\n",
    "from sklearn.metrics.pairwise import linear_kernel"
   ]
  },
  {
   "cell_type": "code",
   "execution_count": 69,
   "metadata": {},
   "outputs": [
    {
     "name": "stderr",
     "output_type": "stream",
     "text": [
      "[nltk_data] Downloading package stopwords to\n",
      "[nltk_data]     C:\\Users\\jmoc9\\AppData\\Roaming\\nltk_data...\n",
      "[nltk_data]   Package stopwords is already up-to-date!\n"
     ]
    }
   ],
   "source": [
    "import nltk\n",
    "from nltk.corpus import stopwords ## Para indicarle al modelo que palabras no poseen ningun significado o relevancia al texto\n",
    "nltk.download('stopwords')\n",
    "\n",
    "stop = stopwords.words('english') ## Nuestras descripcion estan en ingles asi que se necesitaran las palabras en ingles"
   ]
  },
  {
   "cell_type": "code",
   "execution_count": 70,
   "metadata": {},
   "outputs": [],
   "source": [
    "tf = TfidfVectorizer(stop_words=stop) # Se le indica al modelo que palabras debe ignorar"
   ]
  },
  {
   "cell_type": "code",
   "execution_count": 71,
   "metadata": {},
   "outputs": [],
   "source": [
    "tfidx_matrix = tf.fit_transform(games['description']) ## Se ajusta el modelo con nuestra columna de descripciones"
   ]
  },
  {
   "cell_type": "code",
   "execution_count": 72,
   "metadata": {},
   "outputs": [
    {
     "data": {
      "text/plain": [
       "array(['00', '000', '000km', ..., '紧接着又是母亲的突然离去', '虽然从未放弃过寻找',\n",
       "       '让秦幽羽的父亲从此失踪'], dtype=object)"
      ]
     },
     "execution_count": 72,
     "metadata": {},
     "output_type": "execute_result"
    }
   ],
   "source": [
    "tf.get_feature_names_out() ## Vistazo breve de terminos que han sido asignadas como columnas para la vectorizacion"
   ]
  },
  {
   "cell_type": "code",
   "execution_count": 74,
   "metadata": {},
   "outputs": [],
   "source": [
    "cosine_similarities = linear_kernel(tfidx_matrix,tfidx_matrix) ## Similitud de cosseno entre todos los pares de juegos"
   ]
  },
  {
   "cell_type": "code",
   "execution_count": 75,
   "metadata": {},
   "outputs": [],
   "source": [
    "n = 5 ## Cantidad de juegos que queremos retornar\n",
    "\n",
    "results = {} ## Diccionario donde las llaves seran cada juego y los valores los 5 mas parecidos al item\n",
    "\n",
    "for idx,row in games.iterrows(): ## Se itera el Dataframe\n",
    "  similar_indexs = cosine_similarities[idx].argsort()[:-n-2:-1] ## Para calcular los indices de los juegos mas similares al juego actual\n",
    "  \n",
    "  similar_items = [(f\"{games['game_title'][i]}\",round(cosine_similarities[idx][i], 3)) for i in similar_indexs] ## Valor de la llave que sera la lista de los juegos similares junto a sus similitudes\n",
    "  results[f\"{row['id']}\"] = similar_items[1:] ## Crea la llave con su valor, omitiendo el primero de la lista que seria la similitud del juego consigo mismo (Daria 1.0)\n",
    " "
   ]
  },
  {
   "cell_type": "code",
   "execution_count": 76,
   "metadata": {},
   "outputs": [],
   "source": [
    "game_similarities = pd.DataFrame(pd.Series(results))"
   ]
  },
  {
   "cell_type": "code",
   "execution_count": 80,
   "metadata": {},
   "outputs": [
    {
     "data": {
      "text/plain": [
       "[('Team Fortress Classic', 0.195),\n",
       " ('Metal Drift', 0.186),\n",
       " ('Skara - The Blade Remains', 0.138),\n",
       " ('Savage Resurrection', 0.128),\n",
       " ('Cyber Team Manager', 0.122)]"
      ]
     },
     "execution_count": 80,
     "metadata": {},
     "output_type": "execute_result"
    }
   ],
   "source": [
    "game_similarities.to_dict()[0]['10']"
   ]
  },
  {
   "cell_type": "code",
   "execution_count": 81,
   "metadata": {},
   "outputs": [],
   "source": [
    "game_similarities.to_csv('./clean_datasets/games_similarities.csv')"
   ]
  }
 ],
 "metadata": {
  "kernelspec": {
   "display_name": "PI_ML_api",
   "language": "python",
   "name": "python3"
  },
  "language_info": {
   "codemirror_mode": {
    "name": "ipython",
    "version": 3
   },
   "file_extension": ".py",
   "mimetype": "text/x-python",
   "name": "python",
   "nbconvert_exporter": "python",
   "pygments_lexer": "ipython3",
   "version": "3.11.5"
  },
  "orig_nbformat": 4
 },
 "nbformat": 4,
 "nbformat_minor": 2
}
