{
 "cells": [
  {
   "cell_type": "code",
   "execution_count": 7,
   "metadata": {},
   "outputs": [],
   "source": [
    "import pandas as pd\n",
    "import numpy as np\n",
    "import json\n",
    "import ast"
   ]
  },
  {
   "cell_type": "markdown",
   "metadata": {},
   "source": [
    "***\n",
    "## Proceso de ETL\n",
    "***"
   ]
  },
  {
   "cell_type": "markdown",
   "metadata": {},
   "source": [
    "### **E**xtraction\n",
    "\n",
    "- La primera parte del proceso consiste en la extraccion de los datos desde su punto de origen, en nuestro caso se encuentran en un conjunto de datasets proporcionados por la empresa steam de tipo json."
   ]
  },
  {
   "cell_type": "code",
   "execution_count": 8,
   "metadata": {},
   "outputs": [
    {
     "name": "stdout",
     "output_type": "stream",
     "text": [
      "<class 'pandas.core.frame.DataFrame'>\n",
      "RangeIndex: 120445 entries, 0 to 120444\n",
      "Data columns (total 13 columns):\n",
      " #   Column        Non-Null Count  Dtype \n",
      "---  ------        --------------  ----- \n",
      " 0   publisher     24083 non-null  object\n",
      " 1   genres        28852 non-null  object\n",
      " 2   app_name      32133 non-null  object\n",
      " 3   title         30085 non-null  object\n",
      " 4   url           32135 non-null  object\n",
      " 5   release_date  30068 non-null  object\n",
      " 6   tags          31972 non-null  object\n",
      " 7   reviews_url   32133 non-null  object\n",
      " 8   specs         31465 non-null  object\n",
      " 9   price         30758 non-null  object\n",
      " 10  early_access  32135 non-null  object\n",
      " 11  id            32133 non-null  object\n",
      " 12  developer     28836 non-null  object\n",
      "dtypes: object(13)\n",
      "memory usage: 11.9+ MB\n"
     ]
    }
   ],
   "source": [
    "games = 'datasets/output_steam_games.json'\n",
    "\n",
    "# Se lee de cada línea del dataset\n",
    "rows = []\n",
    "with open(games) as f:\n",
    "    for line in f.readlines():\n",
    "        data = json.loads(line)\n",
    "        rows.append(data)\n",
    "\n",
    "# Se convierte a dataframe\n",
    "games = pd.DataFrame(rows)\n",
    "games.info()"
   ]
  },
  {
   "cell_type": "code",
   "execution_count": 9,
   "metadata": {},
   "outputs": [
    {
     "data": {
      "text/html": [
       "<div>\n",
       "<style scoped>\n",
       "    .dataframe tbody tr th:only-of-type {\n",
       "        vertical-align: middle;\n",
       "    }\n",
       "\n",
       "    .dataframe tbody tr th {\n",
       "        vertical-align: top;\n",
       "    }\n",
       "\n",
       "    .dataframe thead th {\n",
       "        text-align: right;\n",
       "    }\n",
       "</style>\n",
       "<table border=\"1\" class=\"dataframe\">\n",
       "  <thead>\n",
       "    <tr style=\"text-align: right;\">\n",
       "      <th></th>\n",
       "      <th>publisher</th>\n",
       "      <th>genres</th>\n",
       "      <th>app_name</th>\n",
       "      <th>title</th>\n",
       "      <th>url</th>\n",
       "      <th>release_date</th>\n",
       "      <th>tags</th>\n",
       "      <th>reviews_url</th>\n",
       "      <th>specs</th>\n",
       "      <th>price</th>\n",
       "      <th>early_access</th>\n",
       "      <th>id</th>\n",
       "      <th>developer</th>\n",
       "    </tr>\n",
       "  </thead>\n",
       "  <tbody>\n",
       "    <tr>\n",
       "      <th>43479</th>\n",
       "      <td>NaN</td>\n",
       "      <td>NaN</td>\n",
       "      <td>NaN</td>\n",
       "      <td>NaN</td>\n",
       "      <td>NaN</td>\n",
       "      <td>NaN</td>\n",
       "      <td>NaN</td>\n",
       "      <td>NaN</td>\n",
       "      <td>NaN</td>\n",
       "      <td>NaN</td>\n",
       "      <td>NaN</td>\n",
       "      <td>NaN</td>\n",
       "      <td>NaN</td>\n",
       "    </tr>\n",
       "  </tbody>\n",
       "</table>\n",
       "</div>"
      ],
      "text/plain": [
       "      publisher genres app_name title  url release_date tags reviews_url  \\\n",
       "43479       NaN    NaN      NaN   NaN  NaN          NaN  NaN         NaN   \n",
       "\n",
       "      specs price early_access   id developer  \n",
       "43479   NaN   NaN          NaN  NaN       NaN  "
      ]
     },
     "execution_count": 9,
     "metadata": {},
     "output_type": "execute_result"
    }
   ],
   "source": [
    "games.sample()"
   ]
  },
  {
   "cell_type": "code",
   "execution_count": 10,
   "metadata": {},
   "outputs": [
    {
     "name": "stdout",
     "output_type": "stream",
     "text": [
      "<class 'pandas.core.frame.DataFrame'>\n",
      "RangeIndex: 25799 entries, 0 to 25798\n",
      "Data columns (total 3 columns):\n",
      " #   Column    Non-Null Count  Dtype \n",
      "---  ------    --------------  ----- \n",
      " 0   user_id   25799 non-null  object\n",
      " 1   user_url  25799 non-null  object\n",
      " 2   reviews   25799 non-null  object\n",
      "dtypes: object(3)\n",
      "memory usage: 604.8+ KB\n"
     ]
    }
   ],
   "source": [
    "reviews = 'datasets/australian_user_reviews.json'\n",
    "\n",
    "# Se lee de cada línea del dataset\n",
    "rows.clear()\n",
    "with open(reviews) as f:\n",
    "    for line in f.readlines():\n",
    "        data = ast.literal_eval(line)\n",
    "        rows.append(data)\n",
    "\n",
    "# Se convierte a dataframe\n",
    "reviews = pd.DataFrame(rows)\n",
    "reviews.info()"
   ]
  },
  {
   "cell_type": "code",
   "execution_count": 11,
   "metadata": {},
   "outputs": [
    {
     "data": {
      "text/html": [
       "<div>\n",
       "<style scoped>\n",
       "    .dataframe tbody tr th:only-of-type {\n",
       "        vertical-align: middle;\n",
       "    }\n",
       "\n",
       "    .dataframe tbody tr th {\n",
       "        vertical-align: top;\n",
       "    }\n",
       "\n",
       "    .dataframe thead th {\n",
       "        text-align: right;\n",
       "    }\n",
       "</style>\n",
       "<table border=\"1\" class=\"dataframe\">\n",
       "  <thead>\n",
       "    <tr style=\"text-align: right;\">\n",
       "      <th></th>\n",
       "      <th>user_id</th>\n",
       "      <th>user_url</th>\n",
       "      <th>reviews</th>\n",
       "    </tr>\n",
       "  </thead>\n",
       "  <tbody>\n",
       "    <tr>\n",
       "      <th>11474</th>\n",
       "      <td>RexTrigger</td>\n",
       "      <td>http://steamcommunity.com/id/RexTrigger</td>\n",
       "      <td>[{'funny': '', 'posted': 'Posted June 8, 2014....</td>\n",
       "    </tr>\n",
       "  </tbody>\n",
       "</table>\n",
       "</div>"
      ],
      "text/plain": [
       "          user_id                                 user_url  \\\n",
       "11474  RexTrigger  http://steamcommunity.com/id/RexTrigger   \n",
       "\n",
       "                                                 reviews  \n",
       "11474  [{'funny': '', 'posted': 'Posted June 8, 2014....  "
      ]
     },
     "execution_count": 11,
     "metadata": {},
     "output_type": "execute_result"
    }
   ],
   "source": [
    "reviews.sample()"
   ]
  },
  {
   "cell_type": "code",
   "execution_count": 12,
   "metadata": {},
   "outputs": [
    {
     "name": "stdout",
     "output_type": "stream",
     "text": [
      "<class 'pandas.core.frame.DataFrame'>\n",
      "RangeIndex: 88310 entries, 0 to 88309\n",
      "Data columns (total 5 columns):\n",
      " #   Column       Non-Null Count  Dtype \n",
      "---  ------       --------------  ----- \n",
      " 0   user_id      88310 non-null  object\n",
      " 1   items_count  88310 non-null  int64 \n",
      " 2   steam_id     88310 non-null  object\n",
      " 3   user_url     88310 non-null  object\n",
      " 4   items        88310 non-null  object\n",
      "dtypes: int64(1), object(4)\n",
      "memory usage: 3.4+ MB\n"
     ]
    }
   ],
   "source": [
    "items = 'datasets/australian_users_items.json'\n",
    "\n",
    "# Se lee de cada línea del dataset\n",
    "rows.clear()\n",
    "with open(items) as f:\n",
    "    for line in f.readlines():\n",
    "        data = ast.literal_eval(line)\n",
    "        rows.append(data)\n",
    "\n",
    "# Se convierte a dataframe\n",
    "items = pd.DataFrame(rows)\n",
    "items.info()"
   ]
  },
  {
   "cell_type": "code",
   "execution_count": 13,
   "metadata": {},
   "outputs": [
    {
     "data": {
      "text/html": [
       "<div>\n",
       "<style scoped>\n",
       "    .dataframe tbody tr th:only-of-type {\n",
       "        vertical-align: middle;\n",
       "    }\n",
       "\n",
       "    .dataframe tbody tr th {\n",
       "        vertical-align: top;\n",
       "    }\n",
       "\n",
       "    .dataframe thead th {\n",
       "        text-align: right;\n",
       "    }\n",
       "</style>\n",
       "<table border=\"1\" class=\"dataframe\">\n",
       "  <thead>\n",
       "    <tr style=\"text-align: right;\">\n",
       "      <th></th>\n",
       "      <th>user_id</th>\n",
       "      <th>items_count</th>\n",
       "      <th>steam_id</th>\n",
       "      <th>user_url</th>\n",
       "      <th>items</th>\n",
       "    </tr>\n",
       "  </thead>\n",
       "  <tbody>\n",
       "    <tr>\n",
       "      <th>7221</th>\n",
       "      <td>PSLOVER9</td>\n",
       "      <td>599</td>\n",
       "      <td>76561198064272615</td>\n",
       "      <td>http://steamcommunity.com/id/PSLOVER9</td>\n",
       "      <td>[{'item_id': '4000', 'item_name': 'Garry's Mod...</td>\n",
       "    </tr>\n",
       "  </tbody>\n",
       "</table>\n",
       "</div>"
      ],
      "text/plain": [
       "       user_id  items_count           steam_id  \\\n",
       "7221  PSLOVER9          599  76561198064272615   \n",
       "\n",
       "                                   user_url  \\\n",
       "7221  http://steamcommunity.com/id/PSLOVER9   \n",
       "\n",
       "                                                  items  \n",
       "7221  [{'item_id': '4000', 'item_name': 'Garry's Mod...  "
      ]
     },
     "execution_count": 13,
     "metadata": {},
     "output_type": "execute_result"
    }
   ],
   "source": [
    "items.sample()"
   ]
  },
  {
   "cell_type": "markdown",
   "metadata": {},
   "source": [
    "***\n",
    "### **T**ransform\n",
    "\n",
    "- La fase de transformacion aplica una serie de reglas de negocio sobre los datos extraidos para poder limpiarlos y tener una buena calidad de estos al momento de cargarlos, la gravedad de estas transformaciones dependera de como se encuentren los datos extraidos. Segun nuestras tablas se requiere de una normalizacion en ellas y de algunos casting para mayor legibilidad y utilidad al momento de realizar la carga y otras operaciones."
   ]
  },
  {
   "cell_type": "markdown",
   "metadata": {},
   "source": [
    "#### *Resolver vacios*"
   ]
  },
  {
   "cell_type": "code",
   "execution_count": 14,
   "metadata": {},
   "outputs": [
    {
     "name": "stdout",
     "output_type": "stream",
     "text": [
      "Campos vacios en games: 1168997\n",
      "Campos vacios en reviews: 0\n",
      "Campos vacios en items: 0\n"
     ]
    }
   ],
   "source": [
    "print(f'Campos vacios en games: {games.isna().sum().sum()}')\n",
    "print(f'Campos vacios en reviews: {reviews.isna().sum().sum()}')\n",
    "print(f'Campos vacios en items: {items.isna().sum().sum()}')"
   ]
  },
  {
   "cell_type": "code",
   "execution_count": 15,
   "metadata": {},
   "outputs": [
    {
     "name": "stdout",
     "output_type": "stream",
     "text": [
      "Vacios en games: 0\n"
     ]
    }
   ],
   "source": [
    "#Resolvemos\n",
    "games.dropna(inplace=True)\n",
    "print(f'Vacios en games: {games.isna().sum().sum()}')"
   ]
  },
  {
   "cell_type": "markdown",
   "metadata": {},
   "source": [
    "#### *Normalizacion de columnas*"
   ]
  },
  {
   "cell_type": "markdown",
   "metadata": {},
   "source": [
    "#### *Games*"
   ]
  },
  {
   "cell_type": "code",
   "execution_count": 16,
   "metadata": {},
   "outputs": [
    {
     "data": {
      "text/html": [
       "<div>\n",
       "<style scoped>\n",
       "    .dataframe tbody tr th:only-of-type {\n",
       "        vertical-align: middle;\n",
       "    }\n",
       "\n",
       "    .dataframe tbody tr th {\n",
       "        vertical-align: top;\n",
       "    }\n",
       "\n",
       "    .dataframe thead th {\n",
       "        text-align: right;\n",
       "    }\n",
       "</style>\n",
       "<table border=\"1\" class=\"dataframe\">\n",
       "  <thead>\n",
       "    <tr style=\"text-align: right;\">\n",
       "      <th></th>\n",
       "      <th>publisher</th>\n",
       "      <th>genres</th>\n",
       "      <th>app_name</th>\n",
       "      <th>title</th>\n",
       "      <th>url</th>\n",
       "      <th>release_date</th>\n",
       "      <th>tags</th>\n",
       "      <th>reviews_url</th>\n",
       "      <th>specs</th>\n",
       "      <th>price</th>\n",
       "      <th>early_access</th>\n",
       "      <th>id</th>\n",
       "      <th>developer</th>\n",
       "    </tr>\n",
       "  </thead>\n",
       "  <tbody>\n",
       "    <tr>\n",
       "      <th>92084</th>\n",
       "      <td>Digital Dawn Studios</td>\n",
       "      <td>[Action, Adventure, Indie, Massively Multiplay...</td>\n",
       "      <td>Sirius Online</td>\n",
       "      <td>Sirius Online</td>\n",
       "      <td>http://store.steampowered.com/app/368720/Siriu...</td>\n",
       "      <td>2015-06-01</td>\n",
       "      <td>[Early Access, Massively Multiplayer, Action, ...</td>\n",
       "      <td>http://steamcommunity.com/app/368720/reviews/?...</td>\n",
       "      <td>[Single-player, Multi-player, Online Multi-Pla...</td>\n",
       "      <td>9.99</td>\n",
       "      <td>True</td>\n",
       "      <td>368720</td>\n",
       "      <td>Digital Dawn Studios</td>\n",
       "    </tr>\n",
       "    <tr>\n",
       "      <th>95717</th>\n",
       "      <td>IQ Publishing</td>\n",
       "      <td>[Adventure, Casual, Indie]</td>\n",
       "      <td>GRAVEN The Purple Moon Prophecy</td>\n",
       "      <td>GRAVEN The Purple Moon Prophecy</td>\n",
       "      <td>http://store.steampowered.com/app/467490/GRAVE...</td>\n",
       "      <td>2016-09-29</td>\n",
       "      <td>[Adventure, Indie, Casual, Hidden Object]</td>\n",
       "      <td>http://steamcommunity.com/app/467490/reviews/?...</td>\n",
       "      <td>[Single-player, Steam Achievements]</td>\n",
       "      <td>9.99</td>\n",
       "      <td>False</td>\n",
       "      <td>467490</td>\n",
       "      <td>Orchid Games</td>\n",
       "    </tr>\n",
       "    <tr>\n",
       "      <th>118090</th>\n",
       "      <td>SEGA, Feral Interactive (Mac), Feral Interacti...</td>\n",
       "      <td>[Strategy]</td>\n",
       "      <td>CoH 2 - Soviet Skin: (H) Two Tone Spring Front</td>\n",
       "      <td>CoH 2 - Soviet Skin: (H) Two Tone Spring Front</td>\n",
       "      <td>http://store.steampowered.com/app/249114/CoH_2...</td>\n",
       "      <td>2013-11-12</td>\n",
       "      <td>[Strategy]</td>\n",
       "      <td>http://steamcommunity.com/app/249114/reviews/?...</td>\n",
       "      <td>[Single-player, Multi-player, Downloadable Con...</td>\n",
       "      <td>1.99</td>\n",
       "      <td>False</td>\n",
       "      <td>249114</td>\n",
       "      <td>Relic Entertainment,Feral Interactive (Mac),Fe...</td>\n",
       "    </tr>\n",
       "  </tbody>\n",
       "</table>\n",
       "</div>"
      ],
      "text/plain": [
       "                                                publisher  \\\n",
       "92084                                Digital Dawn Studios   \n",
       "95717                                       IQ Publishing   \n",
       "118090  SEGA, Feral Interactive (Mac), Feral Interacti...   \n",
       "\n",
       "                                                   genres  \\\n",
       "92084   [Action, Adventure, Indie, Massively Multiplay...   \n",
       "95717                          [Adventure, Casual, Indie]   \n",
       "118090                                         [Strategy]   \n",
       "\n",
       "                                              app_name  \\\n",
       "92084                                    Sirius Online   \n",
       "95717                  GRAVEN The Purple Moon Prophecy   \n",
       "118090  CoH 2 - Soviet Skin: (H) Two Tone Spring Front   \n",
       "\n",
       "                                                 title  \\\n",
       "92084                                    Sirius Online   \n",
       "95717                  GRAVEN The Purple Moon Prophecy   \n",
       "118090  CoH 2 - Soviet Skin: (H) Two Tone Spring Front   \n",
       "\n",
       "                                                      url release_date  \\\n",
       "92084   http://store.steampowered.com/app/368720/Siriu...   2015-06-01   \n",
       "95717   http://store.steampowered.com/app/467490/GRAVE...   2016-09-29   \n",
       "118090  http://store.steampowered.com/app/249114/CoH_2...   2013-11-12   \n",
       "\n",
       "                                                     tags  \\\n",
       "92084   [Early Access, Massively Multiplayer, Action, ...   \n",
       "95717           [Adventure, Indie, Casual, Hidden Object]   \n",
       "118090                                         [Strategy]   \n",
       "\n",
       "                                              reviews_url  \\\n",
       "92084   http://steamcommunity.com/app/368720/reviews/?...   \n",
       "95717   http://steamcommunity.com/app/467490/reviews/?...   \n",
       "118090  http://steamcommunity.com/app/249114/reviews/?...   \n",
       "\n",
       "                                                    specs price early_access  \\\n",
       "92084   [Single-player, Multi-player, Online Multi-Pla...  9.99         True   \n",
       "95717                 [Single-player, Steam Achievements]  9.99        False   \n",
       "118090  [Single-player, Multi-player, Downloadable Con...  1.99        False   \n",
       "\n",
       "            id                                          developer  \n",
       "92084   368720                               Digital Dawn Studios  \n",
       "95717   467490                                       Orchid Games  \n",
       "118090  249114  Relic Entertainment,Feral Interactive (Mac),Fe...  "
      ]
     },
     "execution_count": 16,
     "metadata": {},
     "output_type": "execute_result"
    }
   ],
   "source": [
    "games.sample(3)"
   ]
  },
  {
   "cell_type": "code",
   "execution_count": 17,
   "metadata": {},
   "outputs": [
    {
     "name": "stdout",
     "output_type": "stream",
     "text": [
      "Registro iguales entre la columna app_name y title: 22179\n",
      "Cantidad de registros en el dataframe 'games': 22530\n"
     ]
    }
   ],
   "source": [
    "print(f\"Registro iguales entre la columna app_name y title: {(games['app_name']==games['title']).sum()}\")\n",
    "print(f\"Cantidad de registros en el dataframe 'games': {len(games)}\")"
   ]
  },
  {
   "cell_type": "markdown",
   "metadata": {},
   "source": [
    "La mayoria de los valores de una columna se encuentran en la otra, asi que dejaremos una de las dos para que sirva de referencia total al nombre del videojuego y aprovecharemos para eliminar columnas que no utilizaremos"
   ]
  },
  {
   "cell_type": "code",
   "execution_count": 18,
   "metadata": {},
   "outputs": [],
   "source": [
    "games.drop(columns=['app_name','specs','early_access','publisher','tags','reviews_url'],inplace=True)"
   ]
  },
  {
   "cell_type": "markdown",
   "metadata": {},
   "source": [
    "El dataframe posee una columna multivaluada que definitivamente nos conviene desglozar para un mejor uso"
   ]
  },
  {
   "cell_type": "code",
   "execution_count": 19,
   "metadata": {},
   "outputs": [],
   "source": [
    "games = games.explode('genres')"
   ]
  },
  {
   "cell_type": "markdown",
   "metadata": {},
   "source": [
    "Alguno valores en la columna price no son nisiquiera de tipo flotante, asi que arreglaremos eso cambiando esos valores y casteando la columna"
   ]
  },
  {
   "cell_type": "code",
   "execution_count": 20,
   "metadata": {},
   "outputs": [],
   "source": [
    "games['price'] = pd.to_numeric(games['price'],errors='coerce').astype(float)\n",
    "games['price'].fillna(0,inplace=True)"
   ]
  },
  {
   "cell_type": "code",
   "execution_count": 21,
   "metadata": {},
   "outputs": [
    {
     "data": {
      "text/html": [
       "<div>\n",
       "<style scoped>\n",
       "    .dataframe tbody tr th:only-of-type {\n",
       "        vertical-align: middle;\n",
       "    }\n",
       "\n",
       "    .dataframe tbody tr th {\n",
       "        vertical-align: top;\n",
       "    }\n",
       "\n",
       "    .dataframe thead th {\n",
       "        text-align: right;\n",
       "    }\n",
       "</style>\n",
       "<table border=\"1\" class=\"dataframe\">\n",
       "  <thead>\n",
       "    <tr style=\"text-align: right;\">\n",
       "      <th></th>\n",
       "      <th>genres</th>\n",
       "      <th>title</th>\n",
       "      <th>url</th>\n",
       "      <th>release_date</th>\n",
       "      <th>price</th>\n",
       "      <th>id</th>\n",
       "      <th>developer</th>\n",
       "    </tr>\n",
       "  </thead>\n",
       "  <tbody>\n",
       "    <tr>\n",
       "      <th>88311</th>\n",
       "      <td>Free to Play</td>\n",
       "      <td>Ironbound</td>\n",
       "      <td>http://store.steampowered.com/app/643980/Ironb...</td>\n",
       "      <td>2018-01-04</td>\n",
       "      <td>0.0</td>\n",
       "      <td>643980</td>\n",
       "      <td>Secret Level SRL</td>\n",
       "    </tr>\n",
       "    <tr>\n",
       "      <th>88311</th>\n",
       "      <td>Indie</td>\n",
       "      <td>Ironbound</td>\n",
       "      <td>http://store.steampowered.com/app/643980/Ironb...</td>\n",
       "      <td>2018-01-04</td>\n",
       "      <td>0.0</td>\n",
       "      <td>643980</td>\n",
       "      <td>Secret Level SRL</td>\n",
       "    </tr>\n",
       "    <tr>\n",
       "      <th>88311</th>\n",
       "      <td>RPG</td>\n",
       "      <td>Ironbound</td>\n",
       "      <td>http://store.steampowered.com/app/643980/Ironb...</td>\n",
       "      <td>2018-01-04</td>\n",
       "      <td>0.0</td>\n",
       "      <td>643980</td>\n",
       "      <td>Secret Level SRL</td>\n",
       "    </tr>\n",
       "    <tr>\n",
       "      <th>88311</th>\n",
       "      <td>Strategy</td>\n",
       "      <td>Ironbound</td>\n",
       "      <td>http://store.steampowered.com/app/643980/Ironb...</td>\n",
       "      <td>2018-01-04</td>\n",
       "      <td>0.0</td>\n",
       "      <td>643980</td>\n",
       "      <td>Secret Level SRL</td>\n",
       "    </tr>\n",
       "    <tr>\n",
       "      <th>88312</th>\n",
       "      <td>Casual</td>\n",
       "      <td>Real Pool 3D - Poolians</td>\n",
       "      <td>http://store.steampowered.com/app/670290/Real_...</td>\n",
       "      <td>2017-07-24</td>\n",
       "      <td>0.0</td>\n",
       "      <td>670290</td>\n",
       "      <td>Poolians.com</td>\n",
       "    </tr>\n",
       "    <tr>\n",
       "      <th>...</th>\n",
       "      <td>...</td>\n",
       "      <td>...</td>\n",
       "      <td>...</td>\n",
       "      <td>...</td>\n",
       "      <td>...</td>\n",
       "      <td>...</td>\n",
       "      <td>...</td>\n",
       "    </tr>\n",
       "    <tr>\n",
       "      <th>120410</th>\n",
       "      <td>Free to Play</td>\n",
       "      <td>忍者村大战2</td>\n",
       "      <td>http://store.steampowered.com/app/754350/2/</td>\n",
       "      <td>2018-01-03</td>\n",
       "      <td>0.0</td>\n",
       "      <td>754350</td>\n",
       "      <td>杭州分浪网络科技有限公司</td>\n",
       "    </tr>\n",
       "    <tr>\n",
       "      <th>120410</th>\n",
       "      <td>Massively Multiplayer</td>\n",
       "      <td>忍者村大战2</td>\n",
       "      <td>http://store.steampowered.com/app/754350/2/</td>\n",
       "      <td>2018-01-03</td>\n",
       "      <td>0.0</td>\n",
       "      <td>754350</td>\n",
       "      <td>杭州分浪网络科技有限公司</td>\n",
       "    </tr>\n",
       "    <tr>\n",
       "      <th>120410</th>\n",
       "      <td>RPG</td>\n",
       "      <td>忍者村大战2</td>\n",
       "      <td>http://store.steampowered.com/app/754350/2/</td>\n",
       "      <td>2018-01-03</td>\n",
       "      <td>0.0</td>\n",
       "      <td>754350</td>\n",
       "      <td>杭州分浪网络科技有限公司</td>\n",
       "    </tr>\n",
       "    <tr>\n",
       "      <th>120410</th>\n",
       "      <td>Strategy</td>\n",
       "      <td>忍者村大战2</td>\n",
       "      <td>http://store.steampowered.com/app/754350/2/</td>\n",
       "      <td>2018-01-03</td>\n",
       "      <td>0.0</td>\n",
       "      <td>754350</td>\n",
       "      <td>杭州分浪网络科技有限公司</td>\n",
       "    </tr>\n",
       "    <tr>\n",
       "      <th>120411</th>\n",
       "      <td>Simulation</td>\n",
       "      <td>High School Simulator</td>\n",
       "      <td>http://store.steampowered.com/app/754620/High_...</td>\n",
       "      <td>2018-01-03</td>\n",
       "      <td>0.0</td>\n",
       "      <td>754620</td>\n",
       "      <td>KUMA GAMES</td>\n",
       "    </tr>\n",
       "  </tbody>\n",
       "</table>\n",
       "<p>4174 rows × 7 columns</p>\n",
       "</div>"
      ],
      "text/plain": [
       "                       genres                    title  \\\n",
       "88311            Free to Play                Ironbound   \n",
       "88311                   Indie                Ironbound   \n",
       "88311                     RPG                Ironbound   \n",
       "88311                Strategy                Ironbound   \n",
       "88312                  Casual  Real Pool 3D - Poolians   \n",
       "...                       ...                      ...   \n",
       "120410           Free to Play                   忍者村大战2   \n",
       "120410  Massively Multiplayer                   忍者村大战2   \n",
       "120410                    RPG                   忍者村大战2   \n",
       "120410               Strategy                   忍者村大战2   \n",
       "120411             Simulation    High School Simulator   \n",
       "\n",
       "                                                      url release_date  price  \\\n",
       "88311   http://store.steampowered.com/app/643980/Ironb...   2018-01-04    0.0   \n",
       "88311   http://store.steampowered.com/app/643980/Ironb...   2018-01-04    0.0   \n",
       "88311   http://store.steampowered.com/app/643980/Ironb...   2018-01-04    0.0   \n",
       "88311   http://store.steampowered.com/app/643980/Ironb...   2018-01-04    0.0   \n",
       "88312   http://store.steampowered.com/app/670290/Real_...   2017-07-24    0.0   \n",
       "...                                                   ...          ...    ...   \n",
       "120410        http://store.steampowered.com/app/754350/2/   2018-01-03    0.0   \n",
       "120410        http://store.steampowered.com/app/754350/2/   2018-01-03    0.0   \n",
       "120410        http://store.steampowered.com/app/754350/2/   2018-01-03    0.0   \n",
       "120410        http://store.steampowered.com/app/754350/2/   2018-01-03    0.0   \n",
       "120411  http://store.steampowered.com/app/754620/High_...   2018-01-03    0.0   \n",
       "\n",
       "            id         developer  \n",
       "88311   643980  Secret Level SRL  \n",
       "88311   643980  Secret Level SRL  \n",
       "88311   643980  Secret Level SRL  \n",
       "88311   643980  Secret Level SRL  \n",
       "88312   670290      Poolians.com  \n",
       "...        ...               ...  \n",
       "120410  754350      杭州分浪网络科技有限公司  \n",
       "120410  754350      杭州分浪网络科技有限公司  \n",
       "120410  754350      杭州分浪网络科技有限公司  \n",
       "120410  754350      杭州分浪网络科技有限公司  \n",
       "120411  754620        KUMA GAMES  \n",
       "\n",
       "[4174 rows x 7 columns]"
      ]
     },
     "execution_count": 21,
     "metadata": {},
     "output_type": "execute_result"
    }
   ],
   "source": [
    "games[games['price']==0]"
   ]
  },
  {
   "cell_type": "markdown",
   "metadata": {},
   "source": [
    "Ultimo retoque para un futuro merge con la tabla item que nos permita unificar las tres tablas"
   ]
  },
  {
   "cell_type": "code",
   "execution_count": 22,
   "metadata": {},
   "outputs": [],
   "source": [
    "games.rename(columns={\"title\":\"game_title\"},inplace=True)"
   ]
  },
  {
   "cell_type": "code",
   "execution_count": 23,
   "metadata": {},
   "outputs": [],
   "source": [
    "games['release_date'] = pd.to_datetime(games['release_date'],errors='coerce')\n",
    "games.dropna(inplace=True)"
   ]
  },
  {
   "cell_type": "code",
   "execution_count": 24,
   "metadata": {},
   "outputs": [
    {
     "data": {
      "text/html": [
       "<div>\n",
       "<style scoped>\n",
       "    .dataframe tbody tr th:only-of-type {\n",
       "        vertical-align: middle;\n",
       "    }\n",
       "\n",
       "    .dataframe tbody tr th {\n",
       "        vertical-align: top;\n",
       "    }\n",
       "\n",
       "    .dataframe thead th {\n",
       "        text-align: right;\n",
       "    }\n",
       "</style>\n",
       "<table border=\"1\" class=\"dataframe\">\n",
       "  <thead>\n",
       "    <tr style=\"text-align: right;\">\n",
       "      <th></th>\n",
       "      <th>genres</th>\n",
       "      <th>game_title</th>\n",
       "      <th>url</th>\n",
       "      <th>release_date</th>\n",
       "      <th>price</th>\n",
       "      <th>id</th>\n",
       "      <th>developer</th>\n",
       "    </tr>\n",
       "  </thead>\n",
       "  <tbody>\n",
       "    <tr>\n",
       "      <th>119731</th>\n",
       "      <td>Adventure</td>\n",
       "      <td>Just Cause 2: Agency Hovercraft</td>\n",
       "      <td>http://store.steampowered.com/app/35090/Just_C...</td>\n",
       "      <td>2010-06-22</td>\n",
       "      <td>0.99</td>\n",
       "      <td>35090</td>\n",
       "      <td>Avalanche Studios</td>\n",
       "    </tr>\n",
       "  </tbody>\n",
       "</table>\n",
       "</div>"
      ],
      "text/plain": [
       "           genres                       game_title  \\\n",
       "119731  Adventure  Just Cause 2: Agency Hovercraft   \n",
       "\n",
       "                                                      url release_date  price  \\\n",
       "119731  http://store.steampowered.com/app/35090/Just_C...   2010-06-22   0.99   \n",
       "\n",
       "           id          developer  \n",
       "119731  35090  Avalanche Studios  "
      ]
     },
     "execution_count": 24,
     "metadata": {},
     "output_type": "execute_result"
    }
   ],
   "source": [
    "games.sample()"
   ]
  },
  {
   "cell_type": "markdown",
   "metadata": {},
   "source": [
    "#### *Reviews*"
   ]
  },
  {
   "cell_type": "code",
   "execution_count": 25,
   "metadata": {},
   "outputs": [
    {
     "data": {
      "text/html": [
       "<div>\n",
       "<style scoped>\n",
       "    .dataframe tbody tr th:only-of-type {\n",
       "        vertical-align: middle;\n",
       "    }\n",
       "\n",
       "    .dataframe tbody tr th {\n",
       "        vertical-align: top;\n",
       "    }\n",
       "\n",
       "    .dataframe thead th {\n",
       "        text-align: right;\n",
       "    }\n",
       "</style>\n",
       "<table border=\"1\" class=\"dataframe\">\n",
       "  <thead>\n",
       "    <tr style=\"text-align: right;\">\n",
       "      <th></th>\n",
       "      <th>user_id</th>\n",
       "      <th>user_url</th>\n",
       "      <th>reviews</th>\n",
       "    </tr>\n",
       "  </thead>\n",
       "  <tbody>\n",
       "    <tr>\n",
       "      <th>19558</th>\n",
       "      <td>76561198040398338</td>\n",
       "      <td>http://steamcommunity.com/profiles/76561198040...</td>\n",
       "      <td>[{'funny': '', 'posted': 'Posted December 14, ...</td>\n",
       "    </tr>\n",
       "  </tbody>\n",
       "</table>\n",
       "</div>"
      ],
      "text/plain": [
       "                 user_id                                           user_url  \\\n",
       "19558  76561198040398338  http://steamcommunity.com/profiles/76561198040...   \n",
       "\n",
       "                                                 reviews  \n",
       "19558  [{'funny': '', 'posted': 'Posted December 14, ...  "
      ]
     },
     "execution_count": 25,
     "metadata": {},
     "output_type": "execute_result"
    }
   ],
   "source": [
    "reviews.sample()"
   ]
  },
  {
   "cell_type": "markdown",
   "metadata": {},
   "source": [
    "Otra columna multivaluada"
   ]
  },
  {
   "cell_type": "code",
   "execution_count": 26,
   "metadata": {},
   "outputs": [
    {
     "data": {
      "text/plain": [
       "[{'funny': '',\n",
       "  'posted': 'Posted November 5, 2011.',\n",
       "  'last_edited': '',\n",
       "  'item_id': '1250',\n",
       "  'helpful': 'No ratings yet',\n",
       "  'recommend': True,\n",
       "  'review': 'Simple yet with great replayability. In my opinion does \"zombie\" hordes and team work better than left 4 dead plus has a global leveling system. Alot of down to earth \"zombie\" splattering fun for the whole family. Amazed this sort of FPS is so rare.'},\n",
       " {'funny': '',\n",
       "  'posted': 'Posted July 15, 2011.',\n",
       "  'last_edited': '',\n",
       "  'item_id': '22200',\n",
       "  'helpful': 'No ratings yet',\n",
       "  'recommend': True,\n",
       "  'review': \"It's unique and worth a playthrough.\"},\n",
       " {'funny': '',\n",
       "  'posted': 'Posted April 21, 2011.',\n",
       "  'last_edited': '',\n",
       "  'item_id': '43110',\n",
       "  'helpful': 'No ratings yet',\n",
       "  'recommend': True,\n",
       "  'review': 'Great atmosphere. The gunplay can be a bit chunky at times but at the end of the day this game is definitely worth it and I hope they do a sequel...so buy the game so I get a sequel!'}]"
      ]
     },
     "execution_count": 26,
     "metadata": {},
     "output_type": "execute_result"
    }
   ],
   "source": [
    "reviews['reviews'].iloc[0]"
   ]
  },
  {
   "cell_type": "code",
   "execution_count": 27,
   "metadata": {},
   "outputs": [],
   "source": [
    "# Desglosamos\n",
    "reviews = reviews.explode('reviews')"
   ]
  },
  {
   "cell_type": "code",
   "execution_count": 28,
   "metadata": {},
   "outputs": [],
   "source": [
    "# Dividimos cada llave de cada diccionario dentro de su propia columna dentro de nuestro dataset\n",
    "reviews['posted'] = reviews['reviews'].apply(lambda x: np.nan if isinstance(x,float) else x['posted'])\n",
    "reviews['item_id'] = reviews['reviews'].apply(lambda x: np.nan if isinstance(x,float) else x['item_id'])\n",
    "reviews['recommend'] = reviews['reviews'].apply(lambda x: np.nan if isinstance(x,float) else x['recommend'])\n",
    "reviews['review'] = reviews['reviews'].apply(lambda x: np.nan if isinstance(x,float) else x['review'])"
   ]
  },
  {
   "cell_type": "code",
   "execution_count": 29,
   "metadata": {},
   "outputs": [
    {
     "name": "stdout",
     "output_type": "stream",
     "text": [
      "Vacios: 140\n",
      "Vacios: 0\n"
     ]
    }
   ],
   "source": [
    "print(f\"Vacios: {reviews.isna().sum().sum()}\")\n",
    "reviews.dropna(inplace=True)\n",
    "print(f\"Vacios: {reviews.isna().sum().sum()}\")"
   ]
  },
  {
   "cell_type": "code",
   "execution_count": 30,
   "metadata": {},
   "outputs": [],
   "source": [
    "# Eliminamos la sobrante\n",
    "reviews.drop(columns=['reviews'],inplace=True)"
   ]
  },
  {
   "cell_type": "code",
   "execution_count": 31,
   "metadata": {},
   "outputs": [
    {
     "data": {
      "text/html": [
       "<div>\n",
       "<style scoped>\n",
       "    .dataframe tbody tr th:only-of-type {\n",
       "        vertical-align: middle;\n",
       "    }\n",
       "\n",
       "    .dataframe tbody tr th {\n",
       "        vertical-align: top;\n",
       "    }\n",
       "\n",
       "    .dataframe thead th {\n",
       "        text-align: right;\n",
       "    }\n",
       "</style>\n",
       "<table border=\"1\" class=\"dataframe\">\n",
       "  <thead>\n",
       "    <tr style=\"text-align: right;\">\n",
       "      <th></th>\n",
       "      <th>user_id</th>\n",
       "      <th>user_url</th>\n",
       "      <th>posted</th>\n",
       "      <th>item_id</th>\n",
       "      <th>recommend</th>\n",
       "      <th>review</th>\n",
       "    </tr>\n",
       "  </thead>\n",
       "  <tbody>\n",
       "    <tr>\n",
       "      <th>13717</th>\n",
       "      <td>Hawwwk</td>\n",
       "      <td>http://steamcommunity.com/id/Hawwwk</td>\n",
       "      <td>Posted January 20, 2014.</td>\n",
       "      <td>55230</td>\n",
       "      <td>True</td>\n",
       "      <td>Muito LOL</td>\n",
       "    </tr>\n",
       "  </tbody>\n",
       "</table>\n",
       "</div>"
      ],
      "text/plain": [
       "      user_id                             user_url                    posted  \\\n",
       "13717  Hawwwk  http://steamcommunity.com/id/Hawwwk  Posted January 20, 2014.   \n",
       "\n",
       "      item_id recommend     review  \n",
       "13717   55230      True  Muito LOL  "
      ]
     },
     "execution_count": 31,
     "metadata": {},
     "output_type": "execute_result"
    }
   ],
   "source": [
    "reviews.sample()"
   ]
  },
  {
   "cell_type": "markdown",
   "metadata": {},
   "source": [
    "Las columnas de fechas deberian tener todas un mismo formato"
   ]
  },
  {
   "cell_type": "code",
   "execution_count": 32,
   "metadata": {},
   "outputs": [],
   "source": [
    "# Dividimos las cadenas de texto en mes dia y año\n",
    "reviews['posted'] = reviews['posted'].str.replace(',','').str.replace('.','').str.replace('Posted','').str.split()\n",
    "\n",
    "# Creamos un hashmap para la traduccion de string a numero como referencia del mes \n",
    "months = {\n",
    "  'January': 1,\n",
    "  'February': 2,\n",
    "  'March': 3,\n",
    "  'April': 4,\n",
    "  'May': 5,\n",
    "  'June': 6,\n",
    "  'July': 7,\n",
    "  'August': 8,\n",
    "  'September': 9,\n",
    "  'October': 10,\n",
    "  'November': 11,\n",
    "  'December': 12\n",
    "}\n",
    "# Array para añadir cada registro ya traducido posteriormente al dataframe\n",
    "dates=[]\n",
    "for i,x in enumerate(reviews.itertuples()): # Se itera los registros\n",
    "\n",
    "  if len(x.posted)==3: # Si el campo posee todo los campos encesarios para tener una fecha entonces se declara la fecha\n",
    "    date = f\"{x.posted[2]}-{months[x.posted[0]]}-{x.posted[1]}\" \n",
    "  else: \n",
    "    date = np.nan\n",
    "\n",
    "  dates.append(pd.to_datetime(date).date())\n",
    "\n",
    "reviews['posted'] = pd.DataFrame(dates) # Se añaden a la columna del dataframe"
   ]
  },
  {
   "cell_type": "markdown",
   "metadata": {},
   "source": [
    "#### *Feature Engineering*"
   ]
  },
  {
   "cell_type": "markdown",
   "metadata": {},
   "source": [
    "Para una consulta en nuestra API vamos a necesitar una nueva columna que nos especifique cual es el sentimiento que emerge de las palabras de las reviews de los usuarios. Para eso utilizaremos una libreria famosa para el procesamiento de lenguaje natural que nos colaborara en el proceso. "
   ]
  },
  {
   "cell_type": "code",
   "execution_count": 33,
   "metadata": {},
   "outputs": [],
   "source": [
    "from nltk.sentiment.vader import SentimentIntensityAnalyzer\n",
    "\n",
    "SID = SentimentIntensityAnalyzer()\n",
    "analysis = []\n",
    "\n",
    "for x in reviews.itertuples():\n",
    "  sentiment = SID.polarity_scores(x.review)['compound']\n",
    "  if sentiment<-.2:\n",
    "    value = 0\n",
    "  elif sentiment>.2:\n",
    "    value = 2\n",
    "  else:\n",
    "    value = 1\n",
    "  analysis.append(value)\n",
    "\n",
    "reviews['sentiment'] = pd.DataFrame(analysis)"
   ]
  },
  {
   "cell_type": "code",
   "execution_count": 34,
   "metadata": {},
   "outputs": [
    {
     "data": {
      "text/html": [
       "<div>\n",
       "<style scoped>\n",
       "    .dataframe tbody tr th:only-of-type {\n",
       "        vertical-align: middle;\n",
       "    }\n",
       "\n",
       "    .dataframe tbody tr th {\n",
       "        vertical-align: top;\n",
       "    }\n",
       "\n",
       "    .dataframe thead th {\n",
       "        text-align: right;\n",
       "    }\n",
       "</style>\n",
       "<table border=\"1\" class=\"dataframe\">\n",
       "  <thead>\n",
       "    <tr style=\"text-align: right;\">\n",
       "      <th></th>\n",
       "      <th>user_id</th>\n",
       "      <th>user_url</th>\n",
       "      <th>posted</th>\n",
       "      <th>item_id</th>\n",
       "      <th>recommend</th>\n",
       "      <th>review</th>\n",
       "      <th>sentiment</th>\n",
       "    </tr>\n",
       "  </thead>\n",
       "  <tbody>\n",
       "    <tr>\n",
       "      <th>2866</th>\n",
       "      <td>jason2305</td>\n",
       "      <td>http://steamcommunity.com/id/jason2305</td>\n",
       "      <td>2013-11-25</td>\n",
       "      <td>254200</td>\n",
       "      <td>False</td>\n",
       "      <td>2/10 -dumb as ♥♥♥♥</td>\n",
       "      <td>1</td>\n",
       "    </tr>\n",
       "  </tbody>\n",
       "</table>\n",
       "</div>"
      ],
      "text/plain": [
       "        user_id                                user_url      posted item_id  \\\n",
       "2866  jason2305  http://steamcommunity.com/id/jason2305  2013-11-25  254200   \n",
       "\n",
       "     recommend              review  sentiment  \n",
       "2866     False  2/10 -dumb as ♥♥♥♥          1  "
      ]
     },
     "execution_count": 34,
     "metadata": {},
     "output_type": "execute_result"
    }
   ],
   "source": [
    "reviews.sample()"
   ]
  },
  {
   "cell_type": "markdown",
   "metadata": {},
   "source": [
    "#### *Items*"
   ]
  },
  {
   "cell_type": "code",
   "execution_count": 35,
   "metadata": {},
   "outputs": [
    {
     "data": {
      "text/html": [
       "<div>\n",
       "<style scoped>\n",
       "    .dataframe tbody tr th:only-of-type {\n",
       "        vertical-align: middle;\n",
       "    }\n",
       "\n",
       "    .dataframe tbody tr th {\n",
       "        vertical-align: top;\n",
       "    }\n",
       "\n",
       "    .dataframe thead th {\n",
       "        text-align: right;\n",
       "    }\n",
       "</style>\n",
       "<table border=\"1\" class=\"dataframe\">\n",
       "  <thead>\n",
       "    <tr style=\"text-align: right;\">\n",
       "      <th></th>\n",
       "      <th>user_id</th>\n",
       "      <th>items_count</th>\n",
       "      <th>steam_id</th>\n",
       "      <th>user_url</th>\n",
       "      <th>items</th>\n",
       "    </tr>\n",
       "  </thead>\n",
       "  <tbody>\n",
       "    <tr>\n",
       "      <th>75955</th>\n",
       "      <td>76561198084325071</td>\n",
       "      <td>11</td>\n",
       "      <td>76561198084325071</td>\n",
       "      <td>http://steamcommunity.com/profiles/76561198084...</td>\n",
       "      <td>[{'item_id': '205790', 'item_name': 'Dota 2 Te...</td>\n",
       "    </tr>\n",
       "  </tbody>\n",
       "</table>\n",
       "</div>"
      ],
      "text/plain": [
       "                 user_id  items_count           steam_id  \\\n",
       "75955  76561198084325071           11  76561198084325071   \n",
       "\n",
       "                                                user_url  \\\n",
       "75955  http://steamcommunity.com/profiles/76561198084...   \n",
       "\n",
       "                                                   items  \n",
       "75955  [{'item_id': '205790', 'item_name': 'Dota 2 Te...  "
      ]
     },
     "execution_count": 35,
     "metadata": {},
     "output_type": "execute_result"
    }
   ],
   "source": [
    "items.sample()"
   ]
  },
  {
   "cell_type": "markdown",
   "metadata": {},
   "source": [
    "Otra columna multivariada"
   ]
  },
  {
   "cell_type": "code",
   "execution_count": 36,
   "metadata": {},
   "outputs": [],
   "source": [
    "# Se divide las listas por registro\n",
    "items = items.explode('items')"
   ]
  },
  {
   "cell_type": "code",
   "execution_count": 37,
   "metadata": {},
   "outputs": [],
   "source": [
    "# Dividimos cada llave de cada diccionario dentro de su propia columna dentro de nuestro dataset\n",
    "items['item_id'] = items['items'].apply(lambda x: np.nan if isinstance(x,float) else x['item_id'])\n",
    "items['item_name'] = items['items'].apply(lambda x: np.nan if isinstance(x,float) else x['item_name'])\n",
    "items['playtime_forever'] = items['items'].apply(lambda x: np.nan if isinstance(x,float) else x['playtime_forever'])"
   ]
  },
  {
   "cell_type": "code",
   "execution_count": 38,
   "metadata": {},
   "outputs": [
    {
     "name": "stdout",
     "output_type": "stream",
     "text": [
      "Vacios: 67224\n",
      "Vacios: 0\n"
     ]
    }
   ],
   "source": [
    "# Validamos vacios\n",
    "print(f\"Vacios: {items.isna().sum().sum()}\")\n",
    "items.dropna(inplace=True)\n",
    "print(f\"Vacios: {items.isna().sum().sum()}\")"
   ]
  },
  {
   "cell_type": "code",
   "execution_count": 39,
   "metadata": {},
   "outputs": [],
   "source": [
    "# Eliminamos columnas innecesarias\n",
    "items.drop(columns=['items','steam_id','items_count','user_url'],inplace=True)"
   ]
  },
  {
   "cell_type": "code",
   "execution_count": 40,
   "metadata": {},
   "outputs": [],
   "source": [
    "# Retoque final para el merge con la tabla games\n",
    "items.rename(columns={\"item_name\":\"game_title\"},inplace=True)"
   ]
  },
  {
   "cell_type": "code",
   "execution_count": 41,
   "metadata": {},
   "outputs": [
    {
     "data": {
      "text/html": [
       "<div>\n",
       "<style scoped>\n",
       "    .dataframe tbody tr th:only-of-type {\n",
       "        vertical-align: middle;\n",
       "    }\n",
       "\n",
       "    .dataframe tbody tr th {\n",
       "        vertical-align: top;\n",
       "    }\n",
       "\n",
       "    .dataframe thead th {\n",
       "        text-align: right;\n",
       "    }\n",
       "</style>\n",
       "<table border=\"1\" class=\"dataframe\">\n",
       "  <thead>\n",
       "    <tr style=\"text-align: right;\">\n",
       "      <th></th>\n",
       "      <th>user_id</th>\n",
       "      <th>item_id</th>\n",
       "      <th>game_title</th>\n",
       "      <th>playtime_forever</th>\n",
       "    </tr>\n",
       "  </thead>\n",
       "  <tbody>\n",
       "    <tr>\n",
       "      <th>10512</th>\n",
       "      <td>76561198057263232</td>\n",
       "      <td>550</td>\n",
       "      <td>Left 4 Dead 2</td>\n",
       "      <td>113.0</td>\n",
       "    </tr>\n",
       "  </tbody>\n",
       "</table>\n",
       "</div>"
      ],
      "text/plain": [
       "                 user_id item_id     game_title  playtime_forever\n",
       "10512  76561198057263232     550  Left 4 Dead 2             113.0"
      ]
     },
     "execution_count": 41,
     "metadata": {},
     "output_type": "execute_result"
    }
   ],
   "source": [
    "items.sample()"
   ]
  },
  {
   "cell_type": "markdown",
   "metadata": {},
   "source": [
    "***\n",
    "### **L**oad\n",
    "- Como cereza del pastel debemos cargar nuestros datos ya procesados a un sistema de origen. Este sistema dependera bastante de los requisitos de la organizacion y varia segun sus objetivos. Para este proyecto la carga se hara directamente en la Web mediante una API y en esta ocasion exportaremos solo parte de nuestro gran dataset, por cuestion de rendimiento, eficiencia y funcionamiento de la aplicacion que utilizaremos para el despliegue, Render. Para ser mas claros estos servicios poseen una prueba gratuita pero bastante limitada en cuestion de memoria."
   ]
  },
  {
   "cell_type": "code",
   "execution_count": 42,
   "metadata": {},
   "outputs": [],
   "source": [
    "game_item = pd.merge(games,items,on='game_title')\n",
    "game_item.drop(columns=['game_title','url','id','item_id'],inplace=True)\n",
    "game_item['release_date'] = pd.to_datetime(game_item['release_date']).dt.year"
   ]
  },
  {
   "cell_type": "code",
   "execution_count": 43,
   "metadata": {},
   "outputs": [
    {
     "data": {
      "text/html": [
       "<div>\n",
       "<style scoped>\n",
       "    .dataframe tbody tr th:only-of-type {\n",
       "        vertical-align: middle;\n",
       "    }\n",
       "\n",
       "    .dataframe tbody tr th {\n",
       "        vertical-align: top;\n",
       "    }\n",
       "\n",
       "    .dataframe thead th {\n",
       "        text-align: right;\n",
       "    }\n",
       "</style>\n",
       "<table border=\"1\" class=\"dataframe\">\n",
       "  <thead>\n",
       "    <tr style=\"text-align: right;\">\n",
       "      <th></th>\n",
       "      <th>genres</th>\n",
       "      <th>release_date</th>\n",
       "      <th>price</th>\n",
       "      <th>developer</th>\n",
       "      <th>user_id</th>\n",
       "      <th>playtime_forever</th>\n",
       "    </tr>\n",
       "  </thead>\n",
       "  <tbody>\n",
       "    <tr>\n",
       "      <th>3641640</th>\n",
       "      <td>Indie</td>\n",
       "      <td>2016</td>\n",
       "      <td>14.99</td>\n",
       "      <td>Gaming Corps AB</td>\n",
       "      <td>CSMisBeast</td>\n",
       "      <td>0.0</td>\n",
       "    </tr>\n",
       "  </tbody>\n",
       "</table>\n",
       "</div>"
      ],
      "text/plain": [
       "        genres  release_date  price        developer     user_id  \\\n",
       "3641640  Indie          2016  14.99  Gaming Corps AB  CSMisBeast   \n",
       "\n",
       "         playtime_forever  \n",
       "3641640               0.0  "
      ]
     },
     "execution_count": 43,
     "metadata": {},
     "output_type": "execute_result"
    }
   ],
   "source": [
    "game_item.sample()"
   ]
  },
  {
   "cell_type": "code",
   "execution_count": 44,
   "metadata": {},
   "outputs": [],
   "source": [
    "reviews_items = pd.merge(reviews,items[['item_id','game_title']].drop_duplicates(),on='item_id')\n",
    "reviews_items.dropna(inplace=True)"
   ]
  },
  {
   "cell_type": "code",
   "execution_count": 45,
   "metadata": {},
   "outputs": [],
   "source": [
    "all_dfs = pd.merge(reviews_items, games[['game_title','developer','id','url','price']].drop_duplicates(), on='game_title')\n",
    "all_dfs.dropna(inplace=True)"
   ]
  },
  {
   "cell_type": "code",
   "execution_count": 46,
   "metadata": {},
   "outputs": [
    {
     "data": {
      "text/html": [
       "<div>\n",
       "<style scoped>\n",
       "    .dataframe tbody tr th:only-of-type {\n",
       "        vertical-align: middle;\n",
       "    }\n",
       "\n",
       "    .dataframe tbody tr th {\n",
       "        vertical-align: top;\n",
       "    }\n",
       "\n",
       "    .dataframe thead th {\n",
       "        text-align: right;\n",
       "    }\n",
       "</style>\n",
       "<table border=\"1\" class=\"dataframe\">\n",
       "  <thead>\n",
       "    <tr style=\"text-align: right;\">\n",
       "      <th></th>\n",
       "      <th>user_id</th>\n",
       "      <th>user_url</th>\n",
       "      <th>posted</th>\n",
       "      <th>item_id</th>\n",
       "      <th>recommend</th>\n",
       "      <th>review</th>\n",
       "      <th>sentiment</th>\n",
       "      <th>game_title</th>\n",
       "      <th>developer</th>\n",
       "      <th>id</th>\n",
       "      <th>url</th>\n",
       "      <th>price</th>\n",
       "    </tr>\n",
       "  </thead>\n",
       "  <tbody>\n",
       "    <tr>\n",
       "      <th>27988</th>\n",
       "      <td>SethSentry</td>\n",
       "      <td>http://steamcommunity.com/id/SethSentry</td>\n",
       "      <td>2014-11-03</td>\n",
       "      <td>244730</td>\n",
       "      <td>True</td>\n",
       "      <td>It's a game where you dive and kick, you just ...</td>\n",
       "      <td>2</td>\n",
       "      <td>Divekick</td>\n",
       "      <td>Iron Galaxy Studios, LLC</td>\n",
       "      <td>244730</td>\n",
       "      <td>http://store.steampowered.com/app/244730/Divek...</td>\n",
       "      <td>4.99</td>\n",
       "    </tr>\n",
       "  </tbody>\n",
       "</table>\n",
       "</div>"
      ],
      "text/plain": [
       "          user_id                                 user_url      posted  \\\n",
       "27988  SethSentry  http://steamcommunity.com/id/SethSentry  2014-11-03   \n",
       "\n",
       "      item_id recommend                                             review  \\\n",
       "27988  244730      True  It's a game where you dive and kick, you just ...   \n",
       "\n",
       "       sentiment game_title                 developer      id  \\\n",
       "27988          2   Divekick  Iron Galaxy Studios, LLC  244730   \n",
       "\n",
       "                                                     url  price  \n",
       "27988  http://store.steampowered.com/app/244730/Divek...   4.99  "
      ]
     },
     "execution_count": 46,
     "metadata": {},
     "output_type": "execute_result"
    }
   ],
   "source": [
    "all_dfs.sample()"
   ]
  },
  {
   "cell_type": "code",
   "execution_count": 47,
   "metadata": {},
   "outputs": [
    {
     "name": "stderr",
     "output_type": "stream",
     "text": [
      "c:\\Users\\jmoc9\\anaconda3\\envs\\pi\\Lib\\site-packages\\pyarrow\\pandas_compat.py:373: FutureWarning: is_sparse is deprecated and will be removed in a future version. Check `isinstance(dtype, pd.SparseDtype)` instead.\n",
      "  if _pandas_api.is_sparse(col):\n"
     ]
    }
   ],
   "source": [
    "game_item[:len(game_item)//2].to_parquet('./clean_datasets/game_items.parquet')\n",
    "all_dfs.to_parquet('./clean_datasets/all_dfs.parquet')"
   ]
  },
  {
   "cell_type": "code",
   "execution_count": 48,
   "metadata": {},
   "outputs": [],
   "source": [
    "def developer(developer:str):\n",
    "  '''\n",
    "  Devuelve la cantidad de items y el porcentaje de contenido Free por año\n",
    "  segun empresa desarrolladora.\n",
    "  '''\n",
    "  df = game_item[game_item['developer']==developer]\n",
    "  items = df.groupby('release_date')['developer'].count().reset_index()\n",
    "  free = df[df['price']==0].groupby('release_date')['developer'].count().reset_index()\n",
    "  \n",
    "  \n",
    "  rows = []\n",
    "  merge = pd.merge(free,items,on='release_date')\n",
    "  for x in items.itertuples():\n",
    "    if x.release_date in list(merge['release_date']):\n",
    "      free_content = round((merge[merge['release_date']==x.release_date]['developer_x']/x.developer)*100,2).item()\n",
    "    else:\n",
    "      free_content = 0\n",
    "    \n",
    "    rows.append({\"Año\":x.release_date,\"Cantidad de items\":x.developer,\"Contenido Free\":f\"{free_content}%\"})\n",
    "  res = {\n",
    "    developer:rows\n",
    "  }\n",
    "  return res"
   ]
  },
  {
   "cell_type": "code",
   "execution_count": 49,
   "metadata": {},
   "outputs": [
    {
     "data": {
      "text/plain": [
       "{'Valve': [{'Año': 1998, 'Cantidad de items': 7750, 'Contenido Free': '0%'},\n",
       "  {'Año': 1999, 'Cantidad de items': 6334, 'Contenido Free': '0%'},\n",
       "  {'Año': 2000, 'Cantidad de items': 13044, 'Contenido Free': '0%'},\n",
       "  {'Año': 2001, 'Cantidad de items': 3274, 'Contenido Free': '0%'},\n",
       "  {'Año': 2003, 'Cantidad de items': 3465, 'Contenido Free': '0%'},\n",
       "  {'Año': 2004, 'Cantidad de items': 72060, 'Contenido Free': '0%'},\n",
       "  {'Año': 2006, 'Cantidad de items': 26602, 'Contenido Free': '0%'},\n",
       "  {'Año': 2007, 'Cantidad de items': 31834, 'Contenido Free': '0%'},\n",
       "  {'Año': 2008, 'Cantidad de items': 6585, 'Contenido Free': '0%'},\n",
       "  {'Año': 2009, 'Cantidad de items': 37044, 'Contenido Free': '0%'},\n",
       "  {'Año': 2010, 'Cantidad de items': 4978, 'Contenido Free': '0%'},\n",
       "  {'Año': 2011, 'Cantidad de items': 48930, 'Contenido Free': '0%'},\n",
       "  {'Año': 2012, 'Cantidad de items': 43776, 'Contenido Free': '0%'}]}"
      ]
     },
     "execution_count": 49,
     "metadata": {},
     "output_type": "execute_result"
    }
   ],
   "source": [
    "developer('Valve')"
   ]
  },
  {
   "cell_type": "code",
   "execution_count": 50,
   "metadata": {},
   "outputs": [],
   "source": [
    "def user_data(user_id:str):\n",
    "  '''\n",
    "  Devuelve la cantidad de dinero gastado por el usuario mas el \n",
    "  porcentaje de recomendacion y la cantidad de items\n",
    "  '''\n",
    "  df = all_dfs[all_dfs['user_id']==user_id]\n",
    "  money = df['price'].sum()\n",
    "  items = len(df)\n",
    "\n",
    "  user_reviews = df[df['user_id']==user_id]\n",
    "  recommendation = (user_reviews['recommend'].sum()/len(user_reviews))*100\n",
    "\n",
    "  res = {\n",
    "    \"Usuario X\": user_id,\n",
    "    \"Dinero gastado\": round(money,2),\n",
    "    \"% de recomendacion\": f\"{round(recommendation,2)}%\",\n",
    "    \"Cantidad de items\": items\n",
    "  }\n",
    "\n",
    "  return  res\n"
   ]
  },
  {
   "cell_type": "code",
   "execution_count": 51,
   "metadata": {},
   "outputs": [
    {
     "data": {
      "text/plain": [
       "{'Usuario X': 'Shredderman962',\n",
       " 'Dinero gastado': 109.92,\n",
       " '% de recomendacion': '75.0%',\n",
       " 'Cantidad de items': 8}"
      ]
     },
     "execution_count": 51,
     "metadata": {},
     "output_type": "execute_result"
    }
   ],
   "source": [
    "user_data('Shredderman962')"
   ]
  },
  {
   "cell_type": "code",
   "execution_count": 275,
   "metadata": {},
   "outputs": [],
   "source": [
    "def user_for_genre(genre:str):\n",
    "  '''\n",
    "  Devuelve el usuario con mas horas jugadas para el genero dado \n",
    "  y una lista de acumulaciones de horas jugadas por año\n",
    "  '''\n",
    "  df = game_item[game_item['genres']==genre]\n",
    "\n",
    "  user = df.groupby('user_id')['playtime_forever'].sum().sort_values(ascending=False).index[0]\n",
    "  hours = df[df['user_id']==user].groupby('release_date')['playtime_forever'].sum()\n",
    "\n",
    "  year = []\n",
    "  for i,x in enumerate(hours):\n",
    "    if x!=0:\n",
    "      year.append({\"Año\":hours.index[i].item(),\"Horas\":int(x)})\n",
    "\n",
    "  res = {\n",
    "    \"Usuario con mas horas jugadas para Genero\":user,\n",
    "    \"Horas Jugadas\": year\n",
    "  }\n",
    "  return res"
   ]
  },
  {
   "cell_type": "code",
   "execution_count": 276,
   "metadata": {},
   "outputs": [
    {
     "data": {
      "text/plain": [
       "{'Usuario con mas horas jugadas para Genero': 'REBAS_AS_F-T',\n",
       " 'Horas Jugadas': [{'Año': 2003, 'Horas': 1863},\n",
       "  {'Año': 2005, 'Horas': 1113},\n",
       "  {'Año': 2008, 'Horas': 1241},\n",
       "  {'Año': 2009, 'Horas': 16913},\n",
       "  {'Año': 2010, 'Horas': 16069},\n",
       "  {'Año': 2011, 'Horas': 54983},\n",
       "  {'Año': 2012, 'Horas': 107829},\n",
       "  {'Año': 2013, 'Horas': 205688},\n",
       "  {'Año': 2014, 'Horas': 154961},\n",
       "  {'Año': 2015, 'Horas': 575410},\n",
       "  {'Año': 2016, 'Horas': 713970},\n",
       "  {'Año': 2017, 'Horas': 32620}]}"
      ]
     },
     "execution_count": 276,
     "metadata": {},
     "output_type": "execute_result"
    }
   ],
   "source": [
    "user_for_genre('Adventure')"
   ]
  },
  {
   "cell_type": "code",
   "execution_count": 54,
   "metadata": {},
   "outputs": [],
   "source": [
    "def best_developer_year(year:int):\n",
    "  '''\n",
    "  Devuelve el top 3 de desarrolladores con juegos mas recomendados por usuarios para el año dado.\n",
    "  '''\n",
    "  df = all_dfs[pd.to_datetime(all_dfs['posted']).dt.year == int(year)].copy()\n",
    "  df['posted'] = pd.to_datetime(df['posted']).dt.year\n",
    "  recommendation = df.groupby('developer')['recommend'].sum().sort_values(ascending=False)[:3]\n",
    "  \n",
    "  res = {\n",
    "    \"Año\":year,\n",
    "    \"Res\":[\n",
    "      {\"Puesto 1\":recommendation.index[0]},\n",
    "      {\"Puesto 2\":recommendation.index[1]},\n",
    "      {\"Puesto 3\":recommendation.index[2]}\n",
    "    ]\n",
    "  }\n",
    "  return res"
   ]
  },
  {
   "cell_type": "code",
   "execution_count": 55,
   "metadata": {},
   "outputs": [
    {
     "data": {
      "text/plain": [
       "{'Año': 2015,\n",
       " 'Res': [{'Puesto 1': 'Valve'},\n",
       "  {'Puesto 2': 'Facepunch Studios'},\n",
       "  {'Puesto 3': 'Smartly Dressed Games'}]}"
      ]
     },
     "execution_count": 55,
     "metadata": {},
     "output_type": "execute_result"
    }
   ],
   "source": [
    "best_developer_year(2015)"
   ]
  },
  {
   "cell_type": "code",
   "execution_count": 56,
   "metadata": {},
   "outputs": [],
   "source": [
    "def developer_reviews_analysis(developer:str):\n",
    "  '''\n",
    "  Devuelve un diccionario con el nombre del desarrollador como llave y una lista con la cantidad total de registros de reseñas de usuarios que se encuentren categorizados con un analisis de sentimiento como valor positivo o negativo.\n",
    "  '''\n",
    "  df = all_dfs[all_dfs['developer']==developer].copy()\n",
    "  sentiments = df['sentiment'].value_counts()\n",
    "  res = {\n",
    "    developer:{\n",
    "      \"Negative\":sentiments.values[2], \n",
    "      \"Positive\":sentiments.values[0]\n",
    "    }\n",
    "  }\n",
    "  return res"
   ]
  },
  {
   "cell_type": "code",
   "execution_count": 57,
   "metadata": {},
   "outputs": [
    {
     "data": {
      "text/plain": [
       "{'Re-Logic': {'Negative': 90, 'Positive': 352}}"
      ]
     },
     "execution_count": 57,
     "metadata": {},
     "output_type": "execute_result"
    }
   ],
   "source": [
    "developer_reviews_analysis('Re-Logic')"
   ]
  },
  {
   "cell_type": "markdown",
   "metadata": {},
   "source": [
    "***\n",
    "### **EDA**\n",
    "***"
   ]
  },
  {
   "cell_type": "markdown",
   "metadata": {},
   "source": [
    "Tenemos las funciones listas junto a nuestro sistema de recomendacion dentro de la api ya disponible en la nube, pero que hay de los datos en si? realmente tienen cierto sentido o patron dentro del sistema? y los outliers? Bueno, miraremos un poco esto resolviendo un par de preguntas respecto a los datos que nos suministran algunas tablas:\n",
    "- Cual es el genero mas frecuente dentro de la plataforma?\n",
    "- Cuales son los videojuegos mas apreciados por la comunidad?\n",
    "- Existe una relacion entre las reviews y sus años de publicacion?\n",
    "- Cual es el margen o rango entre los precios de los juegos dentro de la plataforma? "
   ]
  },
  {
   "cell_type": "markdown",
   "metadata": {},
   "source": [
    "***\n",
    "##### *Cual es el genero mas frecuente dentro de la plataforma?*"
   ]
  },
  {
   "cell_type": "code",
   "execution_count": 58,
   "metadata": {},
   "outputs": [],
   "source": [
    "import matplotlib.pyplot as plt"
   ]
  },
  {
   "cell_type": "code",
   "execution_count": 250,
   "metadata": {},
   "outputs": [
    {
     "data": {
      "text/html": [
       "<div>\n",
       "<style scoped>\n",
       "    .dataframe tbody tr th:only-of-type {\n",
       "        vertical-align: middle;\n",
       "    }\n",
       "\n",
       "    .dataframe tbody tr th {\n",
       "        vertical-align: top;\n",
       "    }\n",
       "\n",
       "    .dataframe thead th {\n",
       "        text-align: right;\n",
       "    }\n",
       "</style>\n",
       "<table border=\"1\" class=\"dataframe\">\n",
       "  <thead>\n",
       "    <tr style=\"text-align: right;\">\n",
       "      <th></th>\n",
       "      <th>genres</th>\n",
       "      <th>game_title</th>\n",
       "      <th>url</th>\n",
       "      <th>release_date</th>\n",
       "      <th>price</th>\n",
       "      <th>id</th>\n",
       "      <th>developer</th>\n",
       "    </tr>\n",
       "  </thead>\n",
       "  <tbody>\n",
       "    <tr>\n",
       "      <th>112609</th>\n",
       "      <td>Action</td>\n",
       "      <td>Toro</td>\n",
       "      <td>http://store.steampowered.com/app/416720/Toro/</td>\n",
       "      <td>2016-01-26</td>\n",
       "      <td>2.99</td>\n",
       "      <td>416720</td>\n",
       "      <td>Recotechnology S.L.</td>\n",
       "    </tr>\n",
       "  </tbody>\n",
       "</table>\n",
       "</div>"
      ],
      "text/plain": [
       "        genres game_title                                             url  \\\n",
       "112609  Action       Toro  http://store.steampowered.com/app/416720/Toro/   \n",
       "\n",
       "       release_date  price      id            developer  \n",
       "112609   2016-01-26   2.99  416720  Recotechnology S.L.  "
      ]
     },
     "execution_count": 250,
     "metadata": {},
     "output_type": "execute_result"
    }
   ],
   "source": [
    "# Miramos nuestra tabla a utilizar\n",
    "games.sample()"
   ]
  },
  {
   "cell_type": "code",
   "execution_count": 61,
   "metadata": {},
   "outputs": [
    {
     "data": {
      "text/html": [
       "<div>\n",
       "<style scoped>\n",
       "    .dataframe tbody tr th:only-of-type {\n",
       "        vertical-align: middle;\n",
       "    }\n",
       "\n",
       "    .dataframe tbody tr th {\n",
       "        vertical-align: top;\n",
       "    }\n",
       "\n",
       "    .dataframe thead th {\n",
       "        text-align: right;\n",
       "    }\n",
       "</style>\n",
       "<table border=\"1\" class=\"dataframe\">\n",
       "  <thead>\n",
       "    <tr style=\"text-align: right;\">\n",
       "      <th></th>\n",
       "      <th>genres</th>\n",
       "      <th>id</th>\n",
       "    </tr>\n",
       "  </thead>\n",
       "  <tbody>\n",
       "    <tr>\n",
       "      <th>16</th>\n",
       "      <td>Sports</td>\n",
       "      <td>1029</td>\n",
       "    </tr>\n",
       "    <tr>\n",
       "      <th>6</th>\n",
       "      <td>Early Access</td>\n",
       "      <td>1356</td>\n",
       "    </tr>\n",
       "    <tr>\n",
       "      <th>8</th>\n",
       "      <td>Free to Play</td>\n",
       "      <td>1454</td>\n",
       "    </tr>\n",
       "    <tr>\n",
       "      <th>12</th>\n",
       "      <td>RPG</td>\n",
       "      <td>3801</td>\n",
       "    </tr>\n",
       "    <tr>\n",
       "      <th>14</th>\n",
       "      <td>Simulation</td>\n",
       "      <td>4720</td>\n",
       "    </tr>\n",
       "    <tr>\n",
       "      <th>17</th>\n",
       "      <td>Strategy</td>\n",
       "      <td>5206</td>\n",
       "    </tr>\n",
       "    <tr>\n",
       "      <th>4</th>\n",
       "      <td>Casual</td>\n",
       "      <td>6276</td>\n",
       "    </tr>\n",
       "    <tr>\n",
       "      <th>1</th>\n",
       "      <td>Adventure</td>\n",
       "      <td>7011</td>\n",
       "    </tr>\n",
       "    <tr>\n",
       "      <th>0</th>\n",
       "      <td>Action</td>\n",
       "      <td>9412</td>\n",
       "    </tr>\n",
       "    <tr>\n",
       "      <th>9</th>\n",
       "      <td>Indie</td>\n",
       "      <td>12680</td>\n",
       "    </tr>\n",
       "  </tbody>\n",
       "</table>\n",
       "</div>"
      ],
      "text/plain": [
       "          genres     id\n",
       "16        Sports   1029\n",
       "6   Early Access   1356\n",
       "8   Free to Play   1454\n",
       "12           RPG   3801\n",
       "14    Simulation   4720\n",
       "17      Strategy   5206\n",
       "4         Casual   6276\n",
       "1      Adventure   7011\n",
       "0         Action   9412\n",
       "9          Indie  12680"
      ]
     },
     "execution_count": 61,
     "metadata": {},
     "output_type": "execute_result"
    }
   ],
   "source": [
    "# Agrupamos y ordenamos utilizando la columna genero y id\n",
    "top_genre = games.groupby('genres').count().reset_index()[['genres','id']].sort_values(by='id',ascending=True)[-10:]\n",
    "top_genre"
   ]
  },
  {
   "cell_type": "code",
   "execution_count": 62,
   "metadata": {},
   "outputs": [
    {
     "data": {
      "image/png": "[encoded data removed]",
      "text/plain": [
       "<Figure size 640x480 with 1 Axes>"
      ]
     },
     "metadata": {},
     "output_type": "display_data"
    }
   ],
   "source": [
    "# Configuramos la grafica\n",
    "plt.barh(top_genre['genres'], top_genre['id'], color='#FF5733') \n",
    "plt.xlabel('Cantidad')\n",
    "plt.ylabel('Genero')\n",
    "plt.title('Top 10 generos')\n",
    "# Ajustamos detalles\n",
    "plt.subplots_adjust(left=0.2, right=0.8, top=0.8, bottom=0.2)\n",
    "plt.gca().set_facecolor('whitesmoke') \n",
    "# Printeamos\n",
    "plt.show()"
   ]
  },
  {
   "cell_type": "markdown",
   "metadata": {},
   "source": [
    "- El *genero* que mas se presenta dentro de los videojuegos en steam es el **Indie** con un total de **12680** apariciones."
   ]
  },
  {
   "cell_type": "markdown",
   "metadata": {},
   "source": [
    "***\n",
    "##### *Cuales son los videojuegos mas apreciados por la comunidad?*\n",
    "\n",
    "- La manera en como cuantificaremos el *aprecio* de los usuarios respecto a un videojuego va a ser respecto a que tanto recomiendan estos el producto en si mismo."
   ]
  },
  {
   "cell_type": "code",
   "execution_count": 66,
   "metadata": {},
   "outputs": [
    {
     "data": {
      "text/plain": [
       "game_title\n",
       "Portal 2                             292\n",
       "DayZ                                 438\n",
       "Borderlands 2                        443\n",
       "Warframe                             451\n",
       "Rust                                 565\n",
       "Left 4 Dead 2                        578\n",
       "Terraria                             581\n",
       "Unturned                             755\n",
       "Garry's Mod                         1343\n",
       "Counter-Strike: Global Offensive    2760\n",
       "Name: recommend, dtype: object"
      ]
     },
     "execution_count": 66,
     "metadata": {},
     "output_type": "execute_result"
    }
   ],
   "source": [
    "# Se agrupan, ordenan y seleccionan los datos relevantes\n",
    "top_games = all_dfs.groupby('game_title')['recommend'].sum().sort_values(ascending=True)[-10:]\n",
    "top_games"
   ]
  },
  {
   "cell_type": "code",
   "execution_count": 254,
   "metadata": {},
   "outputs": [
    {
     "data": {
      "image/png": "[encoded data removed]",
      "text/plain": [
       "<Figure size 640x480 with 1 Axes>"
      ]
     },
     "metadata": {},
     "output_type": "display_data"
    }
   ],
   "source": [
    "# Se printean porcentajes\n",
    "fig, ax = plt.subplots()\n",
    "ax.pie(top_games[-5:],labels=top_games.index[-5:],autopct='%1.1f%%')\n",
    "plt.title('Mejores juegos dentro de la plataforma')\n",
    "plt.show()"
   ]
  },
  {
   "cell_type": "markdown",
   "metadata": {},
   "source": [
    "***\n",
    "##### *Existe una relacion entre las reviews y sus años de publicacion?*"
   ]
  },
  {
   "cell_type": "code",
   "execution_count": 144,
   "metadata": {},
   "outputs": [],
   "source": [
    "# Se hace un ajuste del dataframe original para evitar datos extra que no necesitamos\n",
    "s_through_years = all_dfs[['game_title','sentiment','posted']].drop_duplicates().copy()\n",
    "s_through_years['posted'] = pd.to_datetime(s_through_years['posted']).dt.year"
   ]
  },
  {
   "cell_type": "code",
   "execution_count": 145,
   "metadata": {},
   "outputs": [],
   "source": [
    "# El respectivo binning de los datos\n",
    "group = s_through_years.groupby('posted')['sentiment'].value_counts()\n",
    "df_group = pd.DataFrame(group).reset_index()"
   ]
  },
  {
   "cell_type": "code",
   "execution_count": 147,
   "metadata": {},
   "outputs": [
    {
     "data": {
      "text/html": [
       "<div>\n",
       "<style scoped>\n",
       "    .dataframe tbody tr th:only-of-type {\n",
       "        vertical-align: middle;\n",
       "    }\n",
       "\n",
       "    .dataframe tbody tr th {\n",
       "        vertical-align: top;\n",
       "    }\n",
       "\n",
       "    .dataframe thead th {\n",
       "        text-align: right;\n",
       "    }\n",
       "</style>\n",
       "<table border=\"1\" class=\"dataframe\">\n",
       "  <thead>\n",
       "    <tr style=\"text-align: right;\">\n",
       "      <th></th>\n",
       "      <th>posted</th>\n",
       "      <th>sentiment</th>\n",
       "      <th>count</th>\n",
       "    </tr>\n",
       "  </thead>\n",
       "  <tbody>\n",
       "    <tr>\n",
       "      <th>0</th>\n",
       "      <td>2010</td>\n",
       "      <td>2</td>\n",
       "      <td>29</td>\n",
       "    </tr>\n",
       "    <tr>\n",
       "      <th>1</th>\n",
       "      <td>2010</td>\n",
       "      <td>1</td>\n",
       "      <td>17</td>\n",
       "    </tr>\n",
       "    <tr>\n",
       "      <th>2</th>\n",
       "      <td>2010</td>\n",
       "      <td>0</td>\n",
       "      <td>4</td>\n",
       "    </tr>\n",
       "    <tr>\n",
       "      <th>3</th>\n",
       "      <td>2011</td>\n",
       "      <td>2</td>\n",
       "      <td>261</td>\n",
       "    </tr>\n",
       "    <tr>\n",
       "      <th>4</th>\n",
       "      <td>2011</td>\n",
       "      <td>1</td>\n",
       "      <td>59</td>\n",
       "    </tr>\n",
       "    <tr>\n",
       "      <th>5</th>\n",
       "      <td>2011</td>\n",
       "      <td>0</td>\n",
       "      <td>33</td>\n",
       "    </tr>\n",
       "    <tr>\n",
       "      <th>6</th>\n",
       "      <td>2012</td>\n",
       "      <td>2</td>\n",
       "      <td>501</td>\n",
       "    </tr>\n",
       "    <tr>\n",
       "      <th>7</th>\n",
       "      <td>2012</td>\n",
       "      <td>1</td>\n",
       "      <td>184</td>\n",
       "    </tr>\n",
       "    <tr>\n",
       "      <th>8</th>\n",
       "      <td>2012</td>\n",
       "      <td>0</td>\n",
       "      <td>108</td>\n",
       "    </tr>\n",
       "    <tr>\n",
       "      <th>9</th>\n",
       "      <td>2013</td>\n",
       "      <td>2</td>\n",
       "      <td>2178</td>\n",
       "    </tr>\n",
       "    <tr>\n",
       "      <th>10</th>\n",
       "      <td>2013</td>\n",
       "      <td>1</td>\n",
       "      <td>771</td>\n",
       "    </tr>\n",
       "    <tr>\n",
       "      <th>11</th>\n",
       "      <td>2013</td>\n",
       "      <td>0</td>\n",
       "      <td>347</td>\n",
       "    </tr>\n",
       "    <tr>\n",
       "      <th>12</th>\n",
       "      <td>2014</td>\n",
       "      <td>2</td>\n",
       "      <td>6623</td>\n",
       "    </tr>\n",
       "    <tr>\n",
       "      <th>13</th>\n",
       "      <td>2014</td>\n",
       "      <td>1</td>\n",
       "      <td>2698</td>\n",
       "    </tr>\n",
       "    <tr>\n",
       "      <th>14</th>\n",
       "      <td>2014</td>\n",
       "      <td>0</td>\n",
       "      <td>1685</td>\n",
       "    </tr>\n",
       "    <tr>\n",
       "      <th>15</th>\n",
       "      <td>2015</td>\n",
       "      <td>2</td>\n",
       "      <td>5834</td>\n",
       "    </tr>\n",
       "    <tr>\n",
       "      <th>16</th>\n",
       "      <td>2015</td>\n",
       "      <td>1</td>\n",
       "      <td>2732</td>\n",
       "    </tr>\n",
       "    <tr>\n",
       "      <th>17</th>\n",
       "      <td>2015</td>\n",
       "      <td>0</td>\n",
       "      <td>1831</td>\n",
       "    </tr>\n",
       "  </tbody>\n",
       "</table>\n",
       "</div>"
      ],
      "text/plain": [
       "    posted  sentiment  count\n",
       "0     2010          2     29\n",
       "1     2010          1     17\n",
       "2     2010          0      4\n",
       "3     2011          2    261\n",
       "4     2011          1     59\n",
       "5     2011          0     33\n",
       "6     2012          2    501\n",
       "7     2012          1    184\n",
       "8     2012          0    108\n",
       "9     2013          2   2178\n",
       "10    2013          1    771\n",
       "11    2013          0    347\n",
       "12    2014          2   6623\n",
       "13    2014          1   2698\n",
       "14    2014          0   1685\n",
       "15    2015          2   5834\n",
       "16    2015          1   2732\n",
       "17    2015          0   1831"
      ]
     },
     "execution_count": 147,
     "metadata": {},
     "output_type": "execute_result"
    }
   ],
   "source": [
    "#Vistazo de los datos agrupados\n",
    "df_group"
   ]
  },
  {
   "cell_type": "code",
   "execution_count": 146,
   "metadata": {},
   "outputs": [],
   "source": [
    "# Dividimos nuestro df y hacemos un filtrado para dividir los sentimientos en distintan tablas\n",
    "good = df_group[df_group['sentiment']==2]\n",
    "neutral = df_group[df_group['sentiment']==1]\n",
    "bad = df_group[df_group['sentiment']==0]"
   ]
  },
  {
   "cell_type": "code",
   "execution_count": 148,
   "metadata": {},
   "outputs": [
    {
     "data": {
      "image/png": "[encoded data removed]",
      "text/plain": [
       "<Figure size 640x480 with 1 Axes>"
      ]
     },
     "metadata": {},
     "output_type": "display_data"
    }
   ],
   "source": [
    "# Configuramos las pendientes para una buena ilustracion\n",
    "plt.plot(good['posted'],good['count'], linestyle='--',marker='*', label='Good',color='g')\n",
    "plt.plot(neutral['posted'],neutral['count'],linestyle='-.',marker='o',label='Neutral',color='y')\n",
    "plt.plot(bad['posted'],bad['count'],linestyle=':',marker='^',label='Bad', color='r')\n",
    "# Configuramos datos dentro de la grafica\n",
    "plt.title('Relacion sentimiento-año')\n",
    "plt.xlabel('Año')\n",
    "plt.ylabel('Cantidad personas con ese sentimiento')\n",
    "plt.legend()\n",
    "# Printeamos\n",
    "plt.show()"
   ]
  },
  {
   "cell_type": "markdown",
   "metadata": {},
   "source": [
    "- Como podemos ver realmente no hay mucha cambio entre los datos durante el transcurso del tiempo aparte de su aumento de volumen a travez de los años que a su vez representa el aumento en el volumen usuarios que entran a la plataforma y de ese pequeño decrecimiento entre el 2014 y el 2015"
   ]
  },
  {
   "cell_type": "markdown",
   "metadata": {},
   "source": [
    "***\n",
    "##### *Cual es el rango entre los precios de los juegos dentro de la plataforma?* \n",
    "\n",
    "- Queremos saber si todos los precios de los juegos realmente respetan un margen a pesar de la libertad que se le da a los desarrolladores para asignarles un valor. "
   ]
  },
  {
   "cell_type": "code",
   "execution_count": 243,
   "metadata": {},
   "outputs": [
    {
     "data": {
      "text/html": [
       "<div>\n",
       "<style scoped>\n",
       "    .dataframe tbody tr th:only-of-type {\n",
       "        vertical-align: middle;\n",
       "    }\n",
       "\n",
       "    .dataframe tbody tr th {\n",
       "        vertical-align: top;\n",
       "    }\n",
       "\n",
       "    .dataframe thead th {\n",
       "        text-align: right;\n",
       "    }\n",
       "</style>\n",
       "<table border=\"1\" class=\"dataframe\">\n",
       "  <thead>\n",
       "    <tr style=\"text-align: right;\">\n",
       "      <th></th>\n",
       "      <th>price</th>\n",
       "    </tr>\n",
       "  </thead>\n",
       "  <tbody>\n",
       "    <tr>\n",
       "      <th>count</th>\n",
       "      <td>1936.000000</td>\n",
       "    </tr>\n",
       "    <tr>\n",
       "      <th>mean</th>\n",
       "      <td>11.619509</td>\n",
       "    </tr>\n",
       "    <tr>\n",
       "      <th>std</th>\n",
       "      <td>20.673467</td>\n",
       "    </tr>\n",
       "    <tr>\n",
       "      <th>min</th>\n",
       "      <td>0.000000</td>\n",
       "    </tr>\n",
       "    <tr>\n",
       "      <th>25%</th>\n",
       "      <td>3.990000</td>\n",
       "    </tr>\n",
       "    <tr>\n",
       "      <th>50%</th>\n",
       "      <td>9.990000</td>\n",
       "    </tr>\n",
       "    <tr>\n",
       "      <th>75%</th>\n",
       "      <td>14.990000</td>\n",
       "    </tr>\n",
       "    <tr>\n",
       "      <th>max</th>\n",
       "      <td>771.710000</td>\n",
       "    </tr>\n",
       "  </tbody>\n",
       "</table>\n",
       "</div>"
      ],
      "text/plain": [
       "             price\n",
       "count  1936.000000\n",
       "mean     11.619509\n",
       "std      20.673467\n",
       "min       0.000000\n",
       "25%       3.990000\n",
       "50%       9.990000\n",
       "75%      14.990000\n",
       "max     771.710000"
      ]
     },
     "execution_count": 243,
     "metadata": {},
     "output_type": "execute_result"
    }
   ],
   "source": [
    "# Se eligen los datos que queremos y revisamos su distribucion\n",
    "prices = all_dfs[['game_title','price']].drop_duplicates()\n",
    "prices.describe()"
   ]
  },
  {
   "cell_type": "code",
   "execution_count": 244,
   "metadata": {},
   "outputs": [
    {
     "data": {
      "image/png": "[encoded data removed]",
      "text/plain": [
       "<Figure size 640x480 with 1 Axes>"
      ]
     },
     "metadata": {},
     "output_type": "display_data"
    }
   ],
   "source": [
    "# Vistazo rapido de su distribucion\n",
    "boxplot = plt.boxplot(prices['price'])\n",
    "outliers = boxplot['fliers'][0].get_data()[1]\n",
    "plt.show()"
   ]
  },
  {
   "cell_type": "code",
   "execution_count": 245,
   "metadata": {},
   "outputs": [],
   "source": [
    "# Se consiguen los outliers de la grafica\n",
    "outliers = pd.Series(outliers).sort_values(ascending=True)"
   ]
  },
  {
   "cell_type": "code",
   "execution_count": 246,
   "metadata": {},
   "outputs": [],
   "source": [
    "# Se omiten los outliers dentro de la columna original\n",
    "prices = prices[prices['price'] < outliers[0]]"
   ]
  },
  {
   "cell_type": "code",
   "execution_count": 247,
   "metadata": {},
   "outputs": [
    {
     "data": {
      "text/html": [
       "<div>\n",
       "<style scoped>\n",
       "    .dataframe tbody tr th:only-of-type {\n",
       "        vertical-align: middle;\n",
       "    }\n",
       "\n",
       "    .dataframe tbody tr th {\n",
       "        vertical-align: top;\n",
       "    }\n",
       "\n",
       "    .dataframe thead th {\n",
       "        text-align: right;\n",
       "    }\n",
       "</style>\n",
       "<table border=\"1\" class=\"dataframe\">\n",
       "  <thead>\n",
       "    <tr style=\"text-align: right;\">\n",
       "      <th></th>\n",
       "      <th>price</th>\n",
       "    </tr>\n",
       "  </thead>\n",
       "  <tbody>\n",
       "    <tr>\n",
       "      <th>count</th>\n",
       "      <td>1873.000000</td>\n",
       "    </tr>\n",
       "    <tr>\n",
       "      <th>mean</th>\n",
       "      <td>9.932931</td>\n",
       "    </tr>\n",
       "    <tr>\n",
       "      <th>std</th>\n",
       "      <td>7.836136</td>\n",
       "    </tr>\n",
       "    <tr>\n",
       "      <th>min</th>\n",
       "      <td>0.000000</td>\n",
       "    </tr>\n",
       "    <tr>\n",
       "      <th>25%</th>\n",
       "      <td>3.990000</td>\n",
       "    </tr>\n",
       "    <tr>\n",
       "      <th>50%</th>\n",
       "      <td>9.990000</td>\n",
       "    </tr>\n",
       "    <tr>\n",
       "      <th>75%</th>\n",
       "      <td>14.990000</td>\n",
       "    </tr>\n",
       "    <tr>\n",
       "      <th>max</th>\n",
       "      <td>34.990000</td>\n",
       "    </tr>\n",
       "  </tbody>\n",
       "</table>\n",
       "</div>"
      ],
      "text/plain": [
       "             price\n",
       "count  1873.000000\n",
       "mean      9.932931\n",
       "std       7.836136\n",
       "min       0.000000\n",
       "25%       3.990000\n",
       "50%       9.990000\n",
       "75%      14.990000\n",
       "max      34.990000"
      ]
     },
     "execution_count": 247,
     "metadata": {},
     "output_type": "execute_result"
    }
   ],
   "source": [
    "prices.describe()"
   ]
  },
  {
   "cell_type": "code",
   "execution_count": 248,
   "metadata": {},
   "outputs": [
    {
     "data": {
      "image/png": "[encoded data removed]",
      "text/plain": [
       "<Figure size 640x480 with 1 Axes>"
      ]
     },
     "metadata": {},
     "output_type": "display_data"
    }
   ],
   "source": [
    "# Vistazo final\n",
    "plt.boxplot(prices['price'])\n",
    "plt.show()"
   ]
  },
  {
   "cell_type": "markdown",
   "metadata": {},
   "source": [
    "Figense que aunque la mayoria de precios respetaban un rango entre 16.0 y 4.0 existian bastantes mas datos que sobrepasaban este margen y otros muy especificos que se alejaban demasiado de un maximo, en nuestro caso un juego que valia 771 dolares. Estos son registros que pueden llegar a alterar un monton nuestro promedio y distribuciones dentro de nuestros datos, lo cual los hace candidatos perfectos para excluirlos de nuestras tablas y trabajar con datos mas racionales."
   ]
  }
 ],
 "metadata": {
  "kernelspec": {
   "display_name": "pi",
   "language": "python",
   "name": "python3"
  },
  "language_info": {
   "codemirror_mode": {
    "name": "ipython",
    "version": 3
   },
   "file_extension": ".py",
   "mimetype": "text/x-python",
   "name": "python",
   "nbconvert_exporter": "python",
   "pygments_lexer": "ipython3",
   "version": "3.11.5"
  }
 },
 "nbformat": 4,
 "nbformat_minor": 2
}
