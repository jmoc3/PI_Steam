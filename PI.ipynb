{
 "cells": [
  {
   "cell_type": "code",
   "execution_count": 2,
   "metadata": {},
   "outputs": [],
   "source": [
    "import pandas as pd\n",
    "import numpy as np\n",
    "import json\n",
    "import ast"
   ]
  },
  {
   "cell_type": "markdown",
   "metadata": {},
   "source": [
    "***\n",
    "## Proceso de ETL\n",
    "***"
   ]
  },
  {
   "cell_type": "markdown",
   "metadata": {},
   "source": [
    "### **E**xtraction\n",
    "\n",
    "- La primera parte del proceso consiste en la extraccion de los datos desde su punto de origen, en nuestro caso se encuentran en un conjunto de datasets proporcionados por la empresa steam de tipo json."
   ]
  },
  {
   "cell_type": "code",
   "execution_count": 3,
   "metadata": {},
   "outputs": [
    {
     "name": "stdout",
     "output_type": "stream",
     "text": [
      "<class 'pandas.core.frame.DataFrame'>\n",
      "RangeIndex: 120445 entries, 0 to 120444\n",
      "Data columns (total 13 columns):\n",
      " #   Column        Non-Null Count  Dtype \n",
      "---  ------        --------------  ----- \n",
      " 0   publisher     24083 non-null  object\n",
      " 1   genres        28852 non-null  object\n",
      " 2   app_name      32133 non-null  object\n",
      " 3   title         30085 non-null  object\n",
      " 4   url           32135 non-null  object\n",
      " 5   release_date  30068 non-null  object\n",
      " 6   tags          31972 non-null  object\n",
      " 7   reviews_url   32133 non-null  object\n",
      " 8   specs         31465 non-null  object\n",
      " 9   price         30758 non-null  object\n",
      " 10  early_access  32135 non-null  object\n",
      " 11  id            32133 non-null  object\n",
      " 12  developer     28836 non-null  object\n",
      "dtypes: object(13)\n",
      "memory usage: 11.9+ MB\n"
     ]
    }
   ],
   "source": [
    "games = 'datasets/output_steam_games.json'\n",
    "\n",
    "# Se lee de cada línea del dataset\n",
    "rows = []\n",
    "with open(games) as f:\n",
    "    for line in f.readlines():\n",
    "        data = json.loads(line)\n",
    "        rows.append(data)\n",
    "\n",
    "# Se convierte a dataframe\n",
    "games = pd.DataFrame(rows)\n",
    "games.info()"
   ]
  },
  {
   "cell_type": "code",
   "execution_count": 4,
   "metadata": {},
   "outputs": [
    {
     "name": "stdout",
     "output_type": "stream",
     "text": [
      "<class 'pandas.core.frame.DataFrame'>\n",
      "RangeIndex: 25799 entries, 0 to 25798\n",
      "Data columns (total 3 columns):\n",
      " #   Column    Non-Null Count  Dtype \n",
      "---  ------    --------------  ----- \n",
      " 0   user_id   25799 non-null  object\n",
      " 1   user_url  25799 non-null  object\n",
      " 2   reviews   25799 non-null  object\n",
      "dtypes: object(3)\n",
      "memory usage: 604.8+ KB\n"
     ]
    }
   ],
   "source": [
    "reviews = 'datasets/australian_user_reviews.json'\n",
    "\n",
    "# Se lee de cada línea del dataset\n",
    "rows.clear()\n",
    "with open(reviews) as f:\n",
    "    for line in f.readlines():\n",
    "        data = ast.literal_eval(line)\n",
    "        rows.append(data)\n",
    "\n",
    "# Se convierte a dataframe\n",
    "reviews = pd.DataFrame(rows)\n",
    "reviews.info()"
   ]
  },
  {
   "cell_type": "code",
   "execution_count": 5,
   "metadata": {},
   "outputs": [
    {
     "name": "stdout",
     "output_type": "stream",
     "text": [
      "<class 'pandas.core.frame.DataFrame'>\n",
      "RangeIndex: 88310 entries, 0 to 88309\n",
      "Data columns (total 5 columns):\n",
      " #   Column       Non-Null Count  Dtype \n",
      "---  ------       --------------  ----- \n",
      " 0   user_id      88310 non-null  object\n",
      " 1   items_count  88310 non-null  int64 \n",
      " 2   steam_id     88310 non-null  object\n",
      " 3   user_url     88310 non-null  object\n",
      " 4   items        88310 non-null  object\n",
      "dtypes: int64(1), object(4)\n",
      "memory usage: 3.4+ MB\n"
     ]
    }
   ],
   "source": [
    "items = 'datasets/australian_users_items.json'\n",
    "\n",
    "# Se lee de cada línea del dataset\n",
    "rows.clear()\n",
    "with open(items) as f:\n",
    "    for line in f.readlines():\n",
    "        data = ast.literal_eval(line)\n",
    "        rows.append(data)\n",
    "\n",
    "# Se convierte a dataframe\n",
    "items = pd.DataFrame(rows)\n",
    "items.info()"
   ]
  },
  {
   "cell_type": "markdown",
   "metadata": {},
   "source": [
    "***\n",
    "### **T**ransform\n",
    "\n",
    "- La fase de transformacion aplica una serie de reglas de negocio sobre los datos extraidos para poder limpiarlos y tener una buena calidad de estos al momento de cargarlos, la gravedad de estas transformaciones dependera de como se encuentren los datos extraidos. Segun nuestras tablas se requiere de una normalizacion en ellas y de algunos casting para mayor legibilidad y utilidad al momento de realizar la carga y otras operaciones."
   ]
  },
  {
   "cell_type": "markdown",
   "metadata": {},
   "source": [
    "#### *Resolver vacios*"
   ]
  },
  {
   "cell_type": "code",
   "execution_count": 6,
   "metadata": {},
   "outputs": [
    {
     "name": "stdout",
     "output_type": "stream",
     "text": [
      "Campos vacios en games: 1168997\n",
      "Campos vacios en reviews: 0\n",
      "Campos vacios en items: 0\n"
     ]
    }
   ],
   "source": [
    "print(f'Campos vacios en games: {games.isna().sum().sum()}')\n",
    "print(f'Campos vacios en reviews: {reviews.isna().sum().sum()}')\n",
    "print(f'Campos vacios en items: {items.isna().sum().sum()}')"
   ]
  },
  {
   "cell_type": "code",
   "execution_count": 7,
   "metadata": {},
   "outputs": [
    {
     "name": "stdout",
     "output_type": "stream",
     "text": [
      "Vacios en games: 0\n"
     ]
    }
   ],
   "source": [
    "#Resolvemos\n",
    "games.dropna(inplace=True)\n",
    "print(f'Vacios en games: {games.isna().sum().sum()}')"
   ]
  },
  {
   "cell_type": "markdown",
   "metadata": {},
   "source": [
    "#### *Normalizacion de columnas*"
   ]
  },
  {
   "cell_type": "markdown",
   "metadata": {},
   "source": [
    "#### *Games*"
   ]
  },
  {
   "cell_type": "code",
   "execution_count": 8,
   "metadata": {},
   "outputs": [
    {
     "data": {
      "text/html": [
       "<div>\n",
       "<style scoped>\n",
       "    .dataframe tbody tr th:only-of-type {\n",
       "        vertical-align: middle;\n",
       "    }\n",
       "\n",
       "    .dataframe tbody tr th {\n",
       "        vertical-align: top;\n",
       "    }\n",
       "\n",
       "    .dataframe thead th {\n",
       "        text-align: right;\n",
       "    }\n",
       "</style>\n",
       "<table border=\"1\" class=\"dataframe\">\n",
       "  <thead>\n",
       "    <tr style=\"text-align: right;\">\n",
       "      <th></th>\n",
       "      <th>publisher</th>\n",
       "      <th>genres</th>\n",
       "      <th>app_name</th>\n",
       "      <th>title</th>\n",
       "      <th>url</th>\n",
       "      <th>release_date</th>\n",
       "      <th>tags</th>\n",
       "      <th>reviews_url</th>\n",
       "      <th>specs</th>\n",
       "      <th>price</th>\n",
       "      <th>early_access</th>\n",
       "      <th>id</th>\n",
       "      <th>developer</th>\n",
       "    </tr>\n",
       "  </thead>\n",
       "  <tbody>\n",
       "    <tr>\n",
       "      <th>97252</th>\n",
       "      <td>CFK Co., Ltd.</td>\n",
       "      <td>[Casual, Indie]</td>\n",
       "      <td>Eraser &amp; Builder</td>\n",
       "      <td>Eraser &amp;amp; Builder</td>\n",
       "      <td>http://store.steampowered.com/app/583030/Erase...</td>\n",
       "      <td>2017-02-27</td>\n",
       "      <td>[Casual, Indie]</td>\n",
       "      <td>http://steamcommunity.com/app/583030/reviews/?...</td>\n",
       "      <td>[Single-player, Steam Achievements, Steam Trad...</td>\n",
       "      <td>1.99</td>\n",
       "      <td>False</td>\n",
       "      <td>583030</td>\n",
       "      <td>CFK Co., Ltd.</td>\n",
       "    </tr>\n",
       "  </tbody>\n",
       "</table>\n",
       "</div>"
      ],
      "text/plain": [
       "           publisher           genres          app_name                 title  \\\n",
       "97252  CFK Co., Ltd.  [Casual, Indie]  Eraser & Builder  Eraser &amp; Builder   \n",
       "\n",
       "                                                     url release_date  \\\n",
       "97252  http://store.steampowered.com/app/583030/Erase...   2017-02-27   \n",
       "\n",
       "                  tags                                        reviews_url  \\\n",
       "97252  [Casual, Indie]  http://steamcommunity.com/app/583030/reviews/?...   \n",
       "\n",
       "                                                   specs price early_access  \\\n",
       "97252  [Single-player, Steam Achievements, Steam Trad...  1.99        False   \n",
       "\n",
       "           id      developer  \n",
       "97252  583030  CFK Co., Ltd.  "
      ]
     },
     "execution_count": 8,
     "metadata": {},
     "output_type": "execute_result"
    }
   ],
   "source": [
    "games.sample()"
   ]
  },
  {
   "cell_type": "code",
   "execution_count": 9,
   "metadata": {},
   "outputs": [
    {
     "name": "stdout",
     "output_type": "stream",
     "text": [
      "Registro iguales entre la columna app_name y title: 22179\n",
      "Cantidad de registros en el dataframe 'games': 22530\n"
     ]
    }
   ],
   "source": [
    "print(f\"Registro iguales entre la columna app_name y title: {(games['app_name']==games['title']).sum()}\")\n",
    "print(f\"Cantidad de registros en el dataframe 'games': {len(games)}\")"
   ]
  },
  {
   "cell_type": "markdown",
   "metadata": {},
   "source": [
    "La mayoria de los valores de una columna se encuentran en la otra, asi que dejaremos una de las dos para que sirva de referencia total al nombre del videojuego y aprovecharemos para eliminar columnas que no utilizaremos"
   ]
  },
  {
   "cell_type": "code",
   "execution_count": 10,
   "metadata": {},
   "outputs": [],
   "source": [
    "games.drop(columns=['app_name','specs','early_access','publisher','tags','reviews_url'],inplace=True)"
   ]
  },
  {
   "cell_type": "markdown",
   "metadata": {},
   "source": [
    "El dataframe posee una columna multivaluada que definitivamente nos conviene desglozar para un mejor uso"
   ]
  },
  {
   "cell_type": "code",
   "execution_count": 11,
   "metadata": {},
   "outputs": [],
   "source": [
    "games = games.explode('genres')"
   ]
  },
  {
   "cell_type": "markdown",
   "metadata": {},
   "source": [
    "Alguno valores en la columna price no son nisiquiera de tipo flotante, asi que arreglaremos eso cambiando esos valores y casteando la columna"
   ]
  },
  {
   "cell_type": "code",
   "execution_count": 12,
   "metadata": {},
   "outputs": [],
   "source": [
    "games['price'] = pd.to_numeric(games['price'],errors='coerce').astype(float)\n",
    "games['price'].fillna(0,inplace=True)"
   ]
  },
  {
   "cell_type": "code",
   "execution_count": 13,
   "metadata": {},
   "outputs": [
    {
     "data": {
      "text/html": [
       "<div>\n",
       "<style scoped>\n",
       "    .dataframe tbody tr th:only-of-type {\n",
       "        vertical-align: middle;\n",
       "    }\n",
       "\n",
       "    .dataframe tbody tr th {\n",
       "        vertical-align: top;\n",
       "    }\n",
       "\n",
       "    .dataframe thead th {\n",
       "        text-align: right;\n",
       "    }\n",
       "</style>\n",
       "<table border=\"1\" class=\"dataframe\">\n",
       "  <thead>\n",
       "    <tr style=\"text-align: right;\">\n",
       "      <th></th>\n",
       "      <th>genres</th>\n",
       "      <th>title</th>\n",
       "      <th>url</th>\n",
       "      <th>release_date</th>\n",
       "      <th>price</th>\n",
       "      <th>id</th>\n",
       "      <th>developer</th>\n",
       "    </tr>\n",
       "  </thead>\n",
       "  <tbody>\n",
       "    <tr>\n",
       "      <th>88311</th>\n",
       "      <td>Free to Play</td>\n",
       "      <td>Ironbound</td>\n",
       "      <td>http://store.steampowered.com/app/643980/Ironb...</td>\n",
       "      <td>2018-01-04</td>\n",
       "      <td>0.0</td>\n",
       "      <td>643980</td>\n",
       "      <td>Secret Level SRL</td>\n",
       "    </tr>\n",
       "    <tr>\n",
       "      <th>88311</th>\n",
       "      <td>Indie</td>\n",
       "      <td>Ironbound</td>\n",
       "      <td>http://store.steampowered.com/app/643980/Ironb...</td>\n",
       "      <td>2018-01-04</td>\n",
       "      <td>0.0</td>\n",
       "      <td>643980</td>\n",
       "      <td>Secret Level SRL</td>\n",
       "    </tr>\n",
       "    <tr>\n",
       "      <th>88311</th>\n",
       "      <td>RPG</td>\n",
       "      <td>Ironbound</td>\n",
       "      <td>http://store.steampowered.com/app/643980/Ironb...</td>\n",
       "      <td>2018-01-04</td>\n",
       "      <td>0.0</td>\n",
       "      <td>643980</td>\n",
       "      <td>Secret Level SRL</td>\n",
       "    </tr>\n",
       "    <tr>\n",
       "      <th>88311</th>\n",
       "      <td>Strategy</td>\n",
       "      <td>Ironbound</td>\n",
       "      <td>http://store.steampowered.com/app/643980/Ironb...</td>\n",
       "      <td>2018-01-04</td>\n",
       "      <td>0.0</td>\n",
       "      <td>643980</td>\n",
       "      <td>Secret Level SRL</td>\n",
       "    </tr>\n",
       "    <tr>\n",
       "      <th>88312</th>\n",
       "      <td>Casual</td>\n",
       "      <td>Real Pool 3D - Poolians</td>\n",
       "      <td>http://store.steampowered.com/app/670290/Real_...</td>\n",
       "      <td>2017-07-24</td>\n",
       "      <td>0.0</td>\n",
       "      <td>670290</td>\n",
       "      <td>Poolians.com</td>\n",
       "    </tr>\n",
       "    <tr>\n",
       "      <th>...</th>\n",
       "      <td>...</td>\n",
       "      <td>...</td>\n",
       "      <td>...</td>\n",
       "      <td>...</td>\n",
       "      <td>...</td>\n",
       "      <td>...</td>\n",
       "      <td>...</td>\n",
       "    </tr>\n",
       "    <tr>\n",
       "      <th>120410</th>\n",
       "      <td>Free to Play</td>\n",
       "      <td>忍者村大战2</td>\n",
       "      <td>http://store.steampowered.com/app/754350/2/</td>\n",
       "      <td>2018-01-03</td>\n",
       "      <td>0.0</td>\n",
       "      <td>754350</td>\n",
       "      <td>杭州分浪网络科技有限公司</td>\n",
       "    </tr>\n",
       "    <tr>\n",
       "      <th>120410</th>\n",
       "      <td>Massively Multiplayer</td>\n",
       "      <td>忍者村大战2</td>\n",
       "      <td>http://store.steampowered.com/app/754350/2/</td>\n",
       "      <td>2018-01-03</td>\n",
       "      <td>0.0</td>\n",
       "      <td>754350</td>\n",
       "      <td>杭州分浪网络科技有限公司</td>\n",
       "    </tr>\n",
       "    <tr>\n",
       "      <th>120410</th>\n",
       "      <td>RPG</td>\n",
       "      <td>忍者村大战2</td>\n",
       "      <td>http://store.steampowered.com/app/754350/2/</td>\n",
       "      <td>2018-01-03</td>\n",
       "      <td>0.0</td>\n",
       "      <td>754350</td>\n",
       "      <td>杭州分浪网络科技有限公司</td>\n",
       "    </tr>\n",
       "    <tr>\n",
       "      <th>120410</th>\n",
       "      <td>Strategy</td>\n",
       "      <td>忍者村大战2</td>\n",
       "      <td>http://store.steampowered.com/app/754350/2/</td>\n",
       "      <td>2018-01-03</td>\n",
       "      <td>0.0</td>\n",
       "      <td>754350</td>\n",
       "      <td>杭州分浪网络科技有限公司</td>\n",
       "    </tr>\n",
       "    <tr>\n",
       "      <th>120411</th>\n",
       "      <td>Simulation</td>\n",
       "      <td>High School Simulator</td>\n",
       "      <td>http://store.steampowered.com/app/754620/High_...</td>\n",
       "      <td>2018-01-03</td>\n",
       "      <td>0.0</td>\n",
       "      <td>754620</td>\n",
       "      <td>KUMA GAMES</td>\n",
       "    </tr>\n",
       "  </tbody>\n",
       "</table>\n",
       "<p>4174 rows × 7 columns</p>\n",
       "</div>"
      ],
      "text/plain": [
       "                       genres                    title  \\\n",
       "88311            Free to Play                Ironbound   \n",
       "88311                   Indie                Ironbound   \n",
       "88311                     RPG                Ironbound   \n",
       "88311                Strategy                Ironbound   \n",
       "88312                  Casual  Real Pool 3D - Poolians   \n",
       "...                       ...                      ...   \n",
       "120410           Free to Play                   忍者村大战2   \n",
       "120410  Massively Multiplayer                   忍者村大战2   \n",
       "120410                    RPG                   忍者村大战2   \n",
       "120410               Strategy                   忍者村大战2   \n",
       "120411             Simulation    High School Simulator   \n",
       "\n",
       "                                                      url release_date  price  \\\n",
       "88311   http://store.steampowered.com/app/643980/Ironb...   2018-01-04    0.0   \n",
       "88311   http://store.steampowered.com/app/643980/Ironb...   2018-01-04    0.0   \n",
       "88311   http://store.steampowered.com/app/643980/Ironb...   2018-01-04    0.0   \n",
       "88311   http://store.steampowered.com/app/643980/Ironb...   2018-01-04    0.0   \n",
       "88312   http://store.steampowered.com/app/670290/Real_...   2017-07-24    0.0   \n",
       "...                                                   ...          ...    ...   \n",
       "120410        http://store.steampowered.com/app/754350/2/   2018-01-03    0.0   \n",
       "120410        http://store.steampowered.com/app/754350/2/   2018-01-03    0.0   \n",
       "120410        http://store.steampowered.com/app/754350/2/   2018-01-03    0.0   \n",
       "120410        http://store.steampowered.com/app/754350/2/   2018-01-03    0.0   \n",
       "120411  http://store.steampowered.com/app/754620/High_...   2018-01-03    0.0   \n",
       "\n",
       "            id         developer  \n",
       "88311   643980  Secret Level SRL  \n",
       "88311   643980  Secret Level SRL  \n",
       "88311   643980  Secret Level SRL  \n",
       "88311   643980  Secret Level SRL  \n",
       "88312   670290      Poolians.com  \n",
       "...        ...               ...  \n",
       "120410  754350      杭州分浪网络科技有限公司  \n",
       "120410  754350      杭州分浪网络科技有限公司  \n",
       "120410  754350      杭州分浪网络科技有限公司  \n",
       "120410  754350      杭州分浪网络科技有限公司  \n",
       "120411  754620        KUMA GAMES  \n",
       "\n",
       "[4174 rows x 7 columns]"
      ]
     },
     "execution_count": 13,
     "metadata": {},
     "output_type": "execute_result"
    }
   ],
   "source": [
    "games[games['price']==0]"
   ]
  },
  {
   "cell_type": "markdown",
   "metadata": {},
   "source": [
    "Ultimo retoque para un futuro merge con la tabla item que nos permita unificar las tres tablas"
   ]
  },
  {
   "cell_type": "code",
   "execution_count": 14,
   "metadata": {},
   "outputs": [],
   "source": [
    "games.rename(columns={\"title\":\"game_title\"},inplace=True)"
   ]
  },
  {
   "cell_type": "code",
   "execution_count": 15,
   "metadata": {},
   "outputs": [],
   "source": [
    "games['release_date'] = pd.to_datetime(games['release_date'],errors='coerce')\n",
    "games.dropna(inplace=True)"
   ]
  },
  {
   "cell_type": "code",
   "execution_count": 16,
   "metadata": {},
   "outputs": [
    {
     "data": {
      "text/html": [
       "<div>\n",
       "<style scoped>\n",
       "    .dataframe tbody tr th:only-of-type {\n",
       "        vertical-align: middle;\n",
       "    }\n",
       "\n",
       "    .dataframe tbody tr th {\n",
       "        vertical-align: top;\n",
       "    }\n",
       "\n",
       "    .dataframe thead th {\n",
       "        text-align: right;\n",
       "    }\n",
       "</style>\n",
       "<table border=\"1\" class=\"dataframe\">\n",
       "  <thead>\n",
       "    <tr style=\"text-align: right;\">\n",
       "      <th></th>\n",
       "      <th>genres</th>\n",
       "      <th>game_title</th>\n",
       "      <th>url</th>\n",
       "      <th>release_date</th>\n",
       "      <th>price</th>\n",
       "      <th>id</th>\n",
       "      <th>developer</th>\n",
       "    </tr>\n",
       "  </thead>\n",
       "  <tbody>\n",
       "    <tr>\n",
       "      <th>112196</th>\n",
       "      <td>Indie</td>\n",
       "      <td>Hyper Box</td>\n",
       "      <td>http://store.steampowered.com/app/438820/Hyper...</td>\n",
       "      <td>2016-03-16</td>\n",
       "      <td>2.99</td>\n",
       "      <td>438820</td>\n",
       "      <td>Pixelated Cupcake</td>\n",
       "    </tr>\n",
       "  </tbody>\n",
       "</table>\n",
       "</div>"
      ],
      "text/plain": [
       "       genres game_title                                                url  \\\n",
       "112196  Indie  Hyper Box  http://store.steampowered.com/app/438820/Hyper...   \n",
       "\n",
       "       release_date  price      id          developer  \n",
       "112196   2016-03-16   2.99  438820  Pixelated Cupcake  "
      ]
     },
     "execution_count": 16,
     "metadata": {},
     "output_type": "execute_result"
    }
   ],
   "source": [
    "games.sample()"
   ]
  },
  {
   "cell_type": "markdown",
   "metadata": {},
   "source": [
    "#### *Reviews*"
   ]
  },
  {
   "cell_type": "code",
   "execution_count": 17,
   "metadata": {},
   "outputs": [
    {
     "data": {
      "text/html": [
       "<div>\n",
       "<style scoped>\n",
       "    .dataframe tbody tr th:only-of-type {\n",
       "        vertical-align: middle;\n",
       "    }\n",
       "\n",
       "    .dataframe tbody tr th {\n",
       "        vertical-align: top;\n",
       "    }\n",
       "\n",
       "    .dataframe thead th {\n",
       "        text-align: right;\n",
       "    }\n",
       "</style>\n",
       "<table border=\"1\" class=\"dataframe\">\n",
       "  <thead>\n",
       "    <tr style=\"text-align: right;\">\n",
       "      <th></th>\n",
       "      <th>user_id</th>\n",
       "      <th>user_url</th>\n",
       "      <th>reviews</th>\n",
       "    </tr>\n",
       "  </thead>\n",
       "  <tbody>\n",
       "    <tr>\n",
       "      <th>7549</th>\n",
       "      <td>bountyassassin4</td>\n",
       "      <td>http://steamcommunity.com/id/bountyassassin4</td>\n",
       "      <td>[{'funny': '', 'posted': 'Posted July 13, 2014...</td>\n",
       "    </tr>\n",
       "  </tbody>\n",
       "</table>\n",
       "</div>"
      ],
      "text/plain": [
       "              user_id                                      user_url  \\\n",
       "7549  bountyassassin4  http://steamcommunity.com/id/bountyassassin4   \n",
       "\n",
       "                                                reviews  \n",
       "7549  [{'funny': '', 'posted': 'Posted July 13, 2014...  "
      ]
     },
     "execution_count": 17,
     "metadata": {},
     "output_type": "execute_result"
    }
   ],
   "source": [
    "reviews.sample()"
   ]
  },
  {
   "cell_type": "markdown",
   "metadata": {},
   "source": [
    "Otra columna multivaluada"
   ]
  },
  {
   "cell_type": "code",
   "execution_count": 18,
   "metadata": {},
   "outputs": [
    {
     "data": {
      "text/plain": [
       "[{'funny': '',\n",
       "  'posted': 'Posted November 5, 2011.',\n",
       "  'last_edited': '',\n",
       "  'item_id': '1250',\n",
       "  'helpful': 'No ratings yet',\n",
       "  'recommend': True,\n",
       "  'review': 'Simple yet with great replayability. In my opinion does \"zombie\" hordes and team work better than left 4 dead plus has a global leveling system. Alot of down to earth \"zombie\" splattering fun for the whole family. Amazed this sort of FPS is so rare.'},\n",
       " {'funny': '',\n",
       "  'posted': 'Posted July 15, 2011.',\n",
       "  'last_edited': '',\n",
       "  'item_id': '22200',\n",
       "  'helpful': 'No ratings yet',\n",
       "  'recommend': True,\n",
       "  'review': \"It's unique and worth a playthrough.\"},\n",
       " {'funny': '',\n",
       "  'posted': 'Posted April 21, 2011.',\n",
       "  'last_edited': '',\n",
       "  'item_id': '43110',\n",
       "  'helpful': 'No ratings yet',\n",
       "  'recommend': True,\n",
       "  'review': 'Great atmosphere. The gunplay can be a bit chunky at times but at the end of the day this game is definitely worth it and I hope they do a sequel...so buy the game so I get a sequel!'}]"
      ]
     },
     "execution_count": 18,
     "metadata": {},
     "output_type": "execute_result"
    }
   ],
   "source": [
    "reviews['reviews'].iloc[0]"
   ]
  },
  {
   "cell_type": "code",
   "execution_count": 19,
   "metadata": {},
   "outputs": [],
   "source": [
    "# Desglosamos\n",
    "reviews = reviews.explode('reviews')"
   ]
  },
  {
   "cell_type": "code",
   "execution_count": 20,
   "metadata": {},
   "outputs": [],
   "source": [
    "# Dividimos cada llave de cada diccionario dentro de su propia columna dentro de nuestro dataset\n",
    "reviews['posted'] = reviews['reviews'].apply(lambda x: np.nan if isinstance(x,float) else x['posted'])\n",
    "reviews['item_id'] = reviews['reviews'].apply(lambda x: np.nan if isinstance(x,float) else x['item_id'])\n",
    "reviews['recommend'] = reviews['reviews'].apply(lambda x: np.nan if isinstance(x,float) else x['recommend'])\n",
    "reviews['review'] = reviews['reviews'].apply(lambda x: np.nan if isinstance(x,float) else x['review'])"
   ]
  },
  {
   "cell_type": "code",
   "execution_count": 21,
   "metadata": {},
   "outputs": [
    {
     "name": "stdout",
     "output_type": "stream",
     "text": [
      "Vacios: 140\n",
      "Vacios: 0\n"
     ]
    }
   ],
   "source": [
    "print(f\"Vacios: {reviews.isna().sum().sum()}\")\n",
    "reviews.dropna(inplace=True)\n",
    "print(f\"Vacios: {reviews.isna().sum().sum()}\")"
   ]
  },
  {
   "cell_type": "code",
   "execution_count": 22,
   "metadata": {},
   "outputs": [],
   "source": [
    "# Eliminamos la sobrante\n",
    "reviews.drop(columns=['reviews'],inplace=True)"
   ]
  },
  {
   "cell_type": "code",
   "execution_count": 23,
   "metadata": {},
   "outputs": [
    {
     "data": {
      "text/html": [
       "<div>\n",
       "<style scoped>\n",
       "    .dataframe tbody tr th:only-of-type {\n",
       "        vertical-align: middle;\n",
       "    }\n",
       "\n",
       "    .dataframe tbody tr th {\n",
       "        vertical-align: top;\n",
       "    }\n",
       "\n",
       "    .dataframe thead th {\n",
       "        text-align: right;\n",
       "    }\n",
       "</style>\n",
       "<table border=\"1\" class=\"dataframe\">\n",
       "  <thead>\n",
       "    <tr style=\"text-align: right;\">\n",
       "      <th></th>\n",
       "      <th>user_id</th>\n",
       "      <th>user_url</th>\n",
       "      <th>posted</th>\n",
       "      <th>item_id</th>\n",
       "      <th>recommend</th>\n",
       "      <th>review</th>\n",
       "    </tr>\n",
       "  </thead>\n",
       "  <tbody>\n",
       "    <tr>\n",
       "      <th>5162</th>\n",
       "      <td>greenkoala</td>\n",
       "      <td>http://steamcommunity.com/id/greenkoala</td>\n",
       "      <td>Posted September 14, 2014.</td>\n",
       "      <td>249130</td>\n",
       "      <td>True</td>\n",
       "      <td>Has huge amounts of post game content. Loved i...</td>\n",
       "    </tr>\n",
       "  </tbody>\n",
       "</table>\n",
       "</div>"
      ],
      "text/plain": [
       "         user_id                                 user_url  \\\n",
       "5162  greenkoala  http://steamcommunity.com/id/greenkoala   \n",
       "\n",
       "                          posted item_id recommend  \\\n",
       "5162  Posted September 14, 2014.  249130      True   \n",
       "\n",
       "                                                 review  \n",
       "5162  Has huge amounts of post game content. Loved i...  "
      ]
     },
     "execution_count": 23,
     "metadata": {},
     "output_type": "execute_result"
    }
   ],
   "source": [
    "reviews.sample()"
   ]
  },
  {
   "cell_type": "markdown",
   "metadata": {},
   "source": [
    "Las columnas de fechas deberian tener todas un mismo formato"
   ]
  },
  {
   "cell_type": "code",
   "execution_count": 24,
   "metadata": {},
   "outputs": [],
   "source": [
    "# Dividimos las cadenas de texto en mes dia y año\n",
    "reviews['posted'] = reviews['posted'].str.replace(',','').str.replace('.','').str.replace('Posted','').str.split()\n",
    "\n",
    "# Creamos un hashmap para la traduccion de string a numero como referencia del mes \n",
    "months = {\n",
    "  'January': 1,\n",
    "  'February': 2,\n",
    "  'March': 3,\n",
    "  'April': 4,\n",
    "  'May': 5,\n",
    "  'June': 6,\n",
    "  'July': 7,\n",
    "  'August': 8,\n",
    "  'September': 9,\n",
    "  'October': 10,\n",
    "  'November': 11,\n",
    "  'December': 12\n",
    "}\n",
    "# Array para añadir cada registro ya traducido posteriormente al dataframe\n",
    "dates=[]\n",
    "for i,x in enumerate(reviews.itertuples()): # Se itera los registros\n",
    "\n",
    "  if len(x.posted)==3: # Si el campo posee todo los campos encesarios para tener una fecha entonces se declara la fecha\n",
    "    date = f\"{x.posted[2]}-{months[x.posted[0]]}-{x.posted[1]}\" \n",
    "  else: \n",
    "    date = np.nan\n",
    "\n",
    "  dates.append(pd.to_datetime(date).date())\n",
    "\n",
    "reviews['posted'] = pd.DataFrame(dates) # Se añaden a la columna del dataframe"
   ]
  },
  {
   "cell_type": "markdown",
   "metadata": {},
   "source": [
    "#### *Feature Engineering*"
   ]
  },
  {
   "cell_type": "markdown",
   "metadata": {},
   "source": [
    "Para una consulta en nuestra API vamos a necesitar una nueva columna que nos especifique cual es el sentimiento que emerge de las palabras de las reviews de los usuarios. Para eso utilizaremos una libreria famosa para el procesamiento de lenguaje natural que nos colaborara en el proceso. "
   ]
  },
  {
   "cell_type": "code",
   "execution_count": 25,
   "metadata": {},
   "outputs": [],
   "source": [
    "from nltk.sentiment.vader import SentimentIntensityAnalyzer\n",
    "\n",
    "SID = SentimentIntensityAnalyzer()\n",
    "analysis = []\n",
    "\n",
    "for x in reviews.itertuples():\n",
    "  sentiment = SID.polarity_scores(x.review)['compound']\n",
    "  if sentiment<-.2:\n",
    "    value = 0\n",
    "  elif sentiment>.2:\n",
    "    value = 2\n",
    "  else:\n",
    "    value = 1\n",
    "  analysis.append(value)\n",
    "\n",
    "reviews['sentiment'] = pd.DataFrame(analysis)"
   ]
  },
  {
   "cell_type": "code",
   "execution_count": 26,
   "metadata": {},
   "outputs": [
    {
     "data": {
      "text/html": [
       "<div>\n",
       "<style scoped>\n",
       "    .dataframe tbody tr th:only-of-type {\n",
       "        vertical-align: middle;\n",
       "    }\n",
       "\n",
       "    .dataframe tbody tr th {\n",
       "        vertical-align: top;\n",
       "    }\n",
       "\n",
       "    .dataframe thead th {\n",
       "        text-align: right;\n",
       "    }\n",
       "</style>\n",
       "<table border=\"1\" class=\"dataframe\">\n",
       "  <thead>\n",
       "    <tr style=\"text-align: right;\">\n",
       "      <th></th>\n",
       "      <th>user_id</th>\n",
       "      <th>user_url</th>\n",
       "      <th>posted</th>\n",
       "      <th>item_id</th>\n",
       "      <th>recommend</th>\n",
       "      <th>review</th>\n",
       "      <th>sentiment</th>\n",
       "    </tr>\n",
       "  </thead>\n",
       "  <tbody>\n",
       "    <tr>\n",
       "      <th>21841</th>\n",
       "      <td>76561198067794298</td>\n",
       "      <td>http://steamcommunity.com/profiles/76561198067...</td>\n",
       "      <td>2014-10-04</td>\n",
       "      <td>253710</td>\n",
       "      <td>False</td>\n",
       "      <td>it really isnt that free to play</td>\n",
       "      <td>0</td>\n",
       "    </tr>\n",
       "  </tbody>\n",
       "</table>\n",
       "</div>"
      ],
      "text/plain": [
       "                 user_id                                           user_url  \\\n",
       "21841  76561198067794298  http://steamcommunity.com/profiles/76561198067...   \n",
       "\n",
       "           posted item_id recommend                            review  \\\n",
       "21841  2014-10-04  253710     False  it really isnt that free to play   \n",
       "\n",
       "       sentiment  \n",
       "21841          0  "
      ]
     },
     "execution_count": 26,
     "metadata": {},
     "output_type": "execute_result"
    }
   ],
   "source": [
    "reviews.sample()"
   ]
  },
  {
   "cell_type": "markdown",
   "metadata": {},
   "source": [
    "#### *Items*"
   ]
  },
  {
   "cell_type": "code",
   "execution_count": 27,
   "metadata": {},
   "outputs": [
    {
     "data": {
      "text/html": [
       "<div>\n",
       "<style scoped>\n",
       "    .dataframe tbody tr th:only-of-type {\n",
       "        vertical-align: middle;\n",
       "    }\n",
       "\n",
       "    .dataframe tbody tr th {\n",
       "        vertical-align: top;\n",
       "    }\n",
       "\n",
       "    .dataframe thead th {\n",
       "        text-align: right;\n",
       "    }\n",
       "</style>\n",
       "<table border=\"1\" class=\"dataframe\">\n",
       "  <thead>\n",
       "    <tr style=\"text-align: right;\">\n",
       "      <th></th>\n",
       "      <th>user_id</th>\n",
       "      <th>items_count</th>\n",
       "      <th>steam_id</th>\n",
       "      <th>user_url</th>\n",
       "      <th>items</th>\n",
       "    </tr>\n",
       "  </thead>\n",
       "  <tbody>\n",
       "    <tr>\n",
       "      <th>72796</th>\n",
       "      <td>thejumpmaster3</td>\n",
       "      <td>11</td>\n",
       "      <td>76561198078987394</td>\n",
       "      <td>http://steamcommunity.com/id/thejumpmaster3</td>\n",
       "      <td>[{'item_id': '313730', 'item_name': 'Sunrider:...</td>\n",
       "    </tr>\n",
       "  </tbody>\n",
       "</table>\n",
       "</div>"
      ],
      "text/plain": [
       "              user_id  items_count           steam_id  \\\n",
       "72796  thejumpmaster3           11  76561198078987394   \n",
       "\n",
       "                                          user_url  \\\n",
       "72796  http://steamcommunity.com/id/thejumpmaster3   \n",
       "\n",
       "                                                   items  \n",
       "72796  [{'item_id': '313730', 'item_name': 'Sunrider:...  "
      ]
     },
     "execution_count": 27,
     "metadata": {},
     "output_type": "execute_result"
    }
   ],
   "source": [
    "items.sample()"
   ]
  },
  {
   "cell_type": "markdown",
   "metadata": {},
   "source": [
    "Otra columna multivariada"
   ]
  },
  {
   "cell_type": "code",
   "execution_count": 28,
   "metadata": {},
   "outputs": [],
   "source": [
    "# Se divide las listas por registro\n",
    "items = items.explode('items')"
   ]
  },
  {
   "cell_type": "code",
   "execution_count": 29,
   "metadata": {},
   "outputs": [],
   "source": [
    "# Dividimos cada llave de cada diccionario dentro de su propia columna dentro de nuestro dataset\n",
    "items['item_id'] = items['items'].apply(lambda x: np.nan if isinstance(x,float) else x['item_id'])\n",
    "items['item_name'] = items['items'].apply(lambda x: np.nan if isinstance(x,float) else x['item_name'])\n",
    "items['playtime_forever'] = items['items'].apply(lambda x: np.nan if isinstance(x,float) else x['playtime_forever'])"
   ]
  },
  {
   "cell_type": "code",
   "execution_count": 30,
   "metadata": {},
   "outputs": [
    {
     "name": "stdout",
     "output_type": "stream",
     "text": [
      "Vacios: 67224\n",
      "Vacios: 0\n"
     ]
    }
   ],
   "source": [
    "# Validamos vacios\n",
    "print(f\"Vacios: {items.isna().sum().sum()}\")\n",
    "items.dropna(inplace=True)\n",
    "print(f\"Vacios: {items.isna().sum().sum()}\")"
   ]
  },
  {
   "cell_type": "code",
   "execution_count": 31,
   "metadata": {},
   "outputs": [],
   "source": [
    "# Eliminamos columnas innecesarias\n",
    "items.drop(columns=['items','steam_id','items_count','user_url'],inplace=True)"
   ]
  },
  {
   "cell_type": "code",
   "execution_count": 32,
   "metadata": {},
   "outputs": [],
   "source": [
    "# Retoque final para el merge con la tabla games\n",
    "items.rename(columns={\"item_name\":\"game_title\"},inplace=True)"
   ]
  },
  {
   "cell_type": "code",
   "execution_count": 33,
   "metadata": {},
   "outputs": [
    {
     "data": {
      "text/html": [
       "<div>\n",
       "<style scoped>\n",
       "    .dataframe tbody tr th:only-of-type {\n",
       "        vertical-align: middle;\n",
       "    }\n",
       "\n",
       "    .dataframe tbody tr th {\n",
       "        vertical-align: top;\n",
       "    }\n",
       "\n",
       "    .dataframe thead th {\n",
       "        text-align: right;\n",
       "    }\n",
       "</style>\n",
       "<table border=\"1\" class=\"dataframe\">\n",
       "  <thead>\n",
       "    <tr style=\"text-align: right;\">\n",
       "      <th></th>\n",
       "      <th>user_id</th>\n",
       "      <th>item_id</th>\n",
       "      <th>game_title</th>\n",
       "      <th>playtime_forever</th>\n",
       "    </tr>\n",
       "  </thead>\n",
       "  <tbody>\n",
       "    <tr>\n",
       "      <th>59514</th>\n",
       "      <td>cordwil</td>\n",
       "      <td>43110</td>\n",
       "      <td>Metro 2033</td>\n",
       "      <td>0.0</td>\n",
       "    </tr>\n",
       "  </tbody>\n",
       "</table>\n",
       "</div>"
      ],
      "text/plain": [
       "       user_id item_id  game_title  playtime_forever\n",
       "59514  cordwil   43110  Metro 2033               0.0"
      ]
     },
     "execution_count": 33,
     "metadata": {},
     "output_type": "execute_result"
    }
   ],
   "source": [
    "items.sample()"
   ]
  },
  {
   "cell_type": "markdown",
   "metadata": {},
   "source": [
    "***\n",
    "### **L**oad\n",
    "- Como cereza del pastel debemos cargar nuestros datos ya procesados a un sistema de origen. Este sistema dependera bastante de los requisitos de la organizacion y varia segun sus objetivos. Para este proyecto la carga se hara directamente en la Web mediante una API y en esta ocasion exportaremos solo parte de nuestro gran dataset, por cuestion de rendimiento, eficiencia y funcionamiento de la aplicacion que utilizaremos para el despliegue, Render. Para ser mas claros estos servicios poseen una prueba gratuita pero bastante limitada en cuestion de memoria."
   ]
  },
  {
   "cell_type": "code",
   "execution_count": 56,
   "metadata": {},
   "outputs": [],
   "source": [
    "game_item = pd.merge(games,items,on='game_title')\n",
    "game_item.drop(columns=['game_title','url','id','item_id'],inplace=True)\n",
    "game_item['release_date'] = pd.to_datetime(game_item['release_date']).dt.year"
   ]
  },
  {
   "cell_type": "code",
   "execution_count": 101,
   "metadata": {},
   "outputs": [
    {
     "data": {
      "text/html": [
       "<div>\n",
       "<style scoped>\n",
       "    .dataframe tbody tr th:only-of-type {\n",
       "        vertical-align: middle;\n",
       "    }\n",
       "\n",
       "    .dataframe tbody tr th {\n",
       "        vertical-align: top;\n",
       "    }\n",
       "\n",
       "    .dataframe thead th {\n",
       "        text-align: right;\n",
       "    }\n",
       "</style>\n",
       "<table border=\"1\" class=\"dataframe\">\n",
       "  <thead>\n",
       "    <tr style=\"text-align: right;\">\n",
       "      <th></th>\n",
       "      <th>genres</th>\n",
       "      <th>release_date</th>\n",
       "      <th>price</th>\n",
       "      <th>id</th>\n",
       "      <th>developer</th>\n",
       "      <th>user_id</th>\n",
       "      <th>playtime_forever</th>\n",
       "    </tr>\n",
       "  </thead>\n",
       "  <tbody>\n",
       "    <tr>\n",
       "      <th>4950645</th>\n",
       "      <td>Free to Play</td>\n",
       "      <td>2014</td>\n",
       "      <td>0.0</td>\n",
       "      <td>242720</td>\n",
       "      <td>Masangsoft, Inc.</td>\n",
       "      <td>76561198080248619</td>\n",
       "      <td>558.0</td>\n",
       "    </tr>\n",
       "  </tbody>\n",
       "</table>\n",
       "</div>"
      ],
      "text/plain": [
       "               genres  release_date  price      id         developer  \\\n",
       "4950645  Free to Play          2014    0.0  242720  Masangsoft, Inc.   \n",
       "\n",
       "                   user_id  playtime_forever  \n",
       "4950645  76561198080248619             558.0  "
      ]
     },
     "execution_count": 101,
     "metadata": {},
     "output_type": "execute_result"
    }
   ],
   "source": [
    "game_item.sample()"
   ]
  },
  {
   "cell_type": "code",
   "execution_count": 52,
   "metadata": {},
   "outputs": [],
   "source": [
    "reviews_items = pd.merge(reviews,items[['item_id','game_title']].drop_duplicates(),on='item_id')\n",
    "reviews_items.dropna(inplace=True)"
   ]
  },
  {
   "cell_type": "code",
   "execution_count": 58,
   "metadata": {},
   "outputs": [],
   "source": [
    "all_dfs = pd.merge(reviews_items, games[['game_title','developer','id','url','price']].drop_duplicates(), on='game_title')\n",
    "all_dfs.dropna(inplace=True)"
   ]
  },
  {
   "cell_type": "code",
   "execution_count": 59,
   "metadata": {},
   "outputs": [
    {
     "data": {
      "text/html": [
       "<div>\n",
       "<style scoped>\n",
       "    .dataframe tbody tr th:only-of-type {\n",
       "        vertical-align: middle;\n",
       "    }\n",
       "\n",
       "    .dataframe tbody tr th {\n",
       "        vertical-align: top;\n",
       "    }\n",
       "\n",
       "    .dataframe thead th {\n",
       "        text-align: right;\n",
       "    }\n",
       "</style>\n",
       "<table border=\"1\" class=\"dataframe\">\n",
       "  <thead>\n",
       "    <tr style=\"text-align: right;\">\n",
       "      <th></th>\n",
       "      <th>user_id</th>\n",
       "      <th>user_url</th>\n",
       "      <th>posted</th>\n",
       "      <th>item_id</th>\n",
       "      <th>recommend</th>\n",
       "      <th>review</th>\n",
       "      <th>sentiment</th>\n",
       "      <th>game_title</th>\n",
       "      <th>developer</th>\n",
       "      <th>id</th>\n",
       "      <th>url</th>\n",
       "      <th>price</th>\n",
       "    </tr>\n",
       "  </thead>\n",
       "  <tbody>\n",
       "    <tr>\n",
       "      <th>8937</th>\n",
       "      <td>76561198123168383</td>\n",
       "      <td>http://steamcommunity.com/profiles/76561198123...</td>\n",
       "      <td>2015-12-25</td>\n",
       "      <td>221100</td>\n",
       "      <td>True</td>\n",
       "      <td>best game put in lots of hours and havent got ...</td>\n",
       "      <td>2</td>\n",
       "      <td>DayZ</td>\n",
       "      <td>Bohemia Interactive</td>\n",
       "      <td>221100</td>\n",
       "      <td>http://store.steampowered.com/app/221100/DayZ/</td>\n",
       "      <td>34.99</td>\n",
       "    </tr>\n",
       "  </tbody>\n",
       "</table>\n",
       "</div>"
      ],
      "text/plain": [
       "                user_id                                           user_url  \\\n",
       "8937  76561198123168383  http://steamcommunity.com/profiles/76561198123...   \n",
       "\n",
       "          posted item_id recommend  \\\n",
       "8937  2015-12-25  221100      True   \n",
       "\n",
       "                                                 review  sentiment game_title  \\\n",
       "8937  best game put in lots of hours and havent got ...          2       DayZ   \n",
       "\n",
       "                developer      id  \\\n",
       "8937  Bohemia Interactive  221100   \n",
       "\n",
       "                                                 url  price  \n",
       "8937  http://store.steampowered.com/app/221100/DayZ/  34.99  "
      ]
     },
     "execution_count": 59,
     "metadata": {},
     "output_type": "execute_result"
    }
   ],
   "source": [
    "all_dfs.sample()"
   ]
  },
  {
   "cell_type": "code",
   "execution_count": 115,
   "metadata": {},
   "outputs": [],
   "source": [
    "game_item[:len(game_item)//2].to_parquet('./clean_datasets/game_items.parquet')\n",
    "all_dfs.to_parquet('./clean_datasets/all_dfs.parquet')"
   ]
  },
  {
   "cell_type": "code",
   "execution_count": 124,
   "metadata": {},
   "outputs": [
    {
     "data": {
      "text/plain": [
       "1904003    Starfish-SD Inc\n",
       "Name: developer, dtype: object"
      ]
     },
     "execution_count": 124,
     "metadata": {},
     "output_type": "execute_result"
    }
   ],
   "source": [
    "game_item[:len(game_item)//2]['developer'].drop_duplicates().sample()"
   ]
  },
  {
   "cell_type": "code",
   "execution_count": 128,
   "metadata": {},
   "outputs": [
    {
     "data": {
      "text/plain": [
       "2901886    Targem Games\n",
       "Name: developer, dtype: object"
      ]
     },
     "execution_count": 128,
     "metadata": {},
     "output_type": "execute_result"
    }
   ],
   "source": [
    "game_item[:len(game_item)//2][game_item[:len(game_item)//2]['price']==0]['developer'].drop_duplicates().sample()"
   ]
  },
  {
   "cell_type": "code",
   "execution_count": 190,
   "metadata": {},
   "outputs": [],
   "source": [
    "def developer(developer:str):\n",
    "  '''\n",
    "  Devuelve la cantidad de items y el porcentaje de contenido Free por año\n",
    "  segun empresa desarrolladora.\n",
    "  '''\n",
    "  df = game_item[game_item['developer']==developer]\n",
    "  items = df.groupby('release_date')['developer'].count().reset_index()\n",
    "  free = df[df['price']==0].groupby('release_date')['developer'].count().reset_index()\n",
    "  \n",
    "  \n",
    "  rows = []\n",
    "  merge = pd.merge(free,items,on='release_date')\n",
    "  for x in items.itertuples():\n",
    "    if x.release_date in list(merge['release_date']):\n",
    "      free_content = round((merge.developer_x/merge.developer_y)*100,2).item()\n",
    "    else:\n",
    "      free_content = 0\n",
    "    \n",
    "    rows.append({\"Año\":x.release_date,\"Cantidad de items\":x.developer,\"Contenido Free\":f\"{free_content}%\"})\n",
    "  res = {\n",
    "    developer:rows\n",
    "  }\n",
    "  return res"
   ]
  },
  {
   "cell_type": "code",
   "execution_count": 191,
   "metadata": {},
   "outputs": [
    {
     "data": {
      "text/plain": [
       "{'Targem Games': [{'Año': 2003,\n",
       "   'Cantidad de items': 44,\n",
       "   'Contenido Free': '0%'},\n",
       "  {'Año': 2005, 'Cantidad de items': 171, 'Contenido Free': '0%'},\n",
       "  {'Año': 2006, 'Cantidad de items': 32, 'Contenido Free': '0%'},\n",
       "  {'Año': 2007, 'Cantidad de items': 88, 'Contenido Free': '0%'},\n",
       "  {'Año': 2008, 'Cantidad de items': 56, 'Contenido Free': '0%'},\n",
       "  {'Año': 2009, 'Cantidad de items': 162, 'Contenido Free': '0%'},\n",
       "  {'Año': 2012, 'Cantidad de items': 1154, 'Contenido Free': '0%'},\n",
       "  {'Año': 2014, 'Cantidad de items': 528, 'Contenido Free': '0%'},\n",
       "  {'Año': 2016, 'Cantidad de items': 3, 'Contenido Free': '0%'},\n",
       "  {'Año': 2017, 'Cantidad de items': 72, 'Contenido Free': '100.0%'}]}"
      ]
     },
     "execution_count": 191,
     "metadata": {},
     "output_type": "execute_result"
    }
   ],
   "source": [
    "developer('Targem Games')"
   ]
  },
  {
   "cell_type": "code",
   "execution_count": 69,
   "metadata": {},
   "outputs": [],
   "source": [
    "def user_data(user_id:str):\n",
    "  '''\n",
    "  Devuelve la cantidad de dinero gastado por el usuario mas el \n",
    "  porcentaje de recomendacion y la cantidad de items\n",
    "  '''\n",
    "  df = all_dfs[all_dfs['user_id']==user_id]\n",
    "  money = df['price'].sum()\n",
    "  items = len(df)\n",
    "\n",
    "  user_reviews = df[df['user_id']==user_id]\n",
    "  recommendation = (user_reviews['recommend'].sum()/len(user_reviews))*100\n",
    "\n",
    "  res = {\n",
    "    \"Usuario X\": user_id,\n",
    "    \"Dinero gastado\": money,\n",
    "    \"% de recomendacion\": f\"{round(recommendation,2)}%\",\n",
    "    \"Cantidad de items\": items\n",
    "  }\n",
    "\n",
    "  return  res\n"
   ]
  },
  {
   "cell_type": "code",
   "execution_count": 70,
   "metadata": {},
   "outputs": [
    {
     "data": {
      "text/plain": [
       "{'Usuario X': '54678907652',\n",
       " 'Dinero gastado': 89.94,\n",
       " '% de recomendacion': '42.86%',\n",
       " 'Cantidad de items': 7}"
      ]
     },
     "execution_count": 70,
     "metadata": {},
     "output_type": "execute_result"
    }
   ],
   "source": [
    "user_data('54678907652')"
   ]
  },
  {
   "cell_type": "code",
   "execution_count": 96,
   "metadata": {},
   "outputs": [],
   "source": [
    "def user_for_genre(genre:str):\n",
    "  '''\n",
    "  Devuelve el usuario con mas horas jugadas para el genero dado \n",
    "  y una lista de acumulaciones de horas jugadas por año\n",
    "  '''\n",
    "  df = game_item[game_item['genres']==genre]\n",
    "\n",
    "  user = df.groupby('user_id')['playtime_forever'].sum().sort_values(ascending=False).index[0]\n",
    "  hours = df[df['user_id']==user].groupby('release_date')['playtime_forever'].sum()\n",
    "\n",
    "  year = []\n",
    "  for i,x in enumerate(hours):\n",
    "    if x!=0:\n",
    "      year.append({\"Año\":type(hours.index[i].item()),\"Horas\":type(int(x))})\n",
    "\n",
    "  res = {\n",
    "    \"Usuario con mas horas jugadas para Genero\":type(user),\n",
    "    \"Horas Jugadas\": type(year)\n",
    "  }\n",
    "  return res"
   ]
  },
  {
   "cell_type": "code",
   "execution_count": 97,
   "metadata": {},
   "outputs": [
    {
     "data": {
      "text/plain": [
       "{'Usuario con mas horas jugadas para Genero Adventure': str,\n",
       " 'Horas Jugadas': list}"
      ]
     },
     "execution_count": 97,
     "metadata": {},
     "output_type": "execute_result"
    }
   ],
   "source": [
    "user_for_genre('Adventure')"
   ]
  },
  {
   "cell_type": "code",
   "execution_count": 98,
   "metadata": {},
   "outputs": [],
   "source": [
    "def best_developer_year(year:int):\n",
    "  '''\n",
    "  Devuelve el top 3 de desarrolladores con juegos mas recomendados por usuarios para el año dado.\n",
    "  '''\n",
    "  df = all_dfs[pd.to_datetime(all_dfs['posted']).dt.year == int(year)].copy()\n",
    "  df['posted'] = pd.to_datetime(df['posted']).dt.year\n",
    "  recommendation = df.groupby('developer')['recommend'].sum().sort_values(ascending=False)[:3]\n",
    "  \n",
    "  res = {\n",
    "    \"Año\":year,\n",
    "    \"Res\":[\n",
    "      {\"Puesto 1\":recommendation.index[0]},\n",
    "      {\"Puesto 2\":recommendation.index[1]},\n",
    "      {\"Puesto 3\":recommendation.index[2]}\n",
    "    ]\n",
    "  }\n",
    "  return res"
   ]
  },
  {
   "cell_type": "code",
   "execution_count": 99,
   "metadata": {},
   "outputs": [
    {
     "data": {
      "text/plain": [
       "{'Año': 2015, 'Res': list}"
      ]
     },
     "execution_count": 99,
     "metadata": {},
     "output_type": "execute_result"
    }
   ],
   "source": [
    "best_developer_year(2015)"
   ]
  },
  {
   "cell_type": "code",
   "execution_count": 48,
   "metadata": {},
   "outputs": [],
   "source": [
    "\n",
    "def developer_reviews_analysis(developer:str):\n",
    "  '''\n",
    "  Devuelve un diccionario con el nombre del desarrollador como llave y una lista con la cantidad total de registros de reseñas de usuarios que se encuentren categorizados con un analisis de sentimiento como valor positivo o negativo.\n",
    "  '''\n",
    "  sentiments = all_dfs['sentiment'].value_counts()\n",
    "  res = {\n",
    "    developer:{\n",
    "      \"Negative\":sentiments.values[2], \n",
    "      \"Positive\":sentiments.values[0]\n",
    "    }\n",
    "  }\n",
    "  return res"
   ]
  },
  {
   "cell_type": "code",
   "execution_count": 49,
   "metadata": {},
   "outputs": [
    {
     "data": {
      "text/plain": [
       "{'Valve': {'Negative': 4221, 'Positive': 17638}}"
      ]
     },
     "execution_count": 49,
     "metadata": {},
     "output_type": "execute_result"
    }
   ],
   "source": [
    "developer_reviews_analysis('Valve')"
   ]
  }
 ],
 "metadata": {
  "kernelspec": {
   "display_name": "pi",
   "language": "python",
   "name": "python3"
  },
  "language_info": {
   "codemirror_mode": {
    "name": "ipython",
    "version": 3
   },
   "file_extension": ".py",
   "mimetype": "text/x-python",
   "name": "python",
   "nbconvert_exporter": "python",
   "pygments_lexer": "ipython3",
   "version": "3.11.5"
  }
 },
 "nbformat": 4,
 "nbformat_minor": 2
}
