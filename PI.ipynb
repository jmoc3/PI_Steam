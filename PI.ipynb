{
 "cells": [
  {
   "cell_type": "code",
   "execution_count": 1,
   "metadata": {},
   "outputs": [],
   "source": [
    "import pandas as pd\n",
    "import numpy as np\n",
    "import json\n",
    "import ast"
   ]
  },
  {
   "cell_type": "markdown",
   "metadata": {},
   "source": [
    "***\n",
    "## Proceso de ETL\n",
    "***"
   ]
  },
  {
   "cell_type": "markdown",
   "metadata": {},
   "source": [
    "### **E**xtraction\n",
    "\n",
    "- La primera parte del proceso consiste en la extraccion de los datos desde su punto de origen, en nuestro caso se encuentran en un conjunto de datasets proporcionados por la empresa steam de tipo json."
   ]
  },
  {
   "cell_type": "code",
   "execution_count": 2,
   "metadata": {},
   "outputs": [
    {
     "name": "stdout",
     "output_type": "stream",
     "text": [
      "<class 'pandas.core.frame.DataFrame'>\n",
      "RangeIndex: 120445 entries, 0 to 120444\n",
      "Data columns (total 13 columns):\n",
      " #   Column        Non-Null Count  Dtype \n",
      "---  ------        --------------  ----- \n",
      " 0   publisher     24083 non-null  object\n",
      " 1   genres        28852 non-null  object\n",
      " 2   app_name      32133 non-null  object\n",
      " 3   title         30085 non-null  object\n",
      " 4   url           32135 non-null  object\n",
      " 5   release_date  30068 non-null  object\n",
      " 6   tags          31972 non-null  object\n",
      " 7   reviews_url   32133 non-null  object\n",
      " 8   specs         31465 non-null  object\n",
      " 9   price         30758 non-null  object\n",
      " 10  early_access  32135 non-null  object\n",
      " 11  id            32133 non-null  object\n",
      " 12  developer     28836 non-null  object\n",
      "dtypes: object(13)\n",
      "memory usage: 11.9+ MB\n"
     ]
    }
   ],
   "source": [
    "games = 'datasets/output_steam_games.json'\n",
    "\n",
    "# Se lee de cada línea del dataset\n",
    "rows = []\n",
    "with open(games) as f:\n",
    "    for line in f.readlines():\n",
    "        data = json.loads(line)\n",
    "        rows.append(data)\n",
    "\n",
    "# Se convierte a dataframe\n",
    "games = pd.DataFrame(rows)\n",
    "games.info()"
   ]
  },
  {
   "cell_type": "code",
   "execution_count": 3,
   "metadata": {},
   "outputs": [
    {
     "name": "stdout",
     "output_type": "stream",
     "text": [
      "<class 'pandas.core.frame.DataFrame'>\n",
      "RangeIndex: 25799 entries, 0 to 25798\n",
      "Data columns (total 3 columns):\n",
      " #   Column    Non-Null Count  Dtype \n",
      "---  ------    --------------  ----- \n",
      " 0   user_id   25799 non-null  object\n",
      " 1   user_url  25799 non-null  object\n",
      " 2   reviews   25799 non-null  object\n",
      "dtypes: object(3)\n",
      "memory usage: 604.8+ KB\n"
     ]
    }
   ],
   "source": [
    "reviews = 'datasets/australian_user_reviews.json'\n",
    "\n",
    "# Se lee de cada línea del dataset\n",
    "rows.clear()\n",
    "with open(reviews) as f:\n",
    "    for line in f.readlines():\n",
    "        data = ast.literal_eval(line)\n",
    "        rows.append(data)\n",
    "\n",
    "# Se convierte a dataframe\n",
    "reviews = pd.DataFrame(rows)\n",
    "reviews.info()"
   ]
  },
  {
   "cell_type": "code",
   "execution_count": 4,
   "metadata": {},
   "outputs": [
    {
     "name": "stdout",
     "output_type": "stream",
     "text": [
      "<class 'pandas.core.frame.DataFrame'>\n",
      "RangeIndex: 88310 entries, 0 to 88309\n",
      "Data columns (total 5 columns):\n",
      " #   Column       Non-Null Count  Dtype \n",
      "---  ------       --------------  ----- \n",
      " 0   user_id      88310 non-null  object\n",
      " 1   items_count  88310 non-null  int64 \n",
      " 2   steam_id     88310 non-null  object\n",
      " 3   user_url     88310 non-null  object\n",
      " 4   items        88310 non-null  object\n",
      "dtypes: int64(1), object(4)\n",
      "memory usage: 3.4+ MB\n"
     ]
    }
   ],
   "source": [
    "items = 'datasets/australian_users_items.json'\n",
    "\n",
    "# Se lee de cada línea del dataset\n",
    "rows.clear()\n",
    "with open(items) as f:\n",
    "    for line in f.readlines():\n",
    "        data = ast.literal_eval(line)\n",
    "        rows.append(data)\n",
    "\n",
    "# Se convierte a dataframe\n",
    "items = pd.DataFrame(rows)\n",
    "items.info()"
   ]
  },
  {
   "cell_type": "markdown",
   "metadata": {},
   "source": [
    "***\n",
    "### **T**ransform\n",
    "\n",
    "- La fase de transformacion aplica una serie de reglas de negocio sobre los datos extraidos para poder limpiarlos y tener una buena calidad de estos al momento de cargarlos, la gravedad de estas transformaciones dependera de como se encuentren los datos extraidos. Segun nuestras tablas se requiere de una normalizacion en ellas y de algunos casting para mayor legibilidad y utilidad al momento de realizar la carga y otras operaciones."
   ]
  },
  {
   "cell_type": "markdown",
   "metadata": {},
   "source": [
    "#### *Resolver vacios*"
   ]
  },
  {
   "cell_type": "code",
   "execution_count": 5,
   "metadata": {},
   "outputs": [
    {
     "name": "stdout",
     "output_type": "stream",
     "text": [
      "Campos vacios en games: 1168997\n",
      "Campos vacios en reviews: 0\n",
      "Campos vacios en items: 0\n"
     ]
    }
   ],
   "source": [
    "print(f'Campos vacios en games: {games.isna().sum().sum()}')\n",
    "print(f'Campos vacios en reviews: {reviews.isna().sum().sum()}')\n",
    "print(f'Campos vacios en items: {items.isna().sum().sum()}')"
   ]
  },
  {
   "cell_type": "code",
   "execution_count": 6,
   "metadata": {},
   "outputs": [
    {
     "name": "stdout",
     "output_type": "stream",
     "text": [
      "Vacios en games: 0\n"
     ]
    }
   ],
   "source": [
    "#Resolvemos\n",
    "games.dropna(inplace=True)\n",
    "print(f'Vacios en games: {games.isna().sum().sum()}')"
   ]
  },
  {
   "cell_type": "markdown",
   "metadata": {},
   "source": [
    "#### *Normalizacion de columnas*"
   ]
  },
  {
   "cell_type": "markdown",
   "metadata": {},
   "source": [
    "#### *Games*"
   ]
  },
  {
   "cell_type": "code",
   "execution_count": 7,
   "metadata": {},
   "outputs": [
    {
     "data": {
      "text/html": [
       "<div>\n",
       "<style scoped>\n",
       "    .dataframe tbody tr th:only-of-type {\n",
       "        vertical-align: middle;\n",
       "    }\n",
       "\n",
       "    .dataframe tbody tr th {\n",
       "        vertical-align: top;\n",
       "    }\n",
       "\n",
       "    .dataframe thead th {\n",
       "        text-align: right;\n",
       "    }\n",
       "</style>\n",
       "<table border=\"1\" class=\"dataframe\">\n",
       "  <thead>\n",
       "    <tr style=\"text-align: right;\">\n",
       "      <th></th>\n",
       "      <th>publisher</th>\n",
       "      <th>genres</th>\n",
       "      <th>app_name</th>\n",
       "      <th>title</th>\n",
       "      <th>url</th>\n",
       "      <th>release_date</th>\n",
       "      <th>tags</th>\n",
       "      <th>reviews_url</th>\n",
       "      <th>specs</th>\n",
       "      <th>price</th>\n",
       "      <th>early_access</th>\n",
       "      <th>id</th>\n",
       "      <th>developer</th>\n",
       "    </tr>\n",
       "  </thead>\n",
       "  <tbody>\n",
       "    <tr>\n",
       "      <th>91181</th>\n",
       "      <td>Privateer Press Interactive</td>\n",
       "      <td>[Indie, Strategy]</td>\n",
       "      <td>WARMACHINE: Tactics</td>\n",
       "      <td>WARMACHINE: Tactics</td>\n",
       "      <td>http://store.steampowered.com/app/253510/WARMA...</td>\n",
       "      <td>2014-11-20</td>\n",
       "      <td>[Strategy, Turn-Based, Turn-Based Strategy, St...</td>\n",
       "      <td>http://steamcommunity.com/app/253510/reviews/?...</td>\n",
       "      <td>[Single-player, Multi-player, Cross-Platform M...</td>\n",
       "      <td>Play WARMACHINE: Tactics Demo</td>\n",
       "      <td>False</td>\n",
       "      <td>253510</td>\n",
       "      <td>WhiteMoon Dreams</td>\n",
       "    </tr>\n",
       "  </tbody>\n",
       "</table>\n",
       "</div>"
      ],
      "text/plain": [
       "                         publisher             genres             app_name  \\\n",
       "91181  Privateer Press Interactive  [Indie, Strategy]  WARMACHINE: Tactics   \n",
       "\n",
       "                     title                                                url  \\\n",
       "91181  WARMACHINE: Tactics  http://store.steampowered.com/app/253510/WARMA...   \n",
       "\n",
       "      release_date                                               tags  \\\n",
       "91181   2014-11-20  [Strategy, Turn-Based, Turn-Based Strategy, St...   \n",
       "\n",
       "                                             reviews_url  \\\n",
       "91181  http://steamcommunity.com/app/253510/reviews/?...   \n",
       "\n",
       "                                                   specs  \\\n",
       "91181  [Single-player, Multi-player, Cross-Platform M...   \n",
       "\n",
       "                               price early_access      id         developer  \n",
       "91181  Play WARMACHINE: Tactics Demo        False  253510  WhiteMoon Dreams  "
      ]
     },
     "execution_count": 7,
     "metadata": {},
     "output_type": "execute_result"
    }
   ],
   "source": [
    "games.sample()"
   ]
  },
  {
   "cell_type": "code",
   "execution_count": 8,
   "metadata": {},
   "outputs": [
    {
     "name": "stdout",
     "output_type": "stream",
     "text": [
      "Registro iguales entre la columna app_name y title: 22179\n",
      "Cantidad de registros en el dataframe 'games': 22530\n"
     ]
    }
   ],
   "source": [
    "print(f\"Registro iguales entre la columna app_name y title: {(games['app_name']==games['title']).sum()}\")\n",
    "print(f\"Cantidad de registros en el dataframe 'games': {len(games)}\")"
   ]
  },
  {
   "cell_type": "markdown",
   "metadata": {},
   "source": [
    "La mayoria de los valores de una columna se encuentran en la otra, asi que dejaremos una de las dos para que sirva de referencia total al nombre del videojuego y aprovecharemos para eliminar columnas que no utilizaremos"
   ]
  },
  {
   "cell_type": "code",
   "execution_count": 9,
   "metadata": {},
   "outputs": [],
   "source": [
    "games.drop(columns=['app_name','specs','early_access','publisher','tags','reviews_url'],inplace=True)"
   ]
  },
  {
   "cell_type": "markdown",
   "metadata": {},
   "source": [
    "El dataframe posee una columna multivaluada que definitivamente nos conviene desglozar para un mejor uso"
   ]
  },
  {
   "cell_type": "code",
   "execution_count": 10,
   "metadata": {},
   "outputs": [],
   "source": [
    "games = games.explode('genres')"
   ]
  },
  {
   "cell_type": "markdown",
   "metadata": {},
   "source": [
    "Alguno valores en la columna price no son nisiquiera de tipo flotante, asi que arreglaremos eso cambiando esos valores y casteando la columna"
   ]
  },
  {
   "cell_type": "code",
   "execution_count": 11,
   "metadata": {},
   "outputs": [],
   "source": [
    "games['price'] = pd.to_numeric(games['price'],errors='coerce').astype(float)\n",
    "games['price'].fillna(0,inplace=True)"
   ]
  },
  {
   "cell_type": "code",
   "execution_count": 517,
   "metadata": {},
   "outputs": [
    {
     "data": {
      "text/html": [
       "<div>\n",
       "<style scoped>\n",
       "    .dataframe tbody tr th:only-of-type {\n",
       "        vertical-align: middle;\n",
       "    }\n",
       "\n",
       "    .dataframe tbody tr th {\n",
       "        vertical-align: top;\n",
       "    }\n",
       "\n",
       "    .dataframe thead th {\n",
       "        text-align: right;\n",
       "    }\n",
       "</style>\n",
       "<table border=\"1\" class=\"dataframe\">\n",
       "  <thead>\n",
       "    <tr style=\"text-align: right;\">\n",
       "      <th></th>\n",
       "      <th>genres</th>\n",
       "      <th>game_title</th>\n",
       "      <th>url</th>\n",
       "      <th>release_date</th>\n",
       "      <th>price</th>\n",
       "      <th>id</th>\n",
       "      <th>developer</th>\n",
       "    </tr>\n",
       "  </thead>\n",
       "  <tbody>\n",
       "    <tr>\n",
       "      <th>88311</th>\n",
       "      <td>Free to Play</td>\n",
       "      <td>Ironbound</td>\n",
       "      <td>http://store.steampowered.com/app/643980/Ironb...</td>\n",
       "      <td>2018-01-04</td>\n",
       "      <td>0.0</td>\n",
       "      <td>643980</td>\n",
       "      <td>Secret Level SRL</td>\n",
       "    </tr>\n",
       "    <tr>\n",
       "      <th>88311</th>\n",
       "      <td>Indie</td>\n",
       "      <td>Ironbound</td>\n",
       "      <td>http://store.steampowered.com/app/643980/Ironb...</td>\n",
       "      <td>2018-01-04</td>\n",
       "      <td>0.0</td>\n",
       "      <td>643980</td>\n",
       "      <td>Secret Level SRL</td>\n",
       "    </tr>\n",
       "    <tr>\n",
       "      <th>88311</th>\n",
       "      <td>RPG</td>\n",
       "      <td>Ironbound</td>\n",
       "      <td>http://store.steampowered.com/app/643980/Ironb...</td>\n",
       "      <td>2018-01-04</td>\n",
       "      <td>0.0</td>\n",
       "      <td>643980</td>\n",
       "      <td>Secret Level SRL</td>\n",
       "    </tr>\n",
       "    <tr>\n",
       "      <th>88311</th>\n",
       "      <td>Strategy</td>\n",
       "      <td>Ironbound</td>\n",
       "      <td>http://store.steampowered.com/app/643980/Ironb...</td>\n",
       "      <td>2018-01-04</td>\n",
       "      <td>0.0</td>\n",
       "      <td>643980</td>\n",
       "      <td>Secret Level SRL</td>\n",
       "    </tr>\n",
       "    <tr>\n",
       "      <th>88312</th>\n",
       "      <td>Casual</td>\n",
       "      <td>Real Pool 3D - Poolians</td>\n",
       "      <td>http://store.steampowered.com/app/670290/Real_...</td>\n",
       "      <td>2017-07-24</td>\n",
       "      <td>0.0</td>\n",
       "      <td>670290</td>\n",
       "      <td>Poolians.com</td>\n",
       "    </tr>\n",
       "    <tr>\n",
       "      <th>...</th>\n",
       "      <td>...</td>\n",
       "      <td>...</td>\n",
       "      <td>...</td>\n",
       "      <td>...</td>\n",
       "      <td>...</td>\n",
       "      <td>...</td>\n",
       "      <td>...</td>\n",
       "    </tr>\n",
       "    <tr>\n",
       "      <th>120410</th>\n",
       "      <td>Free to Play</td>\n",
       "      <td>忍者村大战2</td>\n",
       "      <td>http://store.steampowered.com/app/754350/2/</td>\n",
       "      <td>2018-01-03</td>\n",
       "      <td>0.0</td>\n",
       "      <td>754350</td>\n",
       "      <td>杭州分浪网络科技有限公司</td>\n",
       "    </tr>\n",
       "    <tr>\n",
       "      <th>120410</th>\n",
       "      <td>Massively Multiplayer</td>\n",
       "      <td>忍者村大战2</td>\n",
       "      <td>http://store.steampowered.com/app/754350/2/</td>\n",
       "      <td>2018-01-03</td>\n",
       "      <td>0.0</td>\n",
       "      <td>754350</td>\n",
       "      <td>杭州分浪网络科技有限公司</td>\n",
       "    </tr>\n",
       "    <tr>\n",
       "      <th>120410</th>\n",
       "      <td>RPG</td>\n",
       "      <td>忍者村大战2</td>\n",
       "      <td>http://store.steampowered.com/app/754350/2/</td>\n",
       "      <td>2018-01-03</td>\n",
       "      <td>0.0</td>\n",
       "      <td>754350</td>\n",
       "      <td>杭州分浪网络科技有限公司</td>\n",
       "    </tr>\n",
       "    <tr>\n",
       "      <th>120410</th>\n",
       "      <td>Strategy</td>\n",
       "      <td>忍者村大战2</td>\n",
       "      <td>http://store.steampowered.com/app/754350/2/</td>\n",
       "      <td>2018-01-03</td>\n",
       "      <td>0.0</td>\n",
       "      <td>754350</td>\n",
       "      <td>杭州分浪网络科技有限公司</td>\n",
       "    </tr>\n",
       "    <tr>\n",
       "      <th>120411</th>\n",
       "      <td>Simulation</td>\n",
       "      <td>High School Simulator</td>\n",
       "      <td>http://store.steampowered.com/app/754620/High_...</td>\n",
       "      <td>2018-01-03</td>\n",
       "      <td>0.0</td>\n",
       "      <td>754620</td>\n",
       "      <td>KUMA GAMES</td>\n",
       "    </tr>\n",
       "  </tbody>\n",
       "</table>\n",
       "<p>4156 rows × 7 columns</p>\n",
       "</div>"
      ],
      "text/plain": [
       "                       genres               game_title  \\\n",
       "88311            Free to Play                Ironbound   \n",
       "88311                   Indie                Ironbound   \n",
       "88311                     RPG                Ironbound   \n",
       "88311                Strategy                Ironbound   \n",
       "88312                  Casual  Real Pool 3D - Poolians   \n",
       "...                       ...                      ...   \n",
       "120410           Free to Play                   忍者村大战2   \n",
       "120410  Massively Multiplayer                   忍者村大战2   \n",
       "120410                    RPG                   忍者村大战2   \n",
       "120410               Strategy                   忍者村大战2   \n",
       "120411             Simulation    High School Simulator   \n",
       "\n",
       "                                                      url release_date  price  \\\n",
       "88311   http://store.steampowered.com/app/643980/Ironb...   2018-01-04    0.0   \n",
       "88311   http://store.steampowered.com/app/643980/Ironb...   2018-01-04    0.0   \n",
       "88311   http://store.steampowered.com/app/643980/Ironb...   2018-01-04    0.0   \n",
       "88311   http://store.steampowered.com/app/643980/Ironb...   2018-01-04    0.0   \n",
       "88312   http://store.steampowered.com/app/670290/Real_...   2017-07-24    0.0   \n",
       "...                                                   ...          ...    ...   \n",
       "120410        http://store.steampowered.com/app/754350/2/   2018-01-03    0.0   \n",
       "120410        http://store.steampowered.com/app/754350/2/   2018-01-03    0.0   \n",
       "120410        http://store.steampowered.com/app/754350/2/   2018-01-03    0.0   \n",
       "120410        http://store.steampowered.com/app/754350/2/   2018-01-03    0.0   \n",
       "120411  http://store.steampowered.com/app/754620/High_...   2018-01-03    0.0   \n",
       "\n",
       "            id         developer  \n",
       "88311   643980  Secret Level SRL  \n",
       "88311   643980  Secret Level SRL  \n",
       "88311   643980  Secret Level SRL  \n",
       "88311   643980  Secret Level SRL  \n",
       "88312   670290      Poolians.com  \n",
       "...        ...               ...  \n",
       "120410  754350      杭州分浪网络科技有限公司  \n",
       "120410  754350      杭州分浪网络科技有限公司  \n",
       "120410  754350      杭州分浪网络科技有限公司  \n",
       "120410  754350      杭州分浪网络科技有限公司  \n",
       "120411  754620        KUMA GAMES  \n",
       "\n",
       "[4156 rows x 7 columns]"
      ]
     },
     "execution_count": 517,
     "metadata": {},
     "output_type": "execute_result"
    }
   ],
   "source": [
    "games[games['price']==0]"
   ]
  },
  {
   "cell_type": "markdown",
   "metadata": {},
   "source": [
    "Ultimo retoque para un futuro merge con la tabla item que nos permita unificar las tres tablas"
   ]
  },
  {
   "cell_type": "code",
   "execution_count": 12,
   "metadata": {},
   "outputs": [],
   "source": [
    "games.rename(columns={\"title\":\"game_title\"},inplace=True)"
   ]
  },
  {
   "cell_type": "code",
   "execution_count": 75,
   "metadata": {},
   "outputs": [],
   "source": [
    "games['release_date'] = pd.to_datetime(games['release_date'],errors='coerce')\n",
    "games.dropna(inplace=True)"
   ]
  },
  {
   "cell_type": "code",
   "execution_count": 76,
   "metadata": {},
   "outputs": [
    {
     "data": {
      "text/html": [
       "<div>\n",
       "<style scoped>\n",
       "    .dataframe tbody tr th:only-of-type {\n",
       "        vertical-align: middle;\n",
       "    }\n",
       "\n",
       "    .dataframe tbody tr th {\n",
       "        vertical-align: top;\n",
       "    }\n",
       "\n",
       "    .dataframe thead th {\n",
       "        text-align: right;\n",
       "    }\n",
       "</style>\n",
       "<table border=\"1\" class=\"dataframe\">\n",
       "  <thead>\n",
       "    <tr style=\"text-align: right;\">\n",
       "      <th></th>\n",
       "      <th>genres</th>\n",
       "      <th>game_title</th>\n",
       "      <th>url</th>\n",
       "      <th>release_date</th>\n",
       "      <th>price</th>\n",
       "      <th>id</th>\n",
       "      <th>developer</th>\n",
       "    </tr>\n",
       "  </thead>\n",
       "  <tbody>\n",
       "    <tr>\n",
       "      <th>105103</th>\n",
       "      <td>Simulation</td>\n",
       "      <td>Pixel Puzzles Ultimate - Puzzle Pack: Russia</td>\n",
       "      <td>http://store.steampowered.com/app/591503/Pixel...</td>\n",
       "      <td>2017-07-17</td>\n",
       "      <td>3.99</td>\n",
       "      <td>591503</td>\n",
       "      <td>DL Softworks</td>\n",
       "    </tr>\n",
       "  </tbody>\n",
       "</table>\n",
       "</div>"
      ],
      "text/plain": [
       "            genres                                    game_title  \\\n",
       "105103  Simulation  Pixel Puzzles Ultimate - Puzzle Pack: Russia   \n",
       "\n",
       "                                                      url release_date  price  \\\n",
       "105103  http://store.steampowered.com/app/591503/Pixel...   2017-07-17   3.99   \n",
       "\n",
       "            id     developer  \n",
       "105103  591503  DL Softworks  "
      ]
     },
     "execution_count": 76,
     "metadata": {},
     "output_type": "execute_result"
    }
   ],
   "source": [
    "games.sample()"
   ]
  },
  {
   "cell_type": "markdown",
   "metadata": {},
   "source": [
    "#### *Reviews*"
   ]
  },
  {
   "cell_type": "code",
   "execution_count": 14,
   "metadata": {},
   "outputs": [
    {
     "data": {
      "text/html": [
       "<div>\n",
       "<style scoped>\n",
       "    .dataframe tbody tr th:only-of-type {\n",
       "        vertical-align: middle;\n",
       "    }\n",
       "\n",
       "    .dataframe tbody tr th {\n",
       "        vertical-align: top;\n",
       "    }\n",
       "\n",
       "    .dataframe thead th {\n",
       "        text-align: right;\n",
       "    }\n",
       "</style>\n",
       "<table border=\"1\" class=\"dataframe\">\n",
       "  <thead>\n",
       "    <tr style=\"text-align: right;\">\n",
       "      <th></th>\n",
       "      <th>user_id</th>\n",
       "      <th>user_url</th>\n",
       "      <th>reviews</th>\n",
       "    </tr>\n",
       "  </thead>\n",
       "  <tbody>\n",
       "    <tr>\n",
       "      <th>17301</th>\n",
       "      <td>76561198065836624</td>\n",
       "      <td>http://steamcommunity.com/profiles/76561198065...</td>\n",
       "      <td>[{'funny': '', 'posted': 'Posted December 18, ...</td>\n",
       "    </tr>\n",
       "  </tbody>\n",
       "</table>\n",
       "</div>"
      ],
      "text/plain": [
       "                 user_id                                           user_url  \\\n",
       "17301  76561198065836624  http://steamcommunity.com/profiles/76561198065...   \n",
       "\n",
       "                                                 reviews  \n",
       "17301  [{'funny': '', 'posted': 'Posted December 18, ...  "
      ]
     },
     "execution_count": 14,
     "metadata": {},
     "output_type": "execute_result"
    }
   ],
   "source": [
    "reviews.sample()"
   ]
  },
  {
   "cell_type": "markdown",
   "metadata": {},
   "source": [
    "Otra columna multivaluada"
   ]
  },
  {
   "cell_type": "code",
   "execution_count": 15,
   "metadata": {},
   "outputs": [
    {
     "data": {
      "text/plain": [
       "[{'funny': '',\n",
       "  'posted': 'Posted November 5, 2011.',\n",
       "  'last_edited': '',\n",
       "  'item_id': '1250',\n",
       "  'helpful': 'No ratings yet',\n",
       "  'recommend': True,\n",
       "  'review': 'Simple yet with great replayability. In my opinion does \"zombie\" hordes and team work better than left 4 dead plus has a global leveling system. Alot of down to earth \"zombie\" splattering fun for the whole family. Amazed this sort of FPS is so rare.'},\n",
       " {'funny': '',\n",
       "  'posted': 'Posted July 15, 2011.',\n",
       "  'last_edited': '',\n",
       "  'item_id': '22200',\n",
       "  'helpful': 'No ratings yet',\n",
       "  'recommend': True,\n",
       "  'review': \"It's unique and worth a playthrough.\"},\n",
       " {'funny': '',\n",
       "  'posted': 'Posted April 21, 2011.',\n",
       "  'last_edited': '',\n",
       "  'item_id': '43110',\n",
       "  'helpful': 'No ratings yet',\n",
       "  'recommend': True,\n",
       "  'review': 'Great atmosphere. The gunplay can be a bit chunky at times but at the end of the day this game is definitely worth it and I hope they do a sequel...so buy the game so I get a sequel!'}]"
      ]
     },
     "execution_count": 15,
     "metadata": {},
     "output_type": "execute_result"
    }
   ],
   "source": [
    "reviews['reviews'].iloc[0]"
   ]
  },
  {
   "cell_type": "code",
   "execution_count": 16,
   "metadata": {},
   "outputs": [],
   "source": [
    "# Desglosamos\n",
    "reviews = reviews.explode('reviews')"
   ]
  },
  {
   "cell_type": "code",
   "execution_count": 17,
   "metadata": {},
   "outputs": [],
   "source": [
    "# Dividimos cada llave de cada diccionario dentro de su propia columna dentro de nuestro dataset\n",
    "reviews['posted'] = reviews['reviews'].apply(lambda x: np.nan if isinstance(x,float) else x['posted'])\n",
    "reviews['item_id'] = reviews['reviews'].apply(lambda x: np.nan if isinstance(x,float) else x['item_id'])\n",
    "reviews['recommend'] = reviews['reviews'].apply(lambda x: np.nan if isinstance(x,float) else x['recommend'])\n",
    "reviews['review'] = reviews['reviews'].apply(lambda x: np.nan if isinstance(x,float) else x['review'])"
   ]
  },
  {
   "cell_type": "code",
   "execution_count": 18,
   "metadata": {},
   "outputs": [
    {
     "name": "stdout",
     "output_type": "stream",
     "text": [
      "Vacios: 140\n",
      "Vacios: 0\n"
     ]
    }
   ],
   "source": [
    "print(f\"Vacios: {reviews.isna().sum().sum()}\")\n",
    "reviews.dropna(inplace=True)\n",
    "print(f\"Vacios: {reviews.isna().sum().sum()}\")"
   ]
  },
  {
   "cell_type": "code",
   "execution_count": 19,
   "metadata": {},
   "outputs": [],
   "source": [
    "# Eliminamos la sobrante\n",
    "reviews.drop(columns=['reviews'],inplace=True)"
   ]
  },
  {
   "cell_type": "code",
   "execution_count": 20,
   "metadata": {},
   "outputs": [
    {
     "data": {
      "text/html": [
       "<div>\n",
       "<style scoped>\n",
       "    .dataframe tbody tr th:only-of-type {\n",
       "        vertical-align: middle;\n",
       "    }\n",
       "\n",
       "    .dataframe tbody tr th {\n",
       "        vertical-align: top;\n",
       "    }\n",
       "\n",
       "    .dataframe thead th {\n",
       "        text-align: right;\n",
       "    }\n",
       "</style>\n",
       "<table border=\"1\" class=\"dataframe\">\n",
       "  <thead>\n",
       "    <tr style=\"text-align: right;\">\n",
       "      <th></th>\n",
       "      <th>user_id</th>\n",
       "      <th>user_url</th>\n",
       "      <th>posted</th>\n",
       "      <th>item_id</th>\n",
       "      <th>recommend</th>\n",
       "      <th>review</th>\n",
       "    </tr>\n",
       "  </thead>\n",
       "  <tbody>\n",
       "    <tr>\n",
       "      <th>2472</th>\n",
       "      <td>76561198077337646</td>\n",
       "      <td>http://steamcommunity.com/profiles/76561198077...</td>\n",
       "      <td>Posted January 20, 2015.</td>\n",
       "      <td>2400</td>\n",
       "      <td>True</td>\n",
       "      <td>Terrific game when your playing with friends</td>\n",
       "    </tr>\n",
       "  </tbody>\n",
       "</table>\n",
       "</div>"
      ],
      "text/plain": [
       "                user_id                                           user_url  \\\n",
       "2472  76561198077337646  http://steamcommunity.com/profiles/76561198077...   \n",
       "\n",
       "                        posted item_id recommend  \\\n",
       "2472  Posted January 20, 2015.    2400      True   \n",
       "\n",
       "                                            review  \n",
       "2472  Terrific game when your playing with friends  "
      ]
     },
     "execution_count": 20,
     "metadata": {},
     "output_type": "execute_result"
    }
   ],
   "source": [
    "reviews.sample()"
   ]
  },
  {
   "cell_type": "markdown",
   "metadata": {},
   "source": [
    "Las columnas de fechas deberian tener todas un mismo formato"
   ]
  },
  {
   "cell_type": "code",
   "execution_count": 21,
   "metadata": {},
   "outputs": [],
   "source": [
    "# Dividimos las cadenas de texto en mes dia y año\n",
    "reviews['posted'] = reviews['posted'].str.replace(',','').str.replace('.','').str.replace('Posted','').str.split()\n",
    "\n",
    "# Creamos un hashmap para la traduccion de string a numero como referencia del mes \n",
    "months = {\n",
    "  'January': 1,\n",
    "  'February': 2,\n",
    "  'March': 3,\n",
    "  'April': 4,\n",
    "  'May': 5,\n",
    "  'June': 6,\n",
    "  'July': 7,\n",
    "  'August': 8,\n",
    "  'September': 9,\n",
    "  'October': 10,\n",
    "  'November': 11,\n",
    "  'December': 12\n",
    "}\n",
    "# Array para añadir cada registro ya traducido posteriormente al dataframe\n",
    "dates=[]\n",
    "for i,x in enumerate(reviews.itertuples()): # Se itera los registros\n",
    "\n",
    "  if len(x.posted)==3: # Si el campo posee todo los campos encesarios para tener una fecha entonces se declara la fecha\n",
    "    date = f\"{x.posted[2]}-{months[x.posted[0]]}-{x.posted[1]}\" \n",
    "  else: \n",
    "    date = np.nan\n",
    "\n",
    "  dates.append(pd.to_datetime(date).date())\n",
    "\n",
    "reviews['posted'] = pd.DataFrame(dates) # Se añaden a la columna del dataframe"
   ]
  },
  {
   "cell_type": "markdown",
   "metadata": {},
   "source": [
    "#### *Feature Engineering*"
   ]
  },
  {
   "cell_type": "markdown",
   "metadata": {},
   "source": [
    "Para una consulta en nuestra API vamos a necesitar una nueva columna que nos especifique cual es el sentimiento que emerge de las palabras de las reviews de los usuarios. Para eso utilizaremos una libreria famosa para el procesamiento de lenguaje natural que nos colaborara en el proceso. "
   ]
  },
  {
   "cell_type": "code",
   "execution_count": 22,
   "metadata": {},
   "outputs": [],
   "source": [
    "from nltk.sentiment.vader import SentimentIntensityAnalyzer\n",
    "\n",
    "SID = SentimentIntensityAnalyzer()\n",
    "analysis = []\n",
    "\n",
    "for x in reviews.itertuples():\n",
    "  sentiment = SID.polarity_scores(x.review)['compound']\n",
    "  if sentiment<-.2:\n",
    "    value = 0\n",
    "  elif sentiment>.2:\n",
    "    value = 2\n",
    "  else:\n",
    "    value = 1\n",
    "  analysis.append(value)\n",
    "\n",
    "reviews['sentiment'] = pd.DataFrame(analysis)"
   ]
  },
  {
   "cell_type": "code",
   "execution_count": 23,
   "metadata": {},
   "outputs": [
    {
     "data": {
      "text/html": [
       "<div>\n",
       "<style scoped>\n",
       "    .dataframe tbody tr th:only-of-type {\n",
       "        vertical-align: middle;\n",
       "    }\n",
       "\n",
       "    .dataframe tbody tr th {\n",
       "        vertical-align: top;\n",
       "    }\n",
       "\n",
       "    .dataframe thead th {\n",
       "        text-align: right;\n",
       "    }\n",
       "</style>\n",
       "<table border=\"1\" class=\"dataframe\">\n",
       "  <thead>\n",
       "    <tr style=\"text-align: right;\">\n",
       "      <th></th>\n",
       "      <th>user_id</th>\n",
       "      <th>user_url</th>\n",
       "      <th>posted</th>\n",
       "      <th>item_id</th>\n",
       "      <th>recommend</th>\n",
       "      <th>review</th>\n",
       "      <th>sentiment</th>\n",
       "    </tr>\n",
       "  </thead>\n",
       "  <tbody>\n",
       "    <tr>\n",
       "      <th>2387</th>\n",
       "      <td>76561198071943219</td>\n",
       "      <td>http://steamcommunity.com/profiles/76561198071...</td>\n",
       "      <td>NaT</td>\n",
       "      <td>512340</td>\n",
       "      <td>False</td>\n",
       "      <td>Had to spend a extra 7 bucks just to get the c...</td>\n",
       "      <td>2</td>\n",
       "    </tr>\n",
       "  </tbody>\n",
       "</table>\n",
       "</div>"
      ],
      "text/plain": [
       "                user_id                                           user_url  \\\n",
       "2387  76561198071943219  http://steamcommunity.com/profiles/76561198071...   \n",
       "\n",
       "     posted item_id recommend  \\\n",
       "2387    NaT  512340     False   \n",
       "\n",
       "                                                 review  sentiment  \n",
       "2387  Had to spend a extra 7 bucks just to get the c...          2  "
      ]
     },
     "execution_count": 23,
     "metadata": {},
     "output_type": "execute_result"
    }
   ],
   "source": [
    "reviews.sample()"
   ]
  },
  {
   "cell_type": "markdown",
   "metadata": {},
   "source": [
    "#### *Items*"
   ]
  },
  {
   "cell_type": "code",
   "execution_count": 24,
   "metadata": {},
   "outputs": [
    {
     "data": {
      "text/html": [
       "<div>\n",
       "<style scoped>\n",
       "    .dataframe tbody tr th:only-of-type {\n",
       "        vertical-align: middle;\n",
       "    }\n",
       "\n",
       "    .dataframe tbody tr th {\n",
       "        vertical-align: top;\n",
       "    }\n",
       "\n",
       "    .dataframe thead th {\n",
       "        text-align: right;\n",
       "    }\n",
       "</style>\n",
       "<table border=\"1\" class=\"dataframe\">\n",
       "  <thead>\n",
       "    <tr style=\"text-align: right;\">\n",
       "      <th></th>\n",
       "      <th>user_id</th>\n",
       "      <th>items_count</th>\n",
       "      <th>steam_id</th>\n",
       "      <th>user_url</th>\n",
       "      <th>items</th>\n",
       "    </tr>\n",
       "  </thead>\n",
       "  <tbody>\n",
       "    <tr>\n",
       "      <th>45856</th>\n",
       "      <td>76561198009555951</td>\n",
       "      <td>49</td>\n",
       "      <td>76561198009555951</td>\n",
       "      <td>http://steamcommunity.com/profiles/76561198009...</td>\n",
       "      <td>[{'item_id': '10430', 'item_name': 'Universe a...</td>\n",
       "    </tr>\n",
       "  </tbody>\n",
       "</table>\n",
       "</div>"
      ],
      "text/plain": [
       "                 user_id  items_count           steam_id  \\\n",
       "45856  76561198009555951           49  76561198009555951   \n",
       "\n",
       "                                                user_url  \\\n",
       "45856  http://steamcommunity.com/profiles/76561198009...   \n",
       "\n",
       "                                                   items  \n",
       "45856  [{'item_id': '10430', 'item_name': 'Universe a...  "
      ]
     },
     "execution_count": 24,
     "metadata": {},
     "output_type": "execute_result"
    }
   ],
   "source": [
    "items.sample()"
   ]
  },
  {
   "cell_type": "markdown",
   "metadata": {},
   "source": [
    "Otra columna multivariada"
   ]
  },
  {
   "cell_type": "code",
   "execution_count": 25,
   "metadata": {},
   "outputs": [],
   "source": [
    "# Se divide las listas por registro\n",
    "items = items.explode('items')"
   ]
  },
  {
   "cell_type": "code",
   "execution_count": 26,
   "metadata": {},
   "outputs": [],
   "source": [
    "# Dividimos cada llave de cada diccionario dentro de su propia columna dentro de nuestro dataset\n",
    "items['item_id'] = items['items'].apply(lambda x: np.nan if isinstance(x,float) else x['item_id'])\n",
    "items['item_name'] = items['items'].apply(lambda x: np.nan if isinstance(x,float) else x['item_name'])\n",
    "items['playtime_forever'] = items['items'].apply(lambda x: np.nan if isinstance(x,float) else x['playtime_forever'])"
   ]
  },
  {
   "cell_type": "code",
   "execution_count": 27,
   "metadata": {},
   "outputs": [
    {
     "name": "stdout",
     "output_type": "stream",
     "text": [
      "Vacios: 67224\n",
      "Vacios: 0\n"
     ]
    }
   ],
   "source": [
    "# Validamos vacios\n",
    "print(f\"Vacios: {items.isna().sum().sum()}\")\n",
    "items.dropna(inplace=True)\n",
    "print(f\"Vacios: {items.isna().sum().sum()}\")"
   ]
  },
  {
   "cell_type": "code",
   "execution_count": 28,
   "metadata": {},
   "outputs": [],
   "source": [
    "# Eliminamos columnas innecesarias\n",
    "items.drop(columns=['items','steam_id','items_count','user_url'],inplace=True)"
   ]
  },
  {
   "cell_type": "code",
   "execution_count": 29,
   "metadata": {},
   "outputs": [],
   "source": [
    "# Retoque final para el merge con la tabla games\n",
    "items.rename(columns={\"item_name\":\"game_title\"},inplace=True)"
   ]
  },
  {
   "cell_type": "code",
   "execution_count": 30,
   "metadata": {},
   "outputs": [
    {
     "data": {
      "text/html": [
       "<div>\n",
       "<style scoped>\n",
       "    .dataframe tbody tr th:only-of-type {\n",
       "        vertical-align: middle;\n",
       "    }\n",
       "\n",
       "    .dataframe tbody tr th {\n",
       "        vertical-align: top;\n",
       "    }\n",
       "\n",
       "    .dataframe thead th {\n",
       "        text-align: right;\n",
       "    }\n",
       "</style>\n",
       "<table border=\"1\" class=\"dataframe\">\n",
       "  <thead>\n",
       "    <tr style=\"text-align: right;\">\n",
       "      <th></th>\n",
       "      <th>user_id</th>\n",
       "      <th>item_id</th>\n",
       "      <th>game_title</th>\n",
       "      <th>playtime_forever</th>\n",
       "    </tr>\n",
       "  </thead>\n",
       "  <tbody>\n",
       "    <tr>\n",
       "      <th>30528</th>\n",
       "      <td>76561198037347665</td>\n",
       "      <td>7830</td>\n",
       "      <td>Men of War</td>\n",
       "      <td>13.0</td>\n",
       "    </tr>\n",
       "  </tbody>\n",
       "</table>\n",
       "</div>"
      ],
      "text/plain": [
       "                 user_id item_id  game_title  playtime_forever\n",
       "30528  76561198037347665    7830  Men of War              13.0"
      ]
     },
     "execution_count": 30,
     "metadata": {},
     "output_type": "execute_result"
    }
   ],
   "source": [
    "items.sample()"
   ]
  },
  {
   "cell_type": "markdown",
   "metadata": {},
   "source": [
    "***\n",
    "### **L**oad\n",
    "- Como cereza del pastel debemos cargar nuestros datos ya procesados a un sistema de origen. Este sistema dependera bastante de los requisitos de la organizacion y varia segun sus objetivos. Para este proyecto la carga se hara directamente en la Web mediante una API y en esta ocasion exportaremos solo parte de nuestro gran dataset, por cuestion de rendimiento, eficiencia y funcionamiento de la aplicacion que utilizaremos para el despliegue, Render. Para ser mas claros estos servicios poseen una prueba gratuita pero bastante limitada en cuestion de memoria."
   ]
  },
  {
   "cell_type": "code",
   "execution_count": 521,
   "metadata": {},
   "outputs": [],
   "source": [
    "game_item = pd.merge(games,items,on='game_title')\n",
    "game_item.drop(columns=['game_title','url','id','item_id'],inplace=True)\n",
    "game_item['release_date'] = pd.to_datetime(game_item['release_date']).dt.year"
   ]
  },
  {
   "cell_type": "code",
   "execution_count": 604,
   "metadata": {},
   "outputs": [
    {
     "data": {
      "text/html": [
       "<div>\n",
       "<style scoped>\n",
       "    .dataframe tbody tr th:only-of-type {\n",
       "        vertical-align: middle;\n",
       "    }\n",
       "\n",
       "    .dataframe tbody tr th {\n",
       "        vertical-align: top;\n",
       "    }\n",
       "\n",
       "    .dataframe thead th {\n",
       "        text-align: right;\n",
       "    }\n",
       "</style>\n",
       "<table border=\"1\" class=\"dataframe\">\n",
       "  <thead>\n",
       "    <tr style=\"text-align: right;\">\n",
       "      <th></th>\n",
       "      <th>genres</th>\n",
       "      <th>release_date</th>\n",
       "      <th>price</th>\n",
       "      <th>developer</th>\n",
       "      <th>user_id</th>\n",
       "      <th>playtime_forever</th>\n",
       "    </tr>\n",
       "  </thead>\n",
       "  <tbody>\n",
       "    <tr>\n",
       "      <th>3036945</th>\n",
       "      <td>Indie</td>\n",
       "      <td>2017</td>\n",
       "      <td>19.99</td>\n",
       "      <td>Boneloaf</td>\n",
       "      <td>maddogreilly999</td>\n",
       "      <td>26.0</td>\n",
       "    </tr>\n",
       "  </tbody>\n",
       "</table>\n",
       "</div>"
      ],
      "text/plain": [
       "        genres  release_date  price developer          user_id  \\\n",
       "3036945  Indie          2017  19.99  Boneloaf  maddogreilly999   \n",
       "\n",
       "         playtime_forever  \n",
       "3036945              26.0  "
      ]
     },
     "execution_count": 604,
     "metadata": {},
     "output_type": "execute_result"
    }
   ],
   "source": [
    "game_item.sample()"
   ]
  },
  {
   "cell_type": "code",
   "execution_count": 449,
   "metadata": {},
   "outputs": [],
   "source": [
    "reviews_items = pd.merge(reviews,items[['item_id','game_title']].drop_duplicates(),on='item_id')\n",
    "reviews_items.dropna(inplace=True)"
   ]
  },
  {
   "cell_type": "code",
   "execution_count": 454,
   "metadata": {},
   "outputs": [],
   "source": [
    "all_dfs = pd.merge(reviews_items, games[['game_title','developer','price']].drop_duplicates(), on='game_title')\n",
    "all_dfs.dropna(inplace=True)"
   ]
  },
  {
   "cell_type": "code",
   "execution_count": 482,
   "metadata": {},
   "outputs": [
    {
     "data": {
      "text/html": [
       "<div>\n",
       "<style scoped>\n",
       "    .dataframe tbody tr th:only-of-type {\n",
       "        vertical-align: middle;\n",
       "    }\n",
       "\n",
       "    .dataframe tbody tr th {\n",
       "        vertical-align: top;\n",
       "    }\n",
       "\n",
       "    .dataframe thead th {\n",
       "        text-align: right;\n",
       "    }\n",
       "</style>\n",
       "<table border=\"1\" class=\"dataframe\">\n",
       "  <thead>\n",
       "    <tr style=\"text-align: right;\">\n",
       "      <th></th>\n",
       "      <th>user_id</th>\n",
       "      <th>user_url</th>\n",
       "      <th>posted</th>\n",
       "      <th>item_id</th>\n",
       "      <th>recommend</th>\n",
       "      <th>review</th>\n",
       "      <th>sentiment</th>\n",
       "      <th>game_title</th>\n",
       "      <th>developer</th>\n",
       "      <th>price</th>\n",
       "    </tr>\n",
       "  </thead>\n",
       "  <tbody>\n",
       "    <tr>\n",
       "      <th>11707</th>\n",
       "      <td>54678907652</td>\n",
       "      <td>http://steamcommunity.com/id/54678907652</td>\n",
       "      <td>2015-04-24</td>\n",
       "      <td>252490</td>\n",
       "      <td>False</td>\n",
       "      <td>WORST INVESTMENT DO NOT RECOMENDdo you like wa...</td>\n",
       "      <td>2</td>\n",
       "      <td>Rust</td>\n",
       "      <td>Facepunch Studios</td>\n",
       "      <td>19.99</td>\n",
       "    </tr>\n",
       "  </tbody>\n",
       "</table>\n",
       "</div>"
      ],
      "text/plain": [
       "           user_id                                  user_url      posted  \\\n",
       "11707  54678907652  http://steamcommunity.com/id/54678907652  2015-04-24   \n",
       "\n",
       "      item_id recommend                                             review  \\\n",
       "11707  252490     False  WORST INVESTMENT DO NOT RECOMENDdo you like wa...   \n",
       "\n",
       "       sentiment game_title          developer  price  \n",
       "11707          2       Rust  Facepunch Studios  19.99  "
      ]
     },
     "execution_count": 482,
     "metadata": {},
     "output_type": "execute_result"
    }
   ],
   "source": [
    "all_dfs.sample()"
   ]
  },
  {
   "cell_type": "code",
   "execution_count": 606,
   "metadata": {},
   "outputs": [],
   "source": [
    "game_item.to_parquet('./clean_datasets/game_items.parquet')\n",
    "all_dfs.to_parquet('./clean_datasets/all_dfs.parquet')"
   ]
  },
  {
   "cell_type": "code",
   "execution_count": 602,
   "metadata": {},
   "outputs": [],
   "source": [
    "def developer(developer:str):\n",
    "  '''\n",
    "  Devuelve la cantidad de items y el porcentaje de contenido Free por año\n",
    "  segun empresa desarrolladora.\n",
    "  '''\n",
    "  df = game_item[game_item['developer']==developer]\n",
    "  items = df.groupby('release_date')['developer'].count().reset_index()\n",
    "  free = df[df['price']==0].groupby('release_date')['developer'].count().reset_index()\n",
    "  \n",
    "  \n",
    "  rows = []\n",
    "  for i,x in enumerate(items.itertuples()):\n",
    "    try:\n",
    "      free_content = round((free['developer'].iloc[i]/x.developer)*100,2)\n",
    "    except:\n",
    "      free_content = 0\n",
    "\n",
    "    rows.append({\"Año\":x.release_date,\"Cantidad de items\":x.developer,\"Contenido Free\":f\"{free_content}%\"})\n",
    "  res = {\n",
    "    developer:rows\n",
    "  }\n",
    "  return res"
   ]
  },
  {
   "cell_type": "code",
   "execution_count": 603,
   "metadata": {},
   "outputs": [
    {
     "data": {
      "text/plain": [
       "{'PopCap Games, Inc.': [{'Año': 2006,\n",
       "   'Cantidad de items': 892,\n",
       "   'Contenido Free': '75.67%'},\n",
       "  {'Año': 2007, 'Cantidad de items': 1429, 'Contenido Free': '0%'},\n",
       "  {'Año': 2008, 'Cantidad de items': 168, 'Contenido Free': '0%'}]}"
      ]
     },
     "execution_count": 603,
     "metadata": {},
     "output_type": "execute_result"
    }
   ],
   "source": [
    "developer('PopCap Games, Inc.')"
   ]
  },
  {
   "cell_type": "code",
   "execution_count": 523,
   "metadata": {},
   "outputs": [],
   "source": [
    "def user_data(user_id:str):\n",
    "  '''\n",
    "  Devuelve la cantidad de dinero gastado por el usuario mas el \n",
    "  porcentaje de recomendacion y la cantidad de items\n",
    "  '''\n",
    "  df = all_dfs[all_dfs['user_id']==user_id]\n",
    "  money = df['price'].sum()\n",
    "  items = len(df)\n",
    "\n",
    "  user_reviews = reviews[reviews['user_id']==user_id]\n",
    "  recommendation = (user_reviews['recommend'].sum()/len(user_reviews))*100\n",
    "\n",
    "  res = {\n",
    "    \"Usuario X\": user_id,\n",
    "    \"Dinero gastado\": money,\n",
    "    \"% de recomendacion\": f\"{recommendation}%\",\n",
    "    \"Cantidad de items\": items\n",
    "  }\n",
    "\n",
    "  return  res\n"
   ]
  },
  {
   "cell_type": "code",
   "execution_count": 487,
   "metadata": {},
   "outputs": [
    {
     "data": {
      "text/plain": [
       "{'Usuario X': '54678907652',\n",
       " 'Dinero gastado': 89.94,\n",
       " '% de recomendacion': '50.0%',\n",
       " 'Cantidad de items': 7}"
      ]
     },
     "execution_count": 487,
     "metadata": {},
     "output_type": "execute_result"
    }
   ],
   "source": [
    "user_data('54678907652')"
   ]
  },
  {
   "cell_type": "code",
   "execution_count": 488,
   "metadata": {},
   "outputs": [],
   "source": [
    "def user_for_genre(genre:str):\n",
    "  '''\n",
    "  Devuelve el usuario con mas horas jugadas para el genero dado \n",
    "  y una lista de acumulaciones de horas jugadas por año\n",
    "  '''\n",
    "  df = game_item[game_item['genres']==genre]\n",
    "\n",
    "  user = df.groupby('user_id')['playtime_forever'].sum().sort_values(ascending=False).index[0]\n",
    "  hours = df[df['user_id']==user].groupby('release_date')['playtime_forever'].sum()\n",
    "\n",
    "  year = []\n",
    "  for i,x in enumerate(hours):\n",
    "    if x!=0:\n",
    "      year.append({\"Año\":hours.index[i],\"Horas\":int(x)})\n",
    "\n",
    "  res = {\n",
    "    f\"Usuario con mas horas jugadas para Genero {genre}\":user,\n",
    "    \"Horas Jugadas\": year\n",
    "  }\n",
    "  return res"
   ]
  },
  {
   "cell_type": "code",
   "execution_count": 489,
   "metadata": {},
   "outputs": [
    {
     "data": {
      "text/plain": [
       "{'Usuario con mas horas jugadas para Genero Adventure': 'REBAS_AS_F-T',\n",
       " 'Horas Jugadas': [{'Año': 2003, 'Horas': 1863},\n",
       "  {'Año': 2005, 'Horas': 1113},\n",
       "  {'Año': 2008, 'Horas': 1241},\n",
       "  {'Año': 2009, 'Horas': 16913},\n",
       "  {'Año': 2010, 'Horas': 16069},\n",
       "  {'Año': 2011, 'Horas': 54983},\n",
       "  {'Año': 2012, 'Horas': 107829},\n",
       "  {'Año': 2013, 'Horas': 205688},\n",
       "  {'Año': 2014, 'Horas': 154961},\n",
       "  {'Año': 2015, 'Horas': 575410},\n",
       "  {'Año': 2016, 'Horas': 713970},\n",
       "  {'Año': 2017, 'Horas': 32620}]}"
      ]
     },
     "execution_count": 489,
     "metadata": {},
     "output_type": "execute_result"
    }
   ],
   "source": [
    "user_for_genre('Adventure')"
   ]
  },
  {
   "cell_type": "code",
   "execution_count": 490,
   "metadata": {},
   "outputs": [
    {
     "data": {
      "text/plain": [
       "\"[{'Puesto 1' : X}, {'Puesto 2' : Y},{'Puesto 3': Z}]\""
      ]
     },
     "execution_count": 490,
     "metadata": {},
     "output_type": "execute_result"
    }
   ],
   "source": [
    "def best_developer_year(year:int):\n",
    "  '''\n",
    "  Devuelve el top 3 de desarrolladores con juegos mas recomendados por usuarios para el año dado.\n",
    "  '''\n",
    "  df = all_dfs[pd.to_datetime(all_dfs['posted']).dt.year == int(year)].copy()\n",
    "  df['posted'] = pd.to_datetime(df['posted']).dt.year\n",
    "  recommendation = df.groupby('developer')['recommend'].sum().sort_values(ascending=False)[:3]\n",
    "  \n",
    "  res = {\n",
    "    \"Año\":year,\n",
    "    \"Res\":[\n",
    "      {\"Puesto 1\":recommendation.index[0]},\n",
    "      {\"Puesto 2\":recommendation.index[1]},\n",
    "      {\"Puesto 3\":recommendation.index[2]}\n",
    "    ]\n",
    "  }\n",
    "  return res\n",
    "\"[{'Puesto 1' : X}, {'Puesto 2' : Y},{'Puesto 3': Z}]\""
   ]
  },
  {
   "cell_type": "code",
   "execution_count": 491,
   "metadata": {},
   "outputs": [
    {
     "data": {
      "text/plain": [
       "{'Año': 2015,\n",
       " 'Res': [{'Puesto 1': 'Valve'},\n",
       "  {'Puesto 2': 'Facepunch Studios'},\n",
       "  {'Puesto 3': 'Smartly Dressed Games'}]}"
      ]
     },
     "execution_count": 491,
     "metadata": {},
     "output_type": "execute_result"
    }
   ],
   "source": [
    "best_developer_year(2015)"
   ]
  },
  {
   "cell_type": "code",
   "execution_count": 444,
   "metadata": {},
   "outputs": [
    {
     "data": {
      "text/plain": [
       "\"{'Valve' : [Negative = 182, Positive = 278]}\""
      ]
     },
     "execution_count": 444,
     "metadata": {},
     "output_type": "execute_result"
    }
   ],
   "source": [
    "\n",
    "def developer_reviews_analysis(developer:str):\n",
    "  '''\n",
    "  Devuelve un diccionario con el nombre del desarrollador como llave y una lista con la cantidad total de registros de reseñas de usuarios que se encuentren categorizados con un analisis de sentimiento como valor positivo o negativo.\n",
    "  '''\n",
    "  sentiments = all_dfs['sentiment'].value_counts()\n",
    "  res = {\n",
    "    developer:{\n",
    "      \"Negative\":sentiments.values[2], \n",
    "      \"Positive\":sentiments.values[0]\n",
    "    }\n",
    "  }\n",
    "  return res"
   ]
  },
  {
   "cell_type": "code",
   "execution_count": 445,
   "metadata": {},
   "outputs": [
    {
     "data": {
      "text/plain": [
       "{'Valve': {'Negative': 4221, 'Positive': 17638}}"
      ]
     },
     "execution_count": 445,
     "metadata": {},
     "output_type": "execute_result"
    }
   ],
   "source": [
    "developer_reviews_analysis('Valve')"
   ]
  }
 ],
 "metadata": {
  "kernelspec": {
   "display_name": "pi",
   "language": "python",
   "name": "python3"
  },
  "language_info": {
   "codemirror_mode": {
    "name": "ipython",
    "version": 3
   },
   "file_extension": ".py",
   "mimetype": "text/x-python",
   "name": "python",
   "nbconvert_exporter": "python",
   "pygments_lexer": "ipython3",
   "version": "3.11.5"
  }
 },
 "nbformat": 4,
 "nbformat_minor": 2
}
